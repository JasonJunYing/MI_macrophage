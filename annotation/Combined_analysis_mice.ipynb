{
 "cells": [
  {
   "cell_type": "markdown",
   "id": "subjective-tulsa",
   "metadata": {},
   "source": [
    "# Combined analysis (mice)"
   ]
  },
  {
   "cell_type": "code",
   "execution_count": null,
   "id": "analyzed-gothic",
   "metadata": {},
   "outputs": [],
   "source": [
    "#%matplotlib nbagg\n",
    "import numpy as np\n",
    "import matplotlib.pyplot as plt\n",
    "import scanpy as sc\n",
    "import pandas as pd\n",
    "from os import listdir\n",
    "from os.path import isfile, join\n",
    "import re\n",
    "import anndata\n",
    "import seaborn as sns\n",
    "\n",
    "plt.rcParams['pdf.fonttype'] = 42\n",
    "plt.rcParams['ps.fonttype'] = 42\n",
    "\n",
    "sc.settings.verbosity = 3  # verbosity: errors (0), warnings (1), info (2), hints (3)\n",
    "sc.logging.print_header()\n",
    "\n",
    "from matplotlib.colors import LinearSegmentedColormap\n",
    "cmap = LinearSegmentedColormap.from_list(name='gene_cmap', colors=['lightgrey', 'thistle', 'red', 'darkred']) \n",
    "\n",
    "sc.settings.set_figure_params(dpi=80, color_map='viridis', vector_friendly=False,  dpi_save=300)"
   ]
  },
  {
   "cell_type": "code",
   "execution_count": null,
   "id": "incorporate-prince",
   "metadata": {
    "scrolled": true
   },
   "outputs": [],
   "source": [
    "# EMTAB7365 - Farbehi 2019 Elife\n",
    "Farbehi1 = sc.read('/nfs01data1/Groups/Wangxiaonan/share/rev_MI/EMTAB7365/write/EMTAB7365_processed.h5ad', cache=True)\n",
    "# EMTAB7376 - Farbehi 2019 Elife\n",
    "Farbehi2 = sc.read('/nfs01data1/Groups/Wangxiaonan/share/rev_MI/EMTAB7376/write/EMTAB7376_processed.h5ad', cache=True)\n",
    "# EMTAB7895 - Forte 2020 CellReports\n",
    "Forte = sc.read('/nfs01data1/Groups/Wangxiaonan/share/rev_MI/EMTAB7895/write/EMTAB7895_processed.h5ad', cache=True)\n",
    "# EMTAB9816 - Tombor 2021 NC\n",
    "Tombor1 = sc.read('/nfs01data1/Groups/Wangxiaonan/share/rev_MI/EMTAB9816/write/EMTAB9816_processed.h5ad', cache=True)\n",
    "# EMTAB9817 - Tombor 2021 NC\n",
    "Tombor2 = sc.read('/nfs01data1/Groups/Wangxiaonan/share/rev_MI/EMTAB9817/write/EMTAB9817_processed.h5ad', cache=True)\n",
    "# GSE102048 - Kretzschmar 2018 PNAS\n",
    "Kretzschmar = sc.read('/nfs01data1/Groups/Wangxiaonan/share/rev_MI/GSE102048/write/GSE102048_processed.h5ad', cache=True)\n",
    "# GSE132146 - Ruiz Villalba 2020 Circulation\n",
    "RuizVillalba = sc.read('/nfs01data1/Groups/Wangxiaonan/share/rev_MI/GSE132146/write/GSE132146_processed.h5ad', cache=True)\n",
    "# GSE146285 - Molenaar 2021 CommBiology\n",
    "Molenaar = sc.read('/nfs01data1/Groups/Wangxiaonan/share/rev_MI/GSE146285/write/GSE146285_processed.h5ad', cache=True)\n",
    "# GSE153480 - Wang 2020 CellReports\n",
    "Wang = sc.read('/nfs01data1/Groups/Wangxiaonan/share/rev_MI/GSE153480/write/GSE153480_processed.h5ad', cache=True)"
   ]
  },
  {
   "cell_type": "code",
   "execution_count": null,
   "id": "practical-thriller",
   "metadata": {},
   "outputs": [],
   "source": [
    "Farbehi1 = anndata.AnnData(X=Farbehi1.raw.X, obs=Farbehi1.obs, var=Farbehi1.raw.var, obsm=Farbehi1.obsm)\n",
    "Farbehi2 = anndata.AnnData(X=Farbehi2.raw.X, obs=Farbehi2.obs, var=Farbehi2.raw.var, obsm=Farbehi2.obsm)\n",
    "Forte = anndata.AnnData(X=Forte.raw.X, obs=Forte.obs, var=Forte.raw.var, obsm=Forte.obsm)\n",
    "Tombor1 = anndata.AnnData(X=Tombor1.raw.X, obs=Tombor1.obs, var=Tombor1.raw.var, obsm=Tombor1.obsm)\n",
    "Tombor2 = anndata.AnnData(X=Tombor2.raw.X, obs=Tombor2.obs, var=Tombor2.raw.var, obsm=Tombor2.obsm)\n",
    "Kretzschmar = anndata.AnnData(X=Kretzschmar.raw.X, obs=Kretzschmar.obs, var=Kretzschmar.raw.var, obsm=Kretzschmar.obsm)\n",
    "RuizVillalba = anndata.AnnData(X=RuizVillalba.raw.X, obs=RuizVillalba.obs, var=RuizVillalba.raw.var, obsm=RuizVillalba.obsm)\n",
    "Molenaar = anndata.AnnData(X=Molenaar.raw.X, obs=Molenaar.obs, var=Molenaar.raw.var, obsm=Molenaar.obsm)\n",
    "Wang = anndata.AnnData(X=Wang.raw.X, obs=Wang.obs, var=Wang.raw.var, obsm=Wang.obsm)"
   ]
  },
  {
   "cell_type": "code",
   "execution_count": null,
   "id": "1a803b4b",
   "metadata": {},
   "outputs": [],
   "source": [
    "print('Farbehi1'+str(Farbehi1.shape))\n",
    "print('Farbehi2'+str(Farbehi2.shape))\n",
    "print('Forte'+str(Forte.shape))\n",
    "print('Tombor1'+str(Tombor1.shape))\n",
    "print('Tombor2'+str(Tombor2.shape))\n",
    "print('Kretzschmar'+str(Kretzschmar.shape))\n",
    "print('RuizVillalba'+str(RuizVillalba.shape))\n",
    "print('Molenaar'+str(Molenaar.shape))\n",
    "print('Wang'+str(Wang.shape))"
   ]
  },
  {
   "cell_type": "code",
   "execution_count": null,
   "id": "furnished-guard",
   "metadata": {},
   "outputs": [],
   "source": [
    "adata = [Farbehi1, Farbehi2, Forte, Tombor1, Tombor2, Kretzschmar, RuizVillalba, Molenaar, Wang]"
   ]
  },
  {
   "cell_type": "code",
   "execution_count": null,
   "id": "seeing-vintage",
   "metadata": {},
   "outputs": [],
   "source": [
    "adata[0].var_names = [x.replace('+AC0', '') for x in adata[0].var_names]"
   ]
  },
  {
   "cell_type": "code",
   "execution_count": null,
   "id": "featured-defeat",
   "metadata": {},
   "outputs": [],
   "source": [
    "adata[0].var_names"
   ]
  },
  {
   "cell_type": "code",
   "execution_count": null,
   "id": "hundred-conversion",
   "metadata": {},
   "outputs": [],
   "source": [
    "# for i in range(len(adata)):\n",
    "#     adata[i].var_names = [x[0].upper()+x[1:].lower() for x in adata[i].var_names] "
   ]
  },
  {
   "cell_type": "code",
   "execution_count": null,
   "id": "graphic-closer",
   "metadata": {},
   "outputs": [],
   "source": [
    "for i in range(len(adata)):\n",
    "    print(adata[i].shape)\n",
    "    adata[i].var_names_make_unique()"
   ]
  },
  {
   "cell_type": "code",
   "execution_count": null,
   "id": "after-privilege",
   "metadata": {},
   "outputs": [],
   "source": [
    "#combine and save the raw counts\n",
    "adata1 = anndata.AnnData.concatenate(*adata,join='outer')"
   ]
  },
  {
   "cell_type": "code",
   "execution_count": null,
   "id": "southeast-express",
   "metadata": {},
   "outputs": [],
   "source": [
    "adata1.shape"
   ]
  },
  {
   "cell_type": "code",
   "execution_count": null,
   "id": "8af82cfe",
   "metadata": {},
   "outputs": [],
   "source": [
    "adata1.obs.to_csv('adata_all.csv')"
   ]
  },
  {
   "cell_type": "code",
   "execution_count": null,
   "id": "subjective-breeding",
   "metadata": {},
   "outputs": [],
   "source": [
    "adata1.write('./Analysis_yj/write/combined_org.h5ad')"
   ]
  },
  {
   "cell_type": "markdown",
   "id": "loved-electric",
   "metadata": {},
   "source": [
    "# Integrate data"
   ]
  },
  {
   "cell_type": "code",
   "execution_count": null,
   "id": "bright-funds",
   "metadata": {},
   "outputs": [],
   "source": [
    "adata = sc.read('./Analysis_yj/write/combined_org.h5ad',cache=True)"
   ]
  },
  {
   "cell_type": "code",
   "execution_count": null,
   "id": "4b78195f",
   "metadata": {},
   "outputs": [],
   "source": [
    "adata = anndata.AnnData(X=adata.raw.X,obs=adata.obs,var=adata.raw.var,obsm=adata.obsm)"
   ]
  },
  {
   "cell_type": "code",
   "execution_count": null,
   "id": "designed-bridge",
   "metadata": {},
   "outputs": [],
   "source": [
    "print(adata.obs_keys())"
   ]
  },
  {
   "cell_type": "code",
   "execution_count": null,
   "id": "distinguished-introduction",
   "metadata": {},
   "outputs": [],
   "source": [
    "sc.external.pp.harmony_integrate(adata, key='Index', adjusted_basis = 'X_pca_harmony_Index')"
   ]
  },
  {
   "cell_type": "code",
   "execution_count": null,
   "id": "optimum-prison",
   "metadata": {},
   "outputs": [],
   "source": [
    "'X_pca_harmony_Index' in adata.obsm"
   ]
  },
  {
   "cell_type": "code",
   "execution_count": null,
   "id": "jewish-default",
   "metadata": {},
   "outputs": [],
   "source": [
    "sc.pp.neighbors(adata, use_rep = 'X_pca_harmony_Index')"
   ]
  },
  {
   "cell_type": "code",
   "execution_count": null,
   "id": "norwegian-direction",
   "metadata": {},
   "outputs": [],
   "source": [
    "sc.tl.umap(adata)"
   ]
  },
  {
   "cell_type": "code",
   "execution_count": null,
   "id": "covered-arrow",
   "metadata": {},
   "outputs": [],
   "source": [
    "sc.pl.umap(adata, color= ['Condition', 'Day', 'Age', 'StudyID'], wspace=0.3)"
   ]
  },
  {
   "cell_type": "code",
   "execution_count": null,
   "id": "comfortable-denver",
   "metadata": {},
   "outputs": [],
   "source": [
    "adata.write('../../rev_MI/Analysis_mouse/WithCyclings/Outer/combined_outer.h5ad')"
   ]
  },
  {
   "cell_type": "markdown",
   "id": "painful-revelation",
   "metadata": {},
   "source": [
    "# Harmony - hvg all"
   ]
  },
  {
   "cell_type": "code",
   "execution_count": null,
   "id": "decimal-effects",
   "metadata": {},
   "outputs": [],
   "source": [
    "adata.raw = adata"
   ]
  },
  {
   "cell_type": "code",
   "execution_count": null,
   "id": "statutory-background",
   "metadata": {},
   "outputs": [],
   "source": [
    "np.min(adata.X)"
   ]
  },
  {
   "cell_type": "code",
   "execution_count": null,
   "id": "severe-settlement",
   "metadata": {},
   "outputs": [],
   "source": [
    "np.max(adata.X)"
   ]
  },
  {
   "cell_type": "code",
   "execution_count": null,
   "id": "pleased-google",
   "metadata": {},
   "outputs": [],
   "source": [
    "# find highly variable genes\n",
    "sc.pp.highly_variable_genes(\n",
    "    adata, min_mean=0.02, max_mean=3, min_disp=0.3, batch_key='Index', inplace=True)"
   ]
  },
  {
   "cell_type": "code",
   "execution_count": null,
   "id": "adjusted-puppy",
   "metadata": {},
   "outputs": [],
   "source": [
    "sc.pl.highly_variable_genes(adata)"
   ]
  },
  {
   "cell_type": "code",
   "execution_count": null,
   "id": "revolutionary-conservation",
   "metadata": {},
   "outputs": [],
   "source": [
    "print(np.sum(adata.var.highly_variable))"
   ]
  },
  {
   "cell_type": "code",
   "execution_count": null,
   "id": "political-filling",
   "metadata": {},
   "outputs": [],
   "source": [
    "adata = adata[:, adata.var.highly_variable].copy()"
   ]
  },
  {
   "cell_type": "code",
   "execution_count": null,
   "id": "royal-construction",
   "metadata": {},
   "outputs": [],
   "source": [
    "# scale for pca\n",
    "sc.pp.scale(adata)\n",
    "# pca\n",
    "sc.tl.pca(adata, svd_solver='arpack')"
   ]
  },
  {
   "cell_type": "code",
   "execution_count": null,
   "id": "further-theorem",
   "metadata": {},
   "outputs": [],
   "source": [
    "sc.pl.pca_variance_ratio(adata, log=True)"
   ]
  },
  {
   "cell_type": "code",
   "execution_count": null,
   "id": "cooperative-paper",
   "metadata": {},
   "outputs": [],
   "source": [
    "sc.external.pp.harmony_integrate(adata, key='Index', adjusted_basis = 'X_pca_harmony_Index_combined')"
   ]
  },
  {
   "cell_type": "code",
   "execution_count": null,
   "id": "urban-perfume",
   "metadata": {},
   "outputs": [],
   "source": [
    "sc.pp.neighbors(adata, use_rep = 'X_pca_harmony_Index_combined')"
   ]
  },
  {
   "cell_type": "code",
   "execution_count": null,
   "id": "corresponding-management",
   "metadata": {},
   "outputs": [],
   "source": [
    "sc.tl.umap(adata)"
   ]
  },
  {
   "cell_type": "code",
   "execution_count": null,
   "id": "confused-collective",
   "metadata": {},
   "outputs": [],
   "source": [
    "sc.pl.umap(adata, color= ['Condition', 'Day', 'Age', 'StudyID'], wspace=0.3)"
   ]
  },
  {
   "cell_type": "code",
   "execution_count": null,
   "id": "biblical-problem",
   "metadata": {},
   "outputs": [],
   "source": [
    "adata.write('../../rev_MI/Analysis_mouse/WithCyclings/Outer/combined_outer_overall.h5ad')"
   ]
  },
  {
   "cell_type": "code",
   "execution_count": null,
   "id": "czech-scholarship",
   "metadata": {},
   "outputs": [],
   "source": [
    "adata = sc.read('../../rev_MI/Analysis_mouse/WithCyclings/Outer/combined_outer_overall.h5ad')"
   ]
  },
  {
   "cell_type": "code",
   "execution_count": null,
   "id": "geographic-lawsuit",
   "metadata": {},
   "outputs": [],
   "source": [
    "sc.tl.leiden(adata, resolution=0.5, key_added='Leiden_v1')"
   ]
  },
  {
   "cell_type": "code",
   "execution_count": null,
   "id": "happy-tribune",
   "metadata": {},
   "outputs": [],
   "source": [
    "sc.pl.umap(adata, color=['Leiden_v1'], legend_loc='on data',legend_fontsize=8)"
   ]
  },
  {
   "cell_type": "code",
   "execution_count": null,
   "id": "actual-multimedia",
   "metadata": {},
   "outputs": [],
   "source": [
    "adata.obs.Leiden_v1.value_counts()"
   ]
  },
  {
   "cell_type": "code",
   "execution_count": null,
   "id": "compliant-raising",
   "metadata": {},
   "outputs": [],
   "source": [
    "sc.pl.umap(adata, color='phase')"
   ]
  },
  {
   "cell_type": "code",
   "execution_count": null,
   "id": "failing-explorer",
   "metadata": {},
   "outputs": [],
   "source": [
    "ct = {\n",
    "    'Endo': ['Fabp4', 'Pecam1'],\n",
    "    'EndoI': ['Ly6a', 'Sox17'],\n",
    "    'EndoII': ['Sema3g', 'Efnb2', 'Sox17', 'Hey1'],\n",
    "    'EndoIII': ['Nr2f2', 'Vwf'],\n",
    "    'SMC': ['Rgs5', 'Vtn', 'Kcnj8', 'Cspg4', 'Pdgfrb'],\n",
    "    'Schwann': ['Plp1', 'Kcna1'],\n",
    "    'Gran': ['S100a8'],\n",
    "    'MonoI': ['Plac8'],\n",
    "    'MonoII': ['Saa3', 'Arg1'],\n",
    "    'Macro': ['C1qa', 'Cd68', 'Itgam'],\n",
    "    'DC': ['Cd74', 'Itgam'],\n",
    "    'NK': ['Ms4a4b'],\n",
    "    'T': ['Cd3e', 'Cd3d', 'Lef1'],\n",
    "    'CD8T': ['Cd8a'],\n",
    "    'FibroI': ['Col1a1', 'Gsn', 'Dcn'],\n",
    "    'FibroII': ['Wif1', 'Dkk3'],\n",
    "    'FibroIII': ['Mt2', 'Timp1'],\n",
    "    'MyoF': ['Cthrc1', 'Acta2', 'Postn'],\n",
    "    'Epi': ['Clu', 'Dmkn'],\n",
    "    'CM': ['Myh6', 'Actc1']\n",
    "}"
   ]
  },
  {
   "cell_type": "code",
   "execution_count": null,
   "id": "cooperative-concept",
   "metadata": {},
   "outputs": [],
   "source": [
    "sc.pl.dotplot(adata, groupby='Leiden_v1', var_names=ct, cmap=cmap, swap_axes=True, standard_scale='var',dendrogram=True,\n",
    "             save='Mice_markers.pdf')"
   ]
  },
  {
   "cell_type": "code",
   "execution_count": null,
   "id": "f0045779-241d-49d2-b317-13177482ac3a",
   "metadata": {},
   "outputs": [],
   "source": [
    "sc.pl.dotplot(adata, groupby='Leiden_v1', var_names=ct, cmap=cmap, swap_axes=True, standard_scale='var')"
   ]
  },
  {
   "cell_type": "code",
   "execution_count": null,
   "id": "respective-updating",
   "metadata": {
    "scrolled": true
   },
   "outputs": [],
   "source": [
    "sc.tl.rank_genes_groups(adata, groupby='Leiden_v1', n_genes=adata.raw.shape[1], method='t-test', key_added='DE_Leiden_v1')"
   ]
  },
  {
   "cell_type": "code",
   "execution_count": null,
   "id": "liked-caribbean",
   "metadata": {},
   "outputs": [],
   "source": [
    "adata.write('../../rev_MI/Analysis_mouse/WithCyclings/Outer/combined_outer_overall.h5ad')"
   ]
  },
  {
   "cell_type": "markdown",
   "id": "entertaining-bradley",
   "metadata": {},
   "source": [
    "# Define cell type"
   ]
  },
  {
   "cell_type": "code",
   "execution_count": null,
   "id": "increased-surprise",
   "metadata": {},
   "outputs": [],
   "source": [
    "adata = sc.read('../../rev_MI/Analysis_mouse/WithCyclings/Outer/combined_outer_overall.h5ad')"
   ]
  },
  {
   "cell_type": "code",
   "execution_count": null,
   "id": "paperback-surname",
   "metadata": {},
   "outputs": [],
   "source": [
    "tochange = {\n",
    "    '0': 'Fibro',\n",
    "    '1': 'Fibro',\n",
    "    '2': 'Myeloid',\n",
    "    '3': 'Fibro',\n",
    "    '4': 'Fibro',\n",
    "    '5': 'Fibro',\n",
    "    '6': 'CM',\n",
    "    '7': 'Lympho',\n",
    "    '8': 'Lympho',\n",
    "    '9': 'Myeloid',\n",
    "    '10': 'SMC',\n",
    "    '11': 'Cycling',\n",
    "    '12': 'Fibro',\n",
    "    '13': 'Myeloid',\n",
    "    '14': 'CM',\n",
    "    '15': 'Fibro',\n",
    "    '16': 'Endo',\n",
    "    '17': 'Epi',\n",
    "    '18': 'Endo',\n",
    "    '19': 'Schwann',\n",
    "    '20': 'CM',\n",
    "    '21': 'Fibro',\n",
    "    '22': 'Unknown',\n",
    "    '23': 'Unknown',\n",
    "}\n"
   ]
  },
  {
   "cell_type": "code",
   "execution_count": null,
   "id": "pediatric-persian",
   "metadata": {},
   "outputs": [],
   "source": [
    "adata.obs['CellType_v1'] = [tochange[x] for x in adata.obs.Leiden_v1]"
   ]
  },
  {
   "cell_type": "code",
   "execution_count": null,
   "id": "0de35c4c",
   "metadata": {},
   "outputs": [],
   "source": [
    "fig, ax = plt.subplots(figsize=(6,6))\n",
    "sc.pl.umap(adata, color=['CellType_v1'], legend_fontsize='small', legend_loc='on data', ax=ax, show=False, title='All Cells')\n",
    "plt.savefig('./figures/Mice_All.png', bbox_inches = 'tight', dpi=300)"
   ]
  },
  {
   "cell_type": "code",
   "execution_count": null,
   "id": "b55cf276",
   "metadata": {},
   "outputs": [],
   "source": [
    "adata.write('../../rev_MI/Analysis_mouse/WithCyclings/Outer/combined_outer_overall.h5ad')"
   ]
  },
  {
   "cell_type": "markdown",
   "id": "34f95ab8-2dfb-4b37-a48e-fbce47a7c68e",
   "metadata": {},
   "source": [
    "# Split myeloid"
   ]
  },
  {
   "cell_type": "code",
   "execution_count": null,
   "id": "f1c82257-3a8b-4d35-8f82-efa5dfe6ff81",
   "metadata": {},
   "outputs": [],
   "source": [
    "adata = sc.read('../../rev_MI/Analysis_mouse/WithCyclings/Outer/combined_outer_overall.h5ad')"
   ]
  },
  {
   "cell_type": "code",
   "execution_count": null,
   "id": "superior-exploration",
   "metadata": {},
   "outputs": [],
   "source": [
    "myeloid = adata[adata.obs'CellType_v1'=='Myeloid']"
   ]
  },
  {
   "cell_type": "code",
   "execution_count": null,
   "id": "supposed-parking",
   "metadata": {},
   "outputs": [],
   "source": [
    "myeloid.shape"
   ]
  },
  {
   "cell_type": "code",
   "execution_count": null,
   "id": "rubber-edwards",
   "metadata": {},
   "outputs": [],
   "source": [
    "myeloid.write('./WithCyclings/Outer/Myeloid.h5ad')"
   ]
  },
  {
   "cell_type": "code",
   "execution_count": null,
   "id": "double-moderator",
   "metadata": {},
   "outputs": [],
   "source": []
  }
 ],
 "metadata": {
  "kernelspec": {
   "display_name": "sc182-python",
   "language": "python",
   "name": "sc182"
  },
  "language_info": {
   "codemirror_mode": {
    "name": "ipython",
    "version": 3
   },
   "file_extension": ".py",
   "mimetype": "text/x-python",
   "name": "python",
   "nbconvert_exporter": "python",
   "pygments_lexer": "ipython3",
   "version": "3.8.17"
  }
 },
 "nbformat": 4,
 "nbformat_minor": 5
}
