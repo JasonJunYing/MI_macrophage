{
 "cells": [
  {
   "cell_type": "markdown",
   "id": "230dd00f",
   "metadata": {},
   "source": [
    "# Combined data\n",
    "## Xiaonan Wang\n",
    "## 17Nov2022"
   ]
  },
  {
   "cell_type": "code",
   "execution_count": null,
   "id": "ff59e71a",
   "metadata": {},
   "outputs": [],
   "source": [
    "#%matplotlib nbagg\n",
    "import numpy as np\n",
    "import matplotlib.pyplot as plt\n",
    "import scanpy as sc\n",
    "import pandas as pd\n",
    "from os import listdir\n",
    "from os.path import isfile, join\n",
    "import re\n",
    "import anndata\n",
    "import seaborn as sns\n",
    "\n",
    "plt.rcParams['pdf.fonttype'] = 42\n",
    "plt.rcParams['ps.fonttype'] = 42\n",
    "\n",
    "sc.settings.verbosity = 3  # verbosity: errors (0), warnings (1), info (2), hints (3)\n",
    "sc.logging.print_header()\n",
    "\n",
    "from matplotlib.colors import LinearSegmentedColormap\n",
    "cmap = LinearSegmentedColormap.from_list(name='gene_cmap', colors=['lightgrey', 'thistle', 'red', 'darkred']) \n",
    "\n",
    "sc.settings.set_figure_params(dpi=80, color_map='viridis', vector_friendly=False,  dpi_save=300)"
   ]
  },
  {
   "cell_type": "code",
   "execution_count": null,
   "id": "b8399d54",
   "metadata": {},
   "outputs": [],
   "source": [
    "# GSE138181 - Koth 2020 Development\n",
    "Koth = sc.read('/nfs01data1/Groups/Wangxiaonan/share/rev_MI/GSE138181/write/GSE138181_processed.h5ad', cache=True)\n",
    "# GSE153170 - Bakker 2021 Development\n",
    "Bakker = sc.read('/nfs01data1/Groups/Wangxiaonan/share/rev_MI/GSE153170/write/GSE153170_processed.h5ad', cache=True)\n",
    "# GSE172511 - Sun 2022 Circulation\n",
    "Sun = sc.read('/nfs01data1/Groups/Wangxiaonan/share/rev_MI/GSE172511/write/GSE172511_processed.h5ad', cache=True)\n",
    "# GSE159032 - Hu 2022 Nature genetics\n",
    "Hu = sc.read('/nfs01data1/Groups/Wangxiaonan/share/rev_MI/GSE159032_GSE158919/write/GSE159032_GSE158919_processed_anno.h5ad', cache=True)\n",
    "# GSE188511 - Kapuria 2022 Development\n",
    "Kapuria = sc.read('/nfs01data1/Groups/Wangxiaonan/share/rev_MI/GSE188511/write/GSE188511_processed.h5ad', cache=True)\n",
    "# GSE145980 - Ma 2021 EMBO Reports\n",
    "Ma = sc.read('/nfs01data1/Groups/Wangxiaonan/share/rev_MI/GSE145980/write/GSE145980_processed.h5ad', cache=True)"
   ]
  },
  {
   "cell_type": "code",
   "execution_count": null,
   "id": "de80c0e1",
   "metadata": {},
   "outputs": [],
   "source": [
    "# adata: .X:row: cell, col: gene -> scaled matrix; .var: high variable genes; .obs: cell annotation\n",
    "# adata.raw: .X: log norm, .var: all expressed genes\n",
    "Koth = anndata.AnnData(X=Koth.raw.X, obs=Koth.obs, var=Koth.raw.var, obsm=Koth.obsm)\n",
    "Bakker = anndata.AnnData(X=Bakker.raw.X, obs=Bakker.obs, var=Bakker.raw.var, obsm=Bakker.obsm)\n",
    "Sun = anndata.AnnData(X=Sun.raw.X, obs=Sun.obs, var=Sun.raw.var, obsm=Sun.obsm)\n",
    "Hu = anndata.AnnData(X=Hu.raw.X, obs=Hu.obs, var=Hu.raw.var, obsm=Hu.obsm)\n",
    "Kapuria = anndata.AnnData(X=Kapuria.raw.X, obs=Kapuria.obs, var=Kapuria.raw.var, obsm=Kapuria.obsm)\n",
    "Ma = anndata.AnnData(X=Ma.raw.X, obs=Ma.obs, var=Ma.raw.var, obsm=Ma.obsm)"
   ]
  },
  {
   "cell_type": "code",
   "execution_count": null,
   "id": "b192837d",
   "metadata": {},
   "outputs": [],
   "source": [
    "print('Koth'+str(Koth.shape))\n",
    "print('Bakker'+str(Bakker.shape))\n",
    "print('Sun'+str(Sun.shape))\n",
    "print('Hu'+str(Hu.shape))\n",
    "print('Kapuria'+str(Kapuria.shape))\n",
    "print('Ma'+str(Ma.shape))"
   ]
  },
  {
   "cell_type": "code",
   "execution_count": null,
   "id": "396b9388",
   "metadata": {},
   "outputs": [],
   "source": [
    "adata = [Koth, Bakker, Sun, Hu, Kapuria, Ma]"
   ]
  },
  {
   "cell_type": "code",
   "execution_count": null,
   "id": "9a954a48",
   "metadata": {},
   "outputs": [],
   "source": [
    "for i in range(len(adata)):\n",
    "    print(adata[i].shape)\n",
    "    adata[i].var_names_make_unique()"
   ]
  },
  {
   "cell_type": "code",
   "execution_count": null,
   "id": "9480447f",
   "metadata": {},
   "outputs": [],
   "source": [
    "#combine and save the raw counts\n",
    "adata1 = anndata.AnnData.concatenate(*adata)"
   ]
  },
  {
   "cell_type": "code",
   "execution_count": null,
   "id": "215c1e8a",
   "metadata": {},
   "outputs": [],
   "source": [
    "adata1.shape"
   ]
  },
  {
   "cell_type": "code",
   "execution_count": null,
   "id": "62133f3e",
   "metadata": {},
   "outputs": [],
   "source": [
    "adata1.obs.to_csv('adata_all.csv')"
   ]
  },
  {
   "cell_type": "code",
   "execution_count": null,
   "id": "44701179",
   "metadata": {},
   "outputs": [],
   "source": [
    "adata1.obs['Day'] = adata1.obs['Day'].astype(str)"
   ]
  },
  {
   "cell_type": "code",
   "execution_count": null,
   "id": "674e22b0",
   "metadata": {},
   "outputs": [],
   "source": [
    "del adata1.obs['predicted_db']"
   ]
  },
  {
   "cell_type": "code",
   "execution_count": null,
   "id": "1ac2d2bd",
   "metadata": {},
   "outputs": [],
   "source": [
    "adata1.write('./write/combined_inner.h5ad')"
   ]
  },
  {
   "cell_type": "code",
   "execution_count": null,
   "id": "18213486",
   "metadata": {},
   "outputs": [],
   "source": [
    "adata = sc.read('./write/combined_inner.h5ad')"
   ]
  },
  {
   "cell_type": "code",
   "execution_count": null,
   "id": "4e2b3144",
   "metadata": {},
   "outputs": [],
   "source": [
    "sc.external.pp.harmony_integrate(adata, key='Index', adjusted_basis = 'X_pca_harmony_Index')"
   ]
  },
  {
   "cell_type": "code",
   "execution_count": null,
   "id": "71f636e2",
   "metadata": {},
   "outputs": [],
   "source": [
    "sc.pp.neighbors(adata, use_rep = 'X_pca_harmony_Index')"
   ]
  },
  {
   "cell_type": "code",
   "execution_count": null,
   "id": "57b83055",
   "metadata": {},
   "outputs": [],
   "source": [
    "sc.tl.umap(adata)"
   ]
  },
  {
   "cell_type": "code",
   "execution_count": null,
   "id": "64ca7453",
   "metadata": {},
   "outputs": [],
   "source": [
    "adata.write('./write/combined_inner.h5ad')"
   ]
  },
  {
   "cell_type": "markdown",
   "id": "5a8d226e",
   "metadata": {},
   "source": [
    "# Data Integration"
   ]
  },
  {
   "cell_type": "code",
   "execution_count": null,
   "id": "0bb29c2a",
   "metadata": {},
   "outputs": [],
   "source": [
    "adata = sc.read('./write/combined_inner.h5ad')"
   ]
  },
  {
   "cell_type": "code",
   "execution_count": null,
   "id": "482081ab",
   "metadata": {},
   "outputs": [],
   "source": [
    "adata.raw = adata"
   ]
  },
  {
   "cell_type": "code",
   "execution_count": null,
   "id": "8e6ac485",
   "metadata": {},
   "outputs": [],
   "source": [
    "# find highly variable genes\n",
    "# parameters are mainly selected depends on user preference\n",
    "sc.pp.highly_variable_genes(\n",
    "    adata, min_mean=0.02, max_mean=3, min_disp=0.3, batch_key='Index', inplace=True)"
   ]
  },
  {
   "cell_type": "code",
   "execution_count": null,
   "id": "62f4cdd9",
   "metadata": {},
   "outputs": [],
   "source": [
    "sc.pl.highly_variable_genes(adata)"
   ]
  },
  {
   "cell_type": "code",
   "execution_count": null,
   "id": "0614d27f",
   "metadata": {},
   "outputs": [],
   "source": [
    "print(np.sum(adata.var.highly_variable))"
   ]
  },
  {
   "cell_type": "code",
   "execution_count": null,
   "id": "82d32853",
   "metadata": {},
   "outputs": [],
   "source": [
    "# scale for pca\n",
    "sc.pp.scale(adata)\n",
    "# pca\n",
    "sc.tl.pca(adata, svd_solver='arpack')"
   ]
  },
  {
   "cell_type": "code",
   "execution_count": null,
   "id": "42e19c91",
   "metadata": {},
   "outputs": [],
   "source": [
    "sc.pl.pca_variance_ratio(adata, log=True)"
   ]
  },
  {
   "cell_type": "code",
   "execution_count": null,
   "id": "4a46db81",
   "metadata": {},
   "outputs": [],
   "source": [
    "sc.external.pp.harmony_integrate(adata, key='Index', adjusted_basis = 'X_pca_harmony_Index_combined')"
   ]
  },
  {
   "cell_type": "code",
   "execution_count": null,
   "id": "f4327593",
   "metadata": {},
   "outputs": [],
   "source": [
    "sc.pp.neighbors(adata, use_rep = 'X_pca_harmony_Index_combined')"
   ]
  },
  {
   "cell_type": "code",
   "execution_count": null,
   "id": "c58ed342",
   "metadata": {},
   "outputs": [],
   "source": [
    "sc.tl.umap(adata)"
   ]
  },
  {
   "cell_type": "code",
   "execution_count": null,
   "id": "6ba4d53f",
   "metadata": {},
   "outputs": [],
   "source": [
    "sc.pl.umap(adata, color= ['Condition', 'Day', 'Age', 'StudyID'], wspace=0.3)"
   ]
  },
  {
   "cell_type": "code",
   "execution_count": null,
   "id": "71b378fe",
   "metadata": {},
   "outputs": [],
   "source": [
    "adata.write('./write/combined_inner_overall.h5ad')"
   ]
  },
  {
   "cell_type": "code",
   "execution_count": null,
   "id": "9159f428",
   "metadata": {},
   "outputs": [],
   "source": [
    "pd.crosstab(adata.obs['Day'], adata.obs['StudyID'])"
   ]
  },
  {
   "cell_type": "code",
   "execution_count": null,
   "id": "7c24717f",
   "metadata": {},
   "outputs": [],
   "source": [
    "# get the cell annotation done first\n",
    "sc.pl.umap(adata, color=\"Cell_type\")"
   ]
  },
  {
   "cell_type": "code",
   "execution_count": null,
   "id": "13a95c32",
   "metadata": {},
   "outputs": [],
   "source": [
    "sc.pl.umap(adata, color=\"log1p_n_genes_by_counts\", color_map=cmap)"
   ]
  },
  {
   "cell_type": "code",
   "execution_count": null,
   "id": "a440d06c",
   "metadata": {},
   "outputs": [],
   "source": [
    "fig, ax = plt.subplots(figsize=(10,10))\n",
    "sc.pl.umap(adata, color=\"Cell_type\", legend_loc=\"on data\", legend_fontsize=\"xx-small\", ax=ax, show=False)"
   ]
  },
  {
   "cell_type": "code",
   "execution_count": null,
   "id": "bb4a2729",
   "metadata": {},
   "outputs": [],
   "source": [
    "adata = sc.read('./write/combined_inner_overall.h5ad')"
   ]
  },
  {
   "cell_type": "markdown",
   "id": "c7750062",
   "metadata": {},
   "source": [
    "# Leiden clustering (v1)"
   ]
  },
  {
   "cell_type": "code",
   "execution_count": null,
   "id": "f3cd9e8c",
   "metadata": {},
   "outputs": [],
   "source": [
    "sc.tl.leiden(adata, resolution=0.8, key_added='Leiden_v1')"
   ]
  },
  {
   "cell_type": "code",
   "execution_count": null,
   "id": "1b194bae",
   "metadata": {
    "scrolled": true
   },
   "outputs": [],
   "source": [
    "sc.pl.umap(adata, color='Leiden_v1', legend_loc='on data')"
   ]
  },
  {
   "cell_type": "code",
   "execution_count": null,
   "id": "b69c93e9",
   "metadata": {},
   "outputs": [],
   "source": [
    "adata.write('./write/combined_inner_overall.h5ad')"
   ]
  },
  {
   "cell_type": "markdown",
   "id": "0effecf3",
   "metadata": {},
   "source": [
    "# Filter out low n_genes cells"
   ]
  },
  {
   "cell_type": "code",
   "execution_count": null,
   "id": "965bcbf4",
   "metadata": {},
   "outputs": [],
   "source": [
    "adata = sc.read('./write/combined_inner_overall.h5ad')"
   ]
  },
  {
   "cell_type": "code",
   "execution_count": null,
   "id": "fb024efb",
   "metadata": {},
   "outputs": [],
   "source": [
    "adata.raw = adata"
   ]
  },
  {
   "cell_type": "code",
   "execution_count": null,
   "id": "7a367099",
   "metadata": {},
   "outputs": [],
   "source": [
    "adata.shape"
   ]
  },
  {
   "cell_type": "code",
   "execution_count": null,
   "id": "e1ec6c56",
   "metadata": {},
   "outputs": [],
   "source": [
    "adata = adata[adata.obs['Leiden_v1'] != '9'].copy()"
   ]
  },
  {
   "cell_type": "code",
   "execution_count": null,
   "id": "63e3b021",
   "metadata": {},
   "outputs": [],
   "source": [
    "adata.shape"
   ]
  },
  {
   "cell_type": "code",
   "execution_count": null,
   "id": "d4f1d022",
   "metadata": {},
   "outputs": [],
   "source": [
    "sc.pp.neighbors(adata, use_rep = 'X_pca_harmony_Index_combined')"
   ]
  },
  {
   "cell_type": "code",
   "execution_count": null,
   "id": "dca60c46",
   "metadata": {},
   "outputs": [],
   "source": [
    "sc.tl.umap(adata)"
   ]
  },
  {
   "cell_type": "markdown",
   "id": "c5c46d5f",
   "metadata": {},
   "source": [
    "# Leiden clustering (v2)"
   ]
  },
  {
   "cell_type": "code",
   "execution_count": null,
   "id": "28090a89",
   "metadata": {},
   "outputs": [],
   "source": [
    "sc.tl.leiden(adata, resolution=2, key_added='Leiden_v2')"
   ]
  },
  {
   "cell_type": "code",
   "execution_count": null,
   "id": "62dcad2d",
   "metadata": {},
   "outputs": [],
   "source": [
    "sc.pl.umap(adata, color='Leiden_v2', legend_loc='on data')"
   ]
  },
  {
   "cell_type": "code",
   "execution_count": null,
   "id": "dbf80761",
   "metadata": {},
   "outputs": [],
   "source": [
    "adata = sc.read('./write/combined_inner_overall_filtered.h5ad')"
   ]
  },
  {
   "cell_type": "code",
   "execution_count": null,
   "id": "8f8d91e3",
   "metadata": {},
   "outputs": [],
   "source": [
    "fig, ax = plt.subplots(figsize=(8, 8))\n",
    "sc.pl.umap(adata, color=\"Cell_type\", legend_loc=\"on data\", legend_fontsize=\"xx-small\", ax=ax, show=False)\n",
    "plt.savefig('Umap_zebrafish_integrated.png', bbox_inches='tight')"
   ]
  },
  {
   "cell_type": "code",
   "execution_count": null,
   "id": "d71c4fb9",
   "metadata": {},
   "outputs": [],
   "source": [
    "adata.write('./write/combined_inner_overall_filtered.h5ad')"
   ]
  },
  {
   "cell_type": "code",
   "execution_count": null,
   "id": "b55bcebc",
   "metadata": {},
   "outputs": [],
   "source": [
    "adata.obs['StudyID'].value_counts()"
   ]
  },
  {
   "cell_type": "code",
   "execution_count": null,
   "id": "e44044ed",
   "metadata": {},
   "outputs": [],
   "source": [
    "pd.crosstab(adata.obs['StudyID'], adata.obs['Cell_type'])"
   ]
  },
  {
   "cell_type": "code",
   "execution_count": null,
   "id": "4696ee72",
   "metadata": {},
   "outputs": [],
   "source": [
    "idx1 = np.in1d(adata.obs['StudyID'], ['GSE159032', 'GSE158919'])"
   ]
  },
  {
   "cell_type": "code",
   "execution_count": null,
   "id": "38224e0d",
   "metadata": {},
   "outputs": [],
   "source": [
    "sum(idx1)"
   ]
  },
  {
   "cell_type": "code",
   "execution_count": null,
   "id": "b9d7c4a0",
   "metadata": {},
   "outputs": [],
   "source": [
    "163955+18231"
   ]
  },
  {
   "cell_type": "code",
   "execution_count": null,
   "id": "c66ce8b2",
   "metadata": {},
   "outputs": [],
   "source": [
    "idx2 = np.in1d(adata.obs['StudyID'], ['GSE145980', 'GSE138181', 'GSE172511', 'GSE188511', 'GSE153170'])"
   ]
  },
  {
   "cell_type": "code",
   "execution_count": null,
   "id": "60b51105",
   "metadata": {},
   "outputs": [],
   "source": [
    "sum(idx2)"
   ]
  },
  {
   "cell_type": "markdown",
   "id": "bf3a320e",
   "metadata": {},
   "source": [
    "# Cell type definition (Euclidean distance)"
   ]
  },
  {
   "cell_type": "code",
   "execution_count": null,
   "id": "e221cebc",
   "metadata": {},
   "outputs": [],
   "source": [
    "adata1 = adata[idx1,:].copy()\n",
    "adata2 = adata[idx2,:].copy()"
   ]
  },
  {
   "cell_type": "code",
   "execution_count": null,
   "id": "59977bac",
   "metadata": {},
   "outputs": [],
   "source": [
    "X_pca1 = adata1.obsm['X_pca_harmony_Index_combined']\n",
    "X_pca2 = adata2.obsm['X_pca_harmony_Index_combined']"
   ]
  },
  {
   "cell_type": "code",
   "execution_count": null,
   "id": "2061b54e",
   "metadata": {},
   "outputs": [],
   "source": [
    "from sklearn.metrics.pairwise import euclidean_distances\n",
    "D_sub = euclidean_distances(X_pca2, X_pca1)"
   ]
  },
  {
   "cell_type": "code",
   "execution_count": null,
   "id": "1350d659",
   "metadata": {},
   "outputs": [],
   "source": [
    "print(X_pca1.shape)\n",
    "print(X_pca2.shape)\n",
    "print(D_sub.shape)"
   ]
  },
  {
   "cell_type": "code",
   "execution_count": null,
   "id": "a4bd6adc",
   "metadata": {},
   "outputs": [],
   "source": [
    "from collections import defaultdict\n",
    "cl_assigned = []\n",
    "Rstore = defaultdict(list) # dictionary to store results\n",
    "for i in range(D_sub.shape[0]):\n",
    "    CellDis = D_sub[i,:]\n",
    "    CellDis_sorted = np.argsort(CellDis)[:15]\n",
    "    cl_assigned.append(np.in1d(range(len(CellDis)), CellDis_sorted))\n",
    "    Rstore['MinDist'].append(np.min(CellDis[CellDis_sorted]))\n",
    "    Rstore['MedianDist'].append(np.median(CellDis[CellDis_sorted]))\n",
    "    Rstore['MaxDist'].append(np.max(CellDis[CellDis_sorted]))\n",
    "    Rstore['SD'].append(np.std(CellDis[CellDis_sorted]))\n",
    "    Rstore['CT'].append(adata1[CellDis_sorted,:].obs['Cell_type'].value_counts().index[0])\n",
    "Rstore = pd.DataFrame.from_dict(Rstore)\n",
    "Rstore.index = adata2.obs_names"
   ]
  },
  {
   "cell_type": "code",
   "execution_count": null,
   "id": "fcbc2567",
   "metadata": {},
   "outputs": [],
   "source": [
    "Rstore.head()"
   ]
  },
  {
   "cell_type": "code",
   "execution_count": null,
   "id": "dd22c87e",
   "metadata": {},
   "outputs": [],
   "source": [
    "Rstore.shape"
   ]
  },
  {
   "cell_type": "code",
   "execution_count": null,
   "id": "f1db5b28",
   "metadata": {},
   "outputs": [],
   "source": [
    "Rstore.to_csv('proj_result.csv')"
   ]
  },
  {
   "cell_type": "code",
   "execution_count": null,
   "id": "762e44d2",
   "metadata": {},
   "outputs": [],
   "source": [
    "adata2.obs['Cell_type'] = Rstore['CT'].values"
   ]
  },
  {
   "cell_type": "code",
   "execution_count": null,
   "id": "d31fe9da",
   "metadata": {},
   "outputs": [],
   "source": [
    "fig, ax = plt.subplots(figsize=(8,8))\n",
    "sc.pl.umap(adata2, color=\"Cell_type\", legend_loc=\"on data\", legend_fontsize=\"xx-small\", ax=ax, show=False)"
   ]
  },
  {
   "cell_type": "code",
   "execution_count": null,
   "id": "3aa09b72",
   "metadata": {},
   "outputs": [],
   "source": [
    "adata1.write('./write/GSE159032.h5ad')\n",
    "adata2.write('./write/other.h5ad')"
   ]
  },
  {
   "cell_type": "code",
   "execution_count": null,
   "id": "e585a1b0",
   "metadata": {},
   "outputs": [],
   "source": [
    "adata1 = sc.read('./write/GSE159032.h5ad')\n",
    "adata2 = sc.read('./write/other.h5ad')"
   ]
  },
  {
   "cell_type": "code",
   "execution_count": null,
   "id": "9127b5e1",
   "metadata": {},
   "outputs": [],
   "source": [
    "adata = anndata.concat([adata1,adata2])"
   ]
  },
  {
   "cell_type": "code",
   "execution_count": null,
   "id": "222151de",
   "metadata": {},
   "outputs": [],
   "source": [
    "adata.write('./write/All_outer_leidenv2.h5ad')"
   ]
  },
  {
   "cell_type": "markdown",
   "id": "c997fdf3-4a80-40b8-ad60-795c6fe85ffa",
   "metadata": {},
   "source": [
    "# Extract macrophages and filter"
   ]
  },
  {
   "cell_type": "code",
   "execution_count": null,
   "id": "b7ee3311-70ca-4e80-beb3-e25d5e1d840b",
   "metadata": {},
   "outputs": [],
   "source": [
    "adata = sc.read('./write/All_outer_leidenv2.h5ad')"
   ]
  },
  {
   "cell_type": "code",
   "execution_count": null,
   "id": "205aed61-0c88-4a8d-a5ee-b6d4a98447c9",
   "metadata": {},
   "outputs": [],
   "source": [
    "adata1 = adata[adata.obs.Cell_type=='Macrophages']"
   ]
  },
  {
   "cell_type": "code",
   "execution_count": null,
   "id": "67671729-a230-4d88-92cd-30d0c7e901eb",
   "metadata": {},
   "outputs": [],
   "source": [
    "adata1.shape"
   ]
  },
  {
   "cell_type": "code",
   "execution_count": null,
   "id": "dc1e5f4b-d582-4f86-9f55-cae08101fc81",
   "metadata": {},
   "outputs": [],
   "source": [
    "adata1 = adata1[adata1.obs.Genotype == 'WT']"
   ]
  },
  {
   "cell_type": "code",
   "execution_count": null,
   "id": "fab320bf-cf37-421e-9063-90a71bc7ee72",
   "metadata": {},
   "outputs": [],
   "source": [
    "adata1 = adata1[~np.in1d(adata1.obs.Treatment,['DMSO','IWR','morphine'])]"
   ]
  },
  {
   "cell_type": "code",
   "execution_count": null,
   "id": "7e5c3f5a-63ce-44e2-a5c8-8c031516d94c",
   "metadata": {},
   "outputs": [],
   "source": [
    "adata1 = adata1[(adata1.obs.Tissue == 'heart')|(adata1.obs.Author != 'BoHu')]"
   ]
  },
  {
   "cell_type": "code",
   "execution_count": null,
   "id": "abcb6d0c-4ee0-4e2b-bf16-90ec215ebc2a",
   "metadata": {},
   "outputs": [],
   "source": [
    "adata1.write('./Final_write/ZF_mac.h5ad')"
   ]
  }
 ],
 "metadata": {
  "kernelspec": {
   "display_name": "sc182-python",
   "language": "python",
   "name": "sc182"
  },
  "language_info": {
   "codemirror_mode": {
    "name": "ipython",
    "version": 3
   },
   "file_extension": ".py",
   "mimetype": "text/x-python",
   "name": "python",
   "nbconvert_exporter": "python",
   "pygments_lexer": "ipython3",
   "version": "3.8.17"
  }
 },
 "nbformat": 4,
 "nbformat_minor": 5
}
