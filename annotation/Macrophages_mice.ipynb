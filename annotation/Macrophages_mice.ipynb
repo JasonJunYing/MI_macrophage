{
 "cells": [
  {
   "cell_type": "markdown",
   "id": "roman-interaction",
   "metadata": {},
   "source": [
    "# Macrophages_mice （from myeloid)"
   ]
  },
  {
   "cell_type": "code",
   "execution_count": null,
   "id": "altered-trial",
   "metadata": {},
   "outputs": [],
   "source": [
    "#%matplotlib nbagg\n",
    "import numpy as np\n",
    "import matplotlib.pyplot as plt\n",
    "import scanpy as sc\n",
    "import pandas as pd\n",
    "from os import listdir\n",
    "from os.path import isfile, join\n",
    "import re\n",
    "import anndata\n",
    "import seaborn as sns\n",
    "\n",
    "plt.rcParams['pdf.fonttype'] = 42\n",
    "plt.rcParams['ps.fonttype'] = 42\n",
    "\n",
    "sc.settings.verbosity = 3  # verbosity: errors (0), warnings (1), info (2), hints (3)\n",
    "sc.logging.print_header()\n",
    "\n",
    "from matplotlib.colors import LinearSegmentedColormap\n",
    "cmap = LinearSegmentedColormap.from_list(name='gene_cmap', colors=['lightgrey', 'thistle', 'red', 'darkred']) \n",
    "\n",
    "sc.settings.set_figure_params(dpi=80, color_map='viridis', vector_friendly=False,  dpi_save=300)"
   ]
  },
  {
   "cell_type": "markdown",
   "id": "35f347a0",
   "metadata": {},
   "source": [
    "Recluster using all myeloid cells to improve accuracy"
   ]
  },
  {
   "cell_type": "markdown",
   "id": "e8098e38",
   "metadata": {},
   "source": [
    "# Recalculate UMAP"
   ]
  },
  {
   "cell_type": "code",
   "execution_count": null,
   "id": "complimentary-effect",
   "metadata": {},
   "outputs": [],
   "source": [
    "adata = sc.read('../../rev_MI/Analysis_mouse/WithCyclings/Outer/Myeloid.h5ad')"
   ]
  },
  {
   "cell_type": "code",
   "execution_count": null,
   "id": "949c8c83",
   "metadata": {},
   "outputs": [],
   "source": [
    "adata.shape"
   ]
  },
  {
   "cell_type": "code",
   "execution_count": null,
   "id": "documentary-consortium",
   "metadata": {
    "scrolled": true
   },
   "outputs": [],
   "source": [
    "adata = anndata.AnnData(X=adata.raw.X, obs=adata.obs, var=adata.raw.var)\n",
    "adata.raw = adata\n",
    "# Cells look ok, filter out non-expressing genes\n",
    "sc.pp.filter_genes(adata, min_cells=1)\n",
    "# find highly variable genes\n",
    "# parameters are mainly selected depends on user preference\n",
    "sc.pp.highly_variable_genes(\n",
    "    adata, min_mean=0.02, max_mean=3, min_disp=0.3, batch_key='StudyID', inplace=True)\n",
    "sc.pl.highly_variable_genes(adata)\n",
    "print(np.sum(adata.var.highly_variable))\n",
    "adata = adata[:, adata.var.highly_variable].copy()\n",
    "# scale for pca\n",
    "sc.pp.scale(adata)\n",
    "# pca\n",
    "sc.tl.pca(adata, svd_solver='arpack')\n",
    "sc.external.pp.harmony_integrate(adata, key='Index', adjusted_basis = 'X_pca_harmony_Index_combined')\n",
    "sc.pp.neighbors(adata, use_rep = 'X_pca_harmony_Index_combined')\n",
    "sc.tl.umap(adata)\n",
    "sc.pl.umap(adata, color= ['Condition', 'Day', 'Age', 'StudyID'], wspace=0.3)"
   ]
  },
  {
   "cell_type": "code",
   "execution_count": null,
   "id": "9641a386",
   "metadata": {},
   "outputs": [],
   "source": [
    "sc.pl.umap(adata, color= ['Condition', 'Day', 'Age', 'StudyID'], wspace=0.3)"
   ]
  },
  {
   "cell_type": "code",
   "execution_count": null,
   "id": "a3cdc8c5",
   "metadata": {},
   "outputs": [],
   "source": [
    "adata.obs.Development_stage.value_counts()"
   ]
  },
  {
   "cell_type": "code",
   "execution_count": null,
   "id": "045768ac-844b-43f7-94b4-838e262f85e5",
   "metadata": {},
   "outputs": [],
   "source": [
    "adata.write('../../rev_MI/Analysis_mouse/WithCyclings/Outer/Myeloid_processed.h5ad')"
   ]
  },
  {
   "cell_type": "markdown",
   "id": "95ed227a-ec46-45f4-84c1-cf8c94f72221",
   "metadata": {},
   "source": [
    "# Clustering"
   ]
  },
  {
   "cell_type": "code",
   "execution_count": null,
   "id": "4b70fa46",
   "metadata": {},
   "outputs": [],
   "source": [
    "adata = sc.read('../../rev_MI/Analysis_mouse/WithCyclings/Outer/Myeloid_processed.h5ad')"
   ]
  },
  {
   "cell_type": "code",
   "execution_count": null,
   "id": "social-instrumentation",
   "metadata": {},
   "outputs": [],
   "source": [
    "sc.tl.leiden(adata, resolution=0.3, key_added='Leiden_myeloid')"
   ]
  },
  {
   "cell_type": "code",
   "execution_count": null,
   "id": "alternative-alcohol",
   "metadata": {},
   "outputs": [],
   "source": [
    "sc.pl.umap(adata, color='Leiden_myeloid', legend_loc='on data')"
   ]
  },
  {
   "cell_type": "code",
   "execution_count": null,
   "id": "c5ec6a2e",
   "metadata": {},
   "outputs": [],
   "source": [
    "adata.obs.Leiden_myeloid.value_counts()"
   ]
  },
  {
   "cell_type": "code",
   "execution_count": null,
   "id": "respected-starter",
   "metadata": {},
   "outputs": [],
   "source": [
    "sc.pl.umap(adata, color=['Fn1', 'Tcf21', 'Wt1', 'Acta2', 'Pecam1','Aurkb'], color_map=cmap)"
   ]
  },
  {
   "cell_type": "code",
   "execution_count": null,
   "id": "5f9b32d2",
   "metadata": {},
   "outputs": [],
   "source": [
    "sc.tl.leiden(adata, resolution=1, key_added='Leiden_new')"
   ]
  },
  {
   "cell_type": "code",
   "execution_count": null,
   "id": "b1554fcb-a154-4a5d-a5c6-cc6ad4f336c8",
   "metadata": {},
   "outputs": [],
   "source": [
    "adata.write('../../rev_MI/Analysis_mouse/WithCyclings/Outer/Myeloid_processed.h5ad')"
   ]
  },
  {
   "cell_type": "markdown",
   "id": "d0521f3a-604e-4f21-ab8c-f7c7aa1d6f64",
   "metadata": {},
   "source": [
    "# Subset and annotate macrophages"
   ]
  },
  {
   "cell_type": "code",
   "execution_count": null,
   "id": "77bb46f4-0730-41f0-b0db-1d6d321ba2c5",
   "metadata": {},
   "outputs": [],
   "source": [
    "adata = sc.read('../../rev_MI/Analysis_mouse/WithCyclings/Outer/Myeloid_processed.h5ad')"
   ]
  },
  {
   "cell_type": "code",
   "execution_count": null,
   "id": "eca895ce",
   "metadata": {},
   "outputs": [],
   "source": [
    "GLfinal = {\n",
    "    'Ma': ['C1qc', 'Apoe', 'Mertk','Cd68', 'Cd63'],\n",
    "    'Ma-TR': ['Cx3cr1', 'Cd81'],\n",
    "    'Ma-TR-Cd163': ['Cd163', 'Maf', 'Igf1'],\n",
    "    'Ma-TR-Cd83+': ['Cd83', 'Il10'],\n",
    "    'Ma-TR-Cd83-': ['Cd74', 'Ccr2'],\n",
    "    'Ma-LAM': ['Trem2'],\n",
    "    'Ma-MD-Gdf15': ['Gdf15','Mpeg1'],\n",
    "    'Ma-MD-Prdx1': ['Prdx1', 'Lgals3','Anxa1','Ftl1'],\n",
    "    'Ma-MD-Cxcl3': [ 'Cxcl3','Ccl2', 'Ccl9', 'Arg1'],\n",
    "    'Ma-MD-Isg15': ['Isg15', 'Irf7', 'Ifit3'],\n",
    "    'Ma-Fn1': ['Saa3', 'Itgam', 'Fn1'],\n",
    "    'Ma-Fibro': ['Col1a1', 'Col1a2','Postn', 'Acta2'],\n",
    "    'Ma-Endo': ['Pecam1', 'Cdh5'],\n",
    "    'Ma-Cycling': ['Tubb5', 'Stmn1']\n",
    "}"
   ]
  },
  {
   "cell_type": "code",
   "execution_count": null,
   "id": "b50c5a53",
   "metadata": {},
   "outputs": [],
   "source": [
    "ct = {\n",
    "    '0': 'Neu-1', # S100a8, Cxcr2\n",
    "    '1': 'Ma-TR-Cd83+', # C1qa, Cd83 -> MHCII+ & MHCII+Il1b+ (MAC-TR)\n",
    "    '2': 'Mono-1', # Plac8, Ly6e  \n",
    "    '3': 'Ma-MD-Prdx1',# Cxcl3, Fn1, Ccr2, Arg1 -> Trem2+Spp1+ (M1_Mole) (M1Ma)\n",
    "    '4': 'Ma-MD-Cxcl3', # C1qa, Lgals3, Prdx1 (https://pubmed.ncbi.nlm.nih.gov/32295421/) -> Trem2+Prdx1+ (M2_Mole) (M2Ma)\n",
    "    '5': 'Ma-TR-Cd163', # C1qa, Cd163, Siglec1, Hpgd -> TIMD4+ (MAC-TR)\n",
    "    '6': 'Ma-Cycling',# Stmn1, Tubb5\n",
    "    '7': 'Ma-lowGC', # C1qa, Rpgrip1, Cd74 (https://pubmed.ncbi.nlm.nih.gov/27464507/) \n",
    "    '8': 'DC-1', # Naaa, Cd74\n",
    "    '9': 'Ma-Fn1', # Saa3, Fn1, Itgam, Ifitm6, Cd68low -> Fn1+Ltc4s+ (MAC8) \n",
    "    '10': 'Ma-TR-Cd83-', # C1qa, Hpgd, Cd74 -> MHCII+CCR2+ (MAC-TR)\n",
    "    '11': 'Ma-MD-Isg15', # IFN1-inducible genes, Isg15, Irf7, IFNIC, Ms4a4c-> Isg15+ (MAC-IFNIC)\n",
    "    '12': 'Ma-MD-Mpeg1',\n",
    "    '13': 'Mono-2',# Plac8, Ly6e\n",
    "    '14': 'Ma-Fibro', # Col1a1\n",
    "    '15': 'Mono-3', # Plac8, (Ccr2)\n",
    "    '16': 'Ma-MD-Ccl2',\n",
    "    '17': 'Ma-Endo',\n",
    "    '18': 'Neu-3', # Cxcr2, Grk4, Actc1\n",
    "    '19': 'DC-1', # Naaa, Cd74\n",
    "    '20': 'Neu-2',# S100a8\n",
    "    '21': 'NA', \n",
    "    '22': 'Ma-Fibro', # (Atca2)\n",
    "    '23': 'Mono-new', # Plac8\n",
    "    '24': 'Neu-3', # Cxcr2, Grk4, Actc1\n",
    "    '25': 'DC-2', # Cd74\n",
    "    '26': 'Unknown',\n",
    "}"
   ]
  },
  {
   "cell_type": "code",
   "execution_count": null,
   "id": "df752201",
   "metadata": {
    "scrolled": true
   },
   "outputs": [],
   "source": [
    "adata.obs.Leiden_new.value_counts()"
   ]
  },
  {
   "cell_type": "code",
   "execution_count": null,
   "id": "dd3cb11a",
   "metadata": {
    "scrolled": true
   },
   "outputs": [],
   "source": [
    "sc.pl.dotplot(adata, groupby='Leiden_new',var_names=GLfinal, cmap=cmap, swap_axes=True, standard_scale='var'\n",
    "              #, save=\"Myeloid_Farhebi.pdf\"\n",
    "             )"
   ]
  },
  {
   "cell_type": "code",
   "execution_count": null,
   "id": "17ef18c6",
   "metadata": {},
   "outputs": [],
   "source": [
    "adata.obs['Nctsub3'] = [ct[x] for x in adata.obs.Leiden_new]\n",
    "adata.obs['Nctsub3'] = adata.obs['Nctsub3'].astype('category')"
   ]
  },
  {
   "cell_type": "code",
   "execution_count": null,
   "id": "42c75adb",
   "metadata": {
    "scrolled": true
   },
   "outputs": [],
   "source": [
    "adata.uns['Nctsub3_colors']=adata.uns['ctsub3_old_colors']"
   ]
  },
  {
   "cell_type": "code",
   "execution_count": null,
   "id": "04a81c4c",
   "metadata": {},
   "outputs": [],
   "source": [
    "adata.obs.ctsub3_old.cat.categories"
   ]
  },
  {
   "cell_type": "code",
   "execution_count": null,
   "id": "e7575b6b",
   "metadata": {},
   "outputs": [],
   "source": [
    "adata.obs.Nctsub3.cat.categories"
   ]
  },
  {
   "cell_type": "code",
   "execution_count": null,
   "id": "f3dca316",
   "metadata": {},
   "outputs": [],
   "source": [
    "adata.obs.Nctsub3 = adata.obs.Nctsub3.cat.reorder_categories(['DC-1', 'DC-2', 'Ma-Cycling', 'Ma-Endo', 'Ma-Fibro', 'Ma-Fn1',\n",
    "       'Ma-MD-Cxcl3', 'Ma-MD-Isg15', 'Ma-MD-Mpeg1', 'Ma-MD-Prdx1',\n",
    "        'Ma-TR-Cd83+', 'Ma-TR-Cd83-',  'Ma-TR-Cd163','Ma-lowGC', 'Mono-1',\n",
    "       'Mono-2', 'Mono-3', 'Mono-new', 'NA', 'Neu-1', 'Neu-2', 'Neu-3','Ma-MD-Ccl2',\n",
    "       'Unknown'])"
   ]
  },
  {
   "cell_type": "code",
   "execution_count": null,
   "id": "11f5abd1",
   "metadata": {},
   "outputs": [],
   "source": [
    "sc.pl.umap(adata, color='Nctsub3',legend_loc='on data',legend_fontsize=8)"
   ]
  },
  {
   "cell_type": "code",
   "execution_count": null,
   "id": "8037d844",
   "metadata": {},
   "outputs": [],
   "source": [
    "adata_ma = adata[adata.obs.Nctsub3.str.startswith('Ma')]"
   ]
  },
  {
   "cell_type": "code",
   "execution_count": null,
   "id": "5a3dd9f3",
   "metadata": {},
   "outputs": [],
   "source": [
    "adata_ma.write('../../rev_MI/WithCyclings/Macro_all.h5ad')"
   ]
  },
  {
   "cell_type": "code",
   "execution_count": null,
   "id": "b9a8d9c8",
   "metadata": {},
   "outputs": [],
   "source": [
    "adata.write('../../rev_MI/WithCyclings/Myeloid_final.processed')"
   ]
  },
  {
   "cell_type": "code",
   "execution_count": null,
   "id": "b9b7532d",
   "metadata": {},
   "outputs": [],
   "source": [
    "adata_ma.obs.Nctsub3.value_counts()"
   ]
  },
  {
   "cell_type": "code",
   "execution_count": null,
   "id": "89596827",
   "metadata": {
    "scrolled": true
   },
   "outputs": [],
   "source": [
    "sc.tl.rank_genes_groups(adata, groupby='Nctsub3', n_genes=adata.raw.shape[1], method='t-test', key_added='DE_Nctsub3')"
   ]
  },
  {
   "cell_type": "code",
   "execution_count": null,
   "id": "6498a092",
   "metadata": {},
   "outputs": [],
   "source": [
    "sc.pl.rank_genes_groups_dotplot(adata, groupby='Nctsub3',key='DE_Nctsub3', cmap=cmap, swap_axes=True, standard_scale='var',n_genes=5,dendrogram=False)"
   ]
  },
  {
   "cell_type": "code",
   "execution_count": null,
   "id": "0a892f1b",
   "metadata": {
    "scrolled": true
   },
   "outputs": [],
   "source": [
    "df = pd.DataFrame(adata.uns['DE_Nctsub3']['names'])"
   ]
  },
  {
   "cell_type": "code",
   "execution_count": null,
   "id": "07e1d9a3",
   "metadata": {},
   "outputs": [],
   "source": [
    "df.head(100).to_csv('../../rev_MI/WithCyclings/Outer/Mouse100MarkerGenes.csv')"
   ]
  },
  {
   "cell_type": "code",
   "execution_count": null,
   "id": "da64bfba",
   "metadata": {},
   "outputs": [],
   "source": [
    "adata_ma.obs.Nctsub3.cat.categories"
   ]
  },
  {
   "cell_type": "code",
   "execution_count": null,
   "id": "5347cd3a",
   "metadata": {},
   "outputs": [],
   "source": [
    "adata_ma.obs.Development_stage.value_counts()"
   ]
  },
  {
   "cell_type": "code",
   "execution_count": null,
   "id": "77aeabb5",
   "metadata": {},
   "outputs": [],
   "source": [
    "mac_neo = adata_ma[adata_ma.obs.Development_stage=='neonatal']"
   ]
  },
  {
   "cell_type": "code",
   "execution_count": null,
   "id": "fb28ba7d",
   "metadata": {},
   "outputs": [],
   "source": [
    "mac_neo.write('./WithCyclings/Macro_neo.h5ad')"
   ]
  },
  {
   "cell_type": "markdown",
   "id": "c0fe55f6-c380-453c-8906-e413f85bed69",
   "metadata": {},
   "source": [
    "# Extract adult mice data only"
   ]
  },
  {
   "cell_type": "code",
   "execution_count": null,
   "id": "4dd780b7",
   "metadata": {},
   "outputs": [],
   "source": [
    "Fdata = anndata.AnnData(X=adata_ma.raw.X,obs=adata_ma.obs,obsm=adata_ma.obsm,var=adata_ma.raw.var)"
   ]
  },
  {
   "cell_type": "code",
   "execution_count": null,
   "id": "ac6d4b9c",
   "metadata": {},
   "outputs": [],
   "source": [
    "Fdata = Fdata[Fdata.obs.Development_stage=='adult']"
   ]
  },
  {
   "cell_type": "code",
   "execution_count": null,
   "id": "5fe72af7",
   "metadata": {},
   "outputs": [],
   "source": [
    "Fdata.write('../../MI_data/FinalH5ad/Outer/Mouse_ma_final.h5ad')"
   ]
  },
  {
   "cell_type": "markdown",
   "id": "908942fd-4f7d-44e1-adb9-727d27f0d3f4",
   "metadata": {},
   "source": [
    "## Exclude Sham/IR"
   ]
  },
  {
   "cell_type": "code",
   "execution_count": null,
   "id": "93707784-9adb-44e0-80c8-c7bb756ae8ee",
   "metadata": {},
   "outputs": [],
   "source": [
    "Fdata = sc.read('../../MI_data/FinalH5ad/Outer/Mouse_ma_final.h5ad')"
   ]
  },
  {
   "cell_type": "code",
   "execution_count": null,
   "id": "9c73bf69-003f-46fe-850b-31cc9b60179a",
   "metadata": {},
   "outputs": [],
   "source": [
    "Fdata.obs.Condition.value_counts()"
   ]
  },
  {
   "cell_type": "code",
   "execution_count": null,
   "id": "adbfa674-796a-461e-bcb6-c0d0339ba123",
   "metadata": {},
   "outputs": [],
   "source": [
    "Fdata = Fdata[np.in1d(Fdata.obs.Condition,['MI','Normal'])]"
   ]
  },
  {
   "cell_type": "code",
   "execution_count": null,
   "id": "b70f327b-6489-4fc1-9d44-f942399760b4",
   "metadata": {},
   "outputs": [],
   "source": [
    "Fdata.shape"
   ]
  },
  {
   "cell_type": "code",
   "execution_count": null,
   "id": "8a6d863f-82f1-46bb-a4fa-18476ac01217",
   "metadata": {},
   "outputs": [],
   "source": [
    "Fdata.write('Final_write/mouse_mac.h5ad')"
   ]
  }
 ],
 "metadata": {
  "kernelspec": {
   "display_name": "sc182-python",
   "language": "python",
   "name": "sc182"
  },
  "language_info": {
   "codemirror_mode": {
    "name": "ipython",
    "version": 3
   },
   "file_extension": ".py",
   "mimetype": "text/x-python",
   "name": "python",
   "nbconvert_exporter": "python",
   "pygments_lexer": "ipython3",
   "version": "3.8.17"
  }
 },
 "nbformat": 4,
 "nbformat_minor": 5
}
