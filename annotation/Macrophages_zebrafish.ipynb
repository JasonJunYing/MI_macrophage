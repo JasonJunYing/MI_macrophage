{
 "cells": [
  {
   "cell_type": "markdown",
   "id": "54d5a000",
   "metadata": {},
   "source": [
    "# Macrophages (zebrafish)"
   ]
  },
  {
   "cell_type": "code",
   "execution_count": null,
   "id": "1bb0ea34",
   "metadata": {},
   "outputs": [],
   "source": [
    "#%matplotlib nbagg\n",
    "import numpy as np\n",
    "import matplotlib.pyplot as plt\n",
    "import scanpy as sc\n",
    "import pandas as pd\n",
    "from os import listdir\n",
    "from os.path import isfile, join\n",
    "import re\n",
    "import anndata\n",
    "import seaborn as sns\n",
    "\n",
    "plt.rcParams['pdf.fonttype'] = 42\n",
    "plt.rcParams['ps.fonttype'] = 42\n",
    "\n",
    "sc.settings.verbosity = 3  # verbosity: errors (0), warnings (1), info (2), hints (3)\n",
    "sc.logging.print_header()\n",
    "\n",
    "from matplotlib.colors import LinearSegmentedColormap\n",
    "cmap = LinearSegmentedColormap.from_list(name='gene_cmap', colors=['lightgrey', 'thistle', 'red', 'darkred']) \n",
    "\n",
    "sc.settings.set_figure_params(dpi=80, color_map='viridis', vector_friendly=False,  dpi_save=300)\n",
    "from matplotlib import font_manager\n",
    "font_manager.fontManager.addfont('/cluster/groups/Wangxiaonan/share/yingjun/arial.ttf')\n",
    "plt.rcParams['font.sans-serif'] = 'Arial'"
   ]
  },
  {
   "cell_type": "markdown",
   "id": "8e83b8c5-6d4b-426d-86a4-52b6d69b0fec",
   "metadata": {},
   "source": [
    "# Recalculate UMAP"
   ]
  },
  {
   "cell_type": "code",
   "execution_count": null,
   "id": "5550cacc",
   "metadata": {},
   "outputs": [],
   "source": [
    "adata = sc.read('./Final_write/ZF_mac.h5ad')"
   ]
  },
  {
   "cell_type": "code",
   "execution_count": null,
   "id": "9a16ee1d",
   "metadata": {},
   "outputs": [],
   "source": [
    "adata.obs['Genotype'].value_counts()"
   ]
  },
  {
   "cell_type": "code",
   "execution_count": null,
   "id": "b70aaeed",
   "metadata": {
    "tags": []
   },
   "outputs": [],
   "source": [
    "adata = anndata.AnnData(X=adata.raw.X.A, obs=adata.obs, var=adata.raw.var)\n",
    "adata.raw = adata"
   ]
  },
  {
   "cell_type": "code",
   "execution_count": null,
   "id": "8d7bebd2-7c64-49e8-872f-31713ad8e11d",
   "metadata": {},
   "outputs": [],
   "source": [
    "np.min(adata.raw.X)"
   ]
  },
  {
   "cell_type": "code",
   "execution_count": null,
   "id": "documentary-consortium",
   "metadata": {
    "scrolled": true
   },
   "outputs": [],
   "source": [
    "sc.pp.filter_genes(adata, min_cells=1)\n",
    "sc.pp.highly_variable_genes(\n",
    "    adata, min_mean=0.02, max_mean=3, min_disp=0.3, batch_key='StudyID', inplace=True)\n",
    "sc.pl.highly_variable_genes(adata)\n",
    "print(np.sum(adata.var.highly_variable))\n",
    "adata = adata[:, adata.var.highly_variable].copy()\n",
    "# scale for pca\n",
    "sc.pp.scale(adata)\n",
    "# pca\n",
    "sc.tl.pca(adata, svd_solver='arpack')\n",
    "sc.external.pp.harmony_integrate(adata, key='StudyID', adjusted_basis = 'X_pca_harmony_StudyID_combined')\n",
    "sc.pp.neighbors(adata, use_rep = 'X_pca_harmony_StudyID_combined')\n",
    "sc.tl.umap(adata)"
   ]
  },
  {
   "cell_type": "code",
   "execution_count": null,
   "id": "fdfacc45-0df6-4935-89cd-5bc7641b2c18",
   "metadata": {},
   "outputs": [],
   "source": [
    "adata.write('./Final_write/ZF_mac.h5ad')"
   ]
  },
  {
   "cell_type": "markdown",
   "id": "8557ff32-0bcd-47c2-ab53-e487e7461b65",
   "metadata": {},
   "source": [
    "Matching macrophage cell-types between adult mice and zebrafish"
   ]
  },
  {
   "cell_type": "markdown",
   "id": "71fba80d",
   "metadata": {},
   "source": [
    "# Scoring"
   ]
  },
  {
   "cell_type": "code",
   "execution_count": null,
   "id": "57641131",
   "metadata": {},
   "outputs": [],
   "source": [
    "adata = sc.read('./Final_write/ZF_mac.h5ad')"
   ]
  },
  {
   "cell_type": "code",
   "execution_count": null,
   "id": "591a41be",
   "metadata": {},
   "outputs": [],
   "source": [
    "adata = anndata.AnnData(X=adata.raw.X,var=adata.raw.var,obs=adata.obs,obsm=adata.obsm)"
   ]
  },
  {
   "cell_type": "code",
   "execution_count": null,
   "id": "2fbcdd1d",
   "metadata": {},
   "outputs": [],
   "source": [
    "sc.pp.scale(adata,max_value=10)#Must scale!!!!"
   ]
  },
  {
   "cell_type": "code",
   "execution_count": null,
   "id": "7ee2c186",
   "metadata": {},
   "outputs": [],
   "source": [
    "np.max(adata.X)"
   ]
  },
  {
   "cell_type": "code",
   "execution_count": null,
   "id": "3fdedbf2-0326-4652-8f05-f7642b0a1ae5",
   "metadata": {},
   "outputs": [],
   "source": [
    "adata.shape"
   ]
  },
  {
   "cell_type": "code",
   "execution_count": null,
   "id": "61acf448",
   "metadata": {},
   "outputs": [],
   "source": [
    "gdict = pd.read_csv('./Final_Files/TransedMouse100Marker_Outer.csv',index_col=0)"
   ]
  },
  {
   "cell_type": "code",
   "execution_count": null,
   "id": "6ff61cfe",
   "metadata": {},
   "outputs": [],
   "source": [
    "gdict.columns = ['Ma-Cycling', 'Ma-Endo', 'Ma-Fibro', 'Ma-Fn1', 'Ma-MD-Cxcl3',\n",
    "       'Ma-MD-Isg15', 'Ma-MD-Mpeg1', 'Ma-MD-Prdx1', 'Ma-TR-Cd83+',\n",
    "       'Ma-TR-Cd83-', 'Ma-TR-Cd163', 'Ma-lowGC', 'Ma-MD-Ccl2']"
   ]
  },
  {
   "cell_type": "code",
   "execution_count": null,
   "id": "6c71d808",
   "metadata": {},
   "outputs": [],
   "source": [
    "gdict = gdict.to_dict()"
   ]
  },
  {
   "cell_type": "code",
   "execution_count": null,
   "id": "e1b4b703",
   "metadata": {
    "scrolled": true
   },
   "outputs": [],
   "source": [
    "for k, v in gdict.items():\n",
    "    sc.tl.score_genes(adata, gene_list=v.values(), score_name='Score_'+k, use_raw=False)"
   ]
  },
  {
   "cell_type": "code",
   "execution_count": null,
   "id": "c8ecdbbb",
   "metadata": {},
   "outputs": [],
   "source": [
    "sname = [x for x in adata.obs_keys() if 'Score_' in x]"
   ]
  },
  {
   "cell_type": "code",
   "execution_count": null,
   "id": "3641557a",
   "metadata": {},
   "outputs": [],
   "source": [
    "adata.obs['t2'] = np.std(adata.obs[sname], axis=1)"
   ]
  },
  {
   "cell_type": "code",
   "execution_count": null,
   "id": "654b2be2",
   "metadata": {},
   "outputs": [],
   "source": [
    "s2 = adata.obs[sname].max(axis=1)"
   ]
  },
  {
   "cell_type": "code",
   "execution_count": null,
   "id": "06d4b605",
   "metadata": {},
   "outputs": [],
   "source": [
    "adata.obs['s2'] = s2"
   ]
  },
  {
   "cell_type": "code",
   "execution_count": null,
   "id": "90418d4a",
   "metadata": {
    "scrolled": true
   },
   "outputs": [],
   "source": [
    "sc.pl.umap(adata,color='s2',cmap='bwr',title='Score',\n",
    "          #save='_s2.pdf',\n",
    "          )"
   ]
  },
  {
   "cell_type": "code",
   "execution_count": null,
   "id": "42dca09c",
   "metadata": {},
   "outputs": [],
   "source": [
    "adata.obs['Score']=adata.obs.s2"
   ]
  },
  {
   "cell_type": "code",
   "execution_count": null,
   "id": "0aa2e68c",
   "metadata": {
    "scrolled": true
   },
   "outputs": [],
   "source": [
    "adata.obs.keys()"
   ]
  },
  {
   "cell_type": "code",
   "execution_count": null,
   "id": "8e75f3c6",
   "metadata": {},
   "outputs": [],
   "source": [
    "ax = pd.DataFrame(adata.obs['Score']).plot.kde(xlim=(-0.5,1.5))\n",
    "ax.axvline(0.05, linestyle='--', color='orange')\n",
    "#plt.savefig('s2_density.pdf',bbox_inches='tight')"
   ]
  },
  {
   "cell_type": "code",
   "execution_count": null,
   "id": "f6d606fe",
   "metadata": {},
   "outputs": [],
   "source": [
    "Tn = adata.obs[sname].idxmax(axis=1)"
   ]
  },
  {
   "cell_type": "code",
   "execution_count": null,
   "id": "cd5ef0be",
   "metadata": {},
   "outputs": [],
   "source": [
    "adata.obs['Tn'] = [re.sub('Score_', '',x) for x in Tn]"
   ]
  },
  {
   "cell_type": "code",
   "execution_count": null,
   "id": "7c033fae",
   "metadata": {},
   "outputs": [],
   "source": [
    "# Filter out unidentified cells\n",
    "tk = [adata.obs.Tn[x] if adata.obs.s2[x]>0.05 else 'NA' for x in adata.obs_names]"
   ]
  },
  {
   "cell_type": "code",
   "execution_count": null,
   "id": "64e6bf22",
   "metadata": {},
   "outputs": [],
   "source": [
    "adata.obs['Tn2'] = tk"
   ]
  },
  {
   "cell_type": "code",
   "execution_count": null,
   "id": "31e96927",
   "metadata": {},
   "outputs": [],
   "source": [
    "sc.pl.umap(adata,color=['Tn2'],size=3,title='Zebrafish CellType',\n",
    "          #save='_fishCT3scored.pdf'\n",
    "          )"
   ]
  },
  {
   "cell_type": "code",
   "execution_count": null,
   "id": "ffc444d7",
   "metadata": {},
   "outputs": [],
   "source": [
    "adata2 = adata[adata.obs.Tn2!='NA']"
   ]
  },
  {
   "cell_type": "code",
   "execution_count": null,
   "id": "6c36c4f8",
   "metadata": {},
   "outputs": [],
   "source": [
    "cat = ['Ma-TR-Cd163', 'Ma-TR-Cd83+', 'Ma-TR-Cd83-', 'Ma-MD-Mpeg1',\n",
    "       'Ma-MD-Prdx1', 'Ma-MD-Cxcl3', 'Ma-MD-Isg15', 'Ma-MD-Ccl2', 'Ma-Fn1', 'Ma-Fibro',\n",
    "       'Ma-Endo', 'Ma-Cycling', 'Ma-lowGC']\n",
    "adata2.obs['Tn2'] = adata2.obs.Tn2.astype('category').cat.reorder_categories(cat)"
   ]
  },
  {
   "cell_type": "code",
   "execution_count": null,
   "id": "8bcce6f1",
   "metadata": {},
   "outputs": [],
   "source": [
    "adata2.write('./Final_write/ZF_mac_processed.h5ad')"
   ]
  },
  {
   "cell_type": "code",
   "execution_count": null,
   "id": "81649567",
   "metadata": {},
   "outputs": [],
   "source": [
    "adata.write('./Final_write/ZF_mac_scored.h5ad')"
   ]
  },
  {
   "cell_type": "code",
   "execution_count": null,
   "id": "f4b78555",
   "metadata": {},
   "outputs": [],
   "source": []
  }
 ],
 "metadata": {
  "kernelspec": {
   "display_name": "sc182-python",
   "language": "python",
   "name": "sc182"
  },
  "language_info": {
   "codemirror_mode": {
    "name": "ipython",
    "version": 3
   },
   "file_extension": ".py",
   "mimetype": "text/x-python",
   "name": "python",
   "nbconvert_exporter": "python",
   "pygments_lexer": "ipython3",
   "version": "3.8.17"
  }
 },
 "nbformat": 4,
 "nbformat_minor": 5
}
