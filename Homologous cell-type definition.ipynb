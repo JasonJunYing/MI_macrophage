{
 "cells": [
  {
   "cell_type": "markdown",
   "id": "54d5a000",
   "metadata": {},
   "source": [
    "# Homologous cell-types definition\n",
    "## To match macrophage cell-types between adult mice and zebrafish"
   ]
  },
  {
   "cell_type": "code",
   "execution_count": null,
   "id": "1bb0ea34",
   "metadata": {},
   "outputs": [],
   "source": [
    "#%matplotlib nbagg\n",
    "import numpy as np\n",
    "import matplotlib.pyplot as plt\n",
    "import scanpy as sc\n",
    "import pandas as pd\n",
    "from os import listdir\n",
    "from os.path import isfile, join\n",
    "import re\n",
    "import anndata\n",
    "import seaborn as sns\n",
    "\n",
    "plt.rcParams['pdf.fonttype'] = 42\n",
    "plt.rcParams['ps.fonttype'] = 42\n",
    "\n",
    "sc.settings.verbosity = 3  # verbosity: errors (0), warnings (1), info (2), hints (3)\n",
    "sc.logging.print_header()\n",
    "\n",
    "from matplotlib.colors import LinearSegmentedColormap\n",
    "cmap = LinearSegmentedColormap.from_list(name='gene_cmap', colors=['lightgrey', 'thistle', 'red', 'darkred']) \n",
    "\n",
    "sc.settings.set_figure_params(dpi=80, color_map='viridis', vector_friendly=False,  dpi_save=300)\n",
    "from matplotlib import font_manager\n",
    "font_manager.fontManager.addfont('/cluster/groups/Wangxiaonan/share/yingjun/arial.ttf')\n",
    "plt.rcParams['font.sans-serif'] = 'Arial'"
   ]
  },
  {
   "cell_type": "markdown",
   "id": "32d823df",
   "metadata": {},
   "source": [
    "# Scoring using top 100 DEG"
   ]
  },
  {
   "cell_type": "markdown",
   "id": "89021649-17ab-4402-acc3-8f68f7b2137d",
   "metadata": {
    "tags": []
   },
   "source": [
    "## preprocess"
   ]
  },
  {
   "cell_type": "code",
   "execution_count": null,
   "id": "57641131",
   "metadata": {},
   "outputs": [],
   "source": [
    "adata = sc.read('./Final_write/mouse_mac_final.h5ad')"
   ]
  },
  {
   "cell_type": "code",
   "execution_count": null,
   "id": "591a41be",
   "metadata": {},
   "outputs": [],
   "source": [
    "adata = anndata.AnnData(X=adata.raw.X.A,var=adata.raw.var,obs=adata.obs,obsm=adata.obsm)\n",
    "# adata.write('./write/Macro_outerRaw.h5ad')"
   ]
  },
  {
   "cell_type": "code",
   "execution_count": null,
   "id": "2fbcdd1d",
   "metadata": {},
   "outputs": [],
   "source": [
    "# Scale\n",
    "sc.pp.scale(adata,max_value=10)"
   ]
  },
  {
   "cell_type": "code",
   "execution_count": null,
   "id": "7ee2c186",
   "metadata": {},
   "outputs": [],
   "source": [
    "np.max(adata.X)"
   ]
  },
  {
   "cell_type": "markdown",
   "id": "6391d644-e3f7-4e3f-8388-6bf690001628",
   "metadata": {},
   "source": [
    "## Start scoring"
   ]
  },
  {
   "cell_type": "code",
   "execution_count": null,
   "id": "61acf448",
   "metadata": {},
   "outputs": [],
   "source": [
    "gdict = pd.read_csv('./Final_Files/TransedMouse100Marker_Outer',index_col=0)"
   ]
  },
  {
   "cell_type": "code",
   "execution_count": null,
   "id": "6c71d808",
   "metadata": {},
   "outputs": [],
   "source": [
    "gdict = gdict.to_dict()"
   ]
  },
  {
   "cell_type": "code",
   "execution_count": null,
   "id": "e1b4b703",
   "metadata": {
    "scrolled": true
   },
   "outputs": [],
   "source": [
    "for k, v in gdict.items():\n",
    "    sc.tl.score_genes(adata, gene_list=v.values(), score_name='Score_'+k, use_raw=False)"
   ]
  },
  {
   "cell_type": "code",
   "execution_count": null,
   "id": "c8ecdbbb",
   "metadata": {},
   "outputs": [],
   "source": [
    "sname = [x for x in adata.obs_keys() if 'Score_' in x]"
   ]
  },
  {
   "cell_type": "code",
   "execution_count": null,
   "id": "3641557a",
   "metadata": {},
   "outputs": [],
   "source": [
    "adata.obs['t2'] = np.std(adata.obs[sname], axis=1)"
   ]
  },
  {
   "cell_type": "code",
   "execution_count": null,
   "id": "654b2be2",
   "metadata": {},
   "outputs": [],
   "source": [
    "s2 = adata.obs[sname].max(axis=1)"
   ]
  },
  {
   "cell_type": "code",
   "execution_count": null,
   "id": "06d4b605",
   "metadata": {},
   "outputs": [],
   "source": [
    "adata.obs['s2'] = s2"
   ]
  },
  {
   "cell_type": "code",
   "execution_count": null,
   "id": "90418d4a",
   "metadata": {
    "scrolled": true
   },
   "outputs": [],
   "source": [
    "sc.pl.umap(adata,color='s2',cmap='bwr',title='Score',save='_s2.pdf')"
   ]
  },
  {
   "cell_type": "code",
   "execution_count": null,
   "id": "42dca09c",
   "metadata": {},
   "outputs": [],
   "source": [
    "adata.obs['Score']=adata.obs.s2"
   ]
  },
  {
   "cell_type": "code",
   "execution_count": null,
   "id": "8e75f3c6",
   "metadata": {},
   "outputs": [],
   "source": [
    "ax = pd.DataFrame(adata.obs['Score']).plot.kde(xlim=(-0.5,1.5))\n",
    "ax.axvline(0.05, linestyle='--', color='orange')\n",
    "plt.savefig('s2_density.pdf',bbox_inches='tight')"
   ]
  },
  {
   "cell_type": "code",
   "execution_count": null,
   "id": "f6d606fe",
   "metadata": {},
   "outputs": [],
   "source": [
    "Tn = adata.obs[sname].idxmax(axis=1)"
   ]
  },
  {
   "cell_type": "code",
   "execution_count": null,
   "id": "cd5ef0be",
   "metadata": {},
   "outputs": [],
   "source": [
    "adata.obs['Tn'] = [re.sub('Score_', '',x) for x in Tn]"
   ]
  },
  {
   "cell_type": "code",
   "execution_count": null,
   "id": "7c033fae",
   "metadata": {},
   "outputs": [],
   "source": [
    "tk = [adata.obs.Tn[x] if adata.obs.s2[x]>0.05 else 'NA' for x in adata.obs_names]"
   ]
  },
  {
   "cell_type": "code",
   "execution_count": null,
   "id": "64e6bf22",
   "metadata": {},
   "outputs": [],
   "source": [
    "adata.obs['Tn2'] = tk"
   ]
  },
  {
   "cell_type": "code",
   "execution_count": null,
   "id": "85f7c0bc",
   "metadata": {},
   "outputs": [],
   "source": [
    "adata.obs['Tn'].value_counts()"
   ]
  },
  {
   "cell_type": "code",
   "execution_count": null,
   "id": "c04136ad",
   "metadata": {
    "scrolled": true
   },
   "outputs": [],
   "source": [
    "adata.obs['Tn2'].value_counts()"
   ]
  },
  {
   "cell_type": "code",
   "execution_count": null,
   "id": "ffc444d7",
   "metadata": {},
   "outputs": [],
   "source": [
    "adata2 = adata[adata.obs.Tn2!='NA']"
   ]
  },
  {
   "cell_type": "code",
   "execution_count": null,
   "id": "6c36c4f8",
   "metadata": {},
   "outputs": [],
   "source": [
    "cat = ['Ma-TR-Cd163', 'Ma-TR-Cd83+', 'Ma-TR-Cd83-', 'Ma-MD-Mpeg1',\n",
    "       'Ma-MD-Prdx1', 'Ma-MD-Cxcl3', 'Ma-MD-Isg15', 'Ma-MD-Ccl2', 'Ma-Fn1', 'Ma-Fibro',\n",
    "       'Ma-Endo', 'Ma-Cycling', 'Ma-lowGC']\n",
    "adata2.obs['Tn2'] = adata2.obs.Tn2.astype('category').cat.reorder_categories(cat)"
   ]
  },
  {
   "cell_type": "code",
   "execution_count": null,
   "id": "1fd6be12",
   "metadata": {},
   "outputs": [],
   "source": [
    "sc.pl.umap(adata2,color=['Tn2'],wspace=0.5,title='Adult_Mice')"
   ]
  },
  {
   "cell_type": "code",
   "execution_count": null,
   "id": "6e120274",
   "metadata": {},
   "outputs": [],
   "source": [
    "col = ['#d6bcc0', '#bb7784', '#8e063b','#00008B', '#4a6fe3', '#8595e1','#FF8C00','#634040', '#ADFF2F', '#32CD32', '#006400', '#C0C0C0', '#bec1d4']\n",
    "adata2.uns['Tn2_colors'] = col"
   ]
  },
  {
   "cell_type": "code",
   "execution_count": null,
   "id": "31e96927",
   "metadata": {},
   "outputs": [],
   "source": [
    "sc.pl.umap(adata2,color=['Tn2'],size=3,title='Zebrafish CellType')          "
   ]
  },
  {
   "cell_type": "code",
   "execution_count": null,
   "id": "d014aa33",
   "metadata": {
    "scrolled": true
   },
   "outputs": [],
   "source": [
    "sc.tl.rank_genes_groups(adata2, 'Tn2', n_genes=adata2.shape[1], key_added='DE_Tn2')"
   ]
  },
  {
   "cell_type": "code",
   "execution_count": null,
   "id": "06a0958d",
   "metadata": {
    "collapsed": true,
    "jupyter": {
     "outputs_hidden": true
    }
   },
   "outputs": [],
   "source": [
    "sc.pl.rank_genes_groups_dotplot(adata2,key='DE_Tn2',groupby='Tn2', cmap=cmap, swap_axes=True, standard_scale='var',dendrogram=False,n_genes=3,title='Zebrafish',\n",
    "                                save=\"fish_markers.pdf\"\n",
    "                               )"
   ]
  },
  {
   "cell_type": "code",
   "execution_count": null,
   "id": "f4b78555",
   "metadata": {},
   "outputs": [],
   "source": [
    "adata2.write('./write/Macro_outerRaw_CT3scored_filtered.h5ad')"
   ]
  },
  {
   "cell_type": "code",
   "execution_count": null,
   "id": "ac9f70a4",
   "metadata": {},
   "outputs": [],
   "source": [
    "adata = sc.read('./write/Macro_outerRaw_scored_filtered.h5ad')"
   ]
  }
 ],
 "metadata": {
  "kernelspec": {
   "display_name": "sc182-python",
   "language": "python",
   "name": "sc182"
  },
  "language_info": {
   "codemirror_mode": {
    "name": "ipython",
    "version": 3
   },
   "file_extension": ".py",
   "mimetype": "text/x-python",
   "name": "python",
   "nbconvert_exporter": "python",
   "pygments_lexer": "ipython3",
   "version": "3.8.17"
  }
 },
 "nbformat": 4,
 "nbformat_minor": 5
}
