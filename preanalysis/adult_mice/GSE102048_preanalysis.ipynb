{
 "cells": [
  {
   "cell_type": "markdown",
   "id": "classified-disney",
   "metadata": {},
   "source": [
    "# GSE102048\n",
    "## Xiaonan Wang\n",
    "## 05Jun2022"
   ]
  },
  {
   "cell_type": "code",
   "execution_count": 1,
   "id": "great-puppy",
   "metadata": {},
   "outputs": [
    {
     "name": "stderr",
     "output_type": "stream",
     "text": [
      "/nfs01data1/Groups/Wangxiaonan/programs/miniconda3/envs/scanpy171/lib/python3.6/site-packages/tqdm/auto.py:22: TqdmWarning: IProgress not found. Please update jupyter and ipywidgets. See https://ipywidgets.readthedocs.io/en/stable/user_install.html\n",
      "  from .autonotebook import tqdm as notebook_tqdm\n"
     ]
    },
    {
     "name": "stdout",
     "output_type": "stream",
     "text": [
      "scanpy==1.7.1 anndata==0.7.8 umap==0.5.3 numpy==1.19.5 scipy==1.5.4 pandas==1.1.5 scikit-learn==0.24.2 statsmodels==0.12.2 python-igraph==0.9.6\n"
     ]
    }
   ],
   "source": [
    "#%matplotlib nbagg\n",
    "import numpy as np\n",
    "import matplotlib.pyplot as plt\n",
    "import scanpy as sc\n",
    "import pandas as pd\n",
    "from os import listdir\n",
    "from os.path import isfile, join\n",
    "import re\n",
    "import anndata\n",
    "import seaborn as sns\n",
    "\n",
    "plt.rcParams['pdf.fonttype'] = 42\n",
    "plt.rcParams['ps.fonttype'] = 42\n",
    "\n",
    "sc.settings.verbosity = 3  # verbosity: errors (0), warnings (1), info (2), hints (3)\n",
    "sc.logging.print_header()\n",
    "\n",
    "from matplotlib.colors import LinearSegmentedColormap\n",
    "cmap = LinearSegmentedColormap.from_list(name='gene_cmap', colors=['lightgrey', 'thistle', 'red', 'darkred']) \n",
    "\n",
    "sc.settings.set_figure_params(dpi=80, color_map='viridis', vector_friendly=False,  dpi_save=300)"
   ]
  },
  {
   "cell_type": "markdown",
   "id": "global-template",
   "metadata": {},
   "source": [
    "# Data in"
   ]
  },
  {
   "cell_type": "code",
   "execution_count": 2,
   "id": "typical-pierre",
   "metadata": {},
   "outputs": [],
   "source": [
    "FileDir = '/nfs01data1/Groups/Wangxiaonan/share/rev_MI/GSE102048/'"
   ]
  },
  {
   "cell_type": "code",
   "execution_count": 3,
   "id": "light-portugal",
   "metadata": {},
   "outputs": [],
   "source": [
    "Smat = pd.read_csv('./GSE102048_series_matrix.txt', sep='\\t', skiprows=44).T"
   ]
  },
  {
   "cell_type": "code",
   "execution_count": 4,
   "id": "ranking-picking",
   "metadata": {},
   "outputs": [
    {
     "data": {
      "text/html": [
       "<div>\n",
       "<style scoped>\n",
       "    .dataframe tbody tr th:only-of-type {\n",
       "        vertical-align: middle;\n",
       "    }\n",
       "\n",
       "    .dataframe tbody tr th {\n",
       "        vertical-align: top;\n",
       "    }\n",
       "\n",
       "    .dataframe thead th {\n",
       "        text-align: right;\n",
       "    }\n",
       "</style>\n",
       "<table border=\"1\" class=\"dataframe\">\n",
       "  <thead>\n",
       "    <tr style=\"text-align: right;\">\n",
       "      <th></th>\n",
       "      <th>0</th>\n",
       "      <th>1</th>\n",
       "      <th>2</th>\n",
       "      <th>3</th>\n",
       "      <th>4</th>\n",
       "      <th>5</th>\n",
       "      <th>6</th>\n",
       "      <th>7</th>\n",
       "      <th>8</th>\n",
       "      <th>9</th>\n",
       "      <th>...</th>\n",
       "      <th>31</th>\n",
       "      <th>32</th>\n",
       "      <th>33</th>\n",
       "      <th>34</th>\n",
       "      <th>35</th>\n",
       "      <th>36</th>\n",
       "      <th>37</th>\n",
       "      <th>38</th>\n",
       "      <th>39</th>\n",
       "      <th>40</th>\n",
       "    </tr>\n",
       "  </thead>\n",
       "  <tbody>\n",
       "    <tr>\n",
       "      <th>!Sample_title</th>\n",
       "      <td>!Sample_geo_accession</td>\n",
       "      <td>!Sample_status</td>\n",
       "      <td>!Sample_submission_date</td>\n",
       "      <td>!Sample_last_update_date</td>\n",
       "      <td>!Sample_type</td>\n",
       "      <td>!Sample_channel_count</td>\n",
       "      <td>!Sample_source_name_ch1</td>\n",
       "      <td>!Sample_organism_ch1</td>\n",
       "      <td>!Sample_characteristics_ch1</td>\n",
       "      <td>!Sample_characteristics_ch1</td>\n",
       "      <td>...</td>\n",
       "      <td>!Sample_instrument_model</td>\n",
       "      <td>!Sample_library_selection</td>\n",
       "      <td>!Sample_library_source</td>\n",
       "      <td>!Sample_library_strategy</td>\n",
       "      <td>!Sample_relation</td>\n",
       "      <td>!Sample_relation</td>\n",
       "      <td>!Sample_supplementary_file_1</td>\n",
       "      <td>!series_matrix_table_begin</td>\n",
       "      <td>ID_REF</td>\n",
       "      <td>!series_matrix_table_end</td>\n",
       "    </tr>\n",
       "    <tr>\n",
       "      <th>Extracted RNA from Ki67-RFP+ cells of hearts of Ki67TagRFP mice 14 days post-MI surgery, replicate 1_bulk RNA</th>\n",
       "      <td>GSM2722416</td>\n",
       "      <td>Public on Dec 04 2018</td>\n",
       "      <td>Jul 31 2017</td>\n",
       "      <td>May 15 2019</td>\n",
       "      <td>SRA</td>\n",
       "      <td>1</td>\n",
       "      <td>Ki67-RFP+ cells of hearts of Ki67TagRFP mice 1...</td>\n",
       "      <td>Mus musculus</td>\n",
       "      <td>strain background: C57BL/6</td>\n",
       "      <td>genotype/variation: Ki67TagRFP</td>\n",
       "      <td>...</td>\n",
       "      <td>Illumina NextSeq 500</td>\n",
       "      <td>cDNA</td>\n",
       "      <td>transcriptomic</td>\n",
       "      <td>RNA-Seq</td>\n",
       "      <td>BioSample: https://www.ncbi.nlm.nih.gov/biosam...</td>\n",
       "      <td>SRA: https://www.ncbi.nlm.nih.gov/sra?term=SRX...</td>\n",
       "      <td>ftp://ftp.ncbi.nlm.nih.gov/geo/samples/GSM2722...</td>\n",
       "      <td>NaN</td>\n",
       "      <td>GSM2722416</td>\n",
       "      <td>NaN</td>\n",
       "    </tr>\n",
       "  </tbody>\n",
       "</table>\n",
       "<p>2 rows × 41 columns</p>\n",
       "</div>"
      ],
      "text/plain": [
       "                                                                       0   \\\n",
       "!Sample_title                                       !Sample_geo_accession   \n",
       "Extracted RNA from Ki67-RFP+ cells of hearts of...             GSM2722416   \n",
       "\n",
       "                                                                       1   \\\n",
       "!Sample_title                                              !Sample_status   \n",
       "Extracted RNA from Ki67-RFP+ cells of hearts of...  Public on Dec 04 2018   \n",
       "\n",
       "                                                                         2   \\\n",
       "!Sample_title                                       !Sample_submission_date   \n",
       "Extracted RNA from Ki67-RFP+ cells of hearts of...              Jul 31 2017   \n",
       "\n",
       "                                                                          3   \\\n",
       "!Sample_title                                       !Sample_last_update_date   \n",
       "Extracted RNA from Ki67-RFP+ cells of hearts of...               May 15 2019   \n",
       "\n",
       "                                                              4   \\\n",
       "!Sample_title                                       !Sample_type   \n",
       "Extracted RNA from Ki67-RFP+ cells of hearts of...           SRA   \n",
       "\n",
       "                                                                       5   \\\n",
       "!Sample_title                                       !Sample_channel_count   \n",
       "Extracted RNA from Ki67-RFP+ cells of hearts of...                      1   \n",
       "\n",
       "                                                                                                   6   \\\n",
       "!Sample_title                                                                 !Sample_source_name_ch1   \n",
       "Extracted RNA from Ki67-RFP+ cells of hearts of...  Ki67-RFP+ cells of hearts of Ki67TagRFP mice 1...   \n",
       "\n",
       "                                                                      7   \\\n",
       "!Sample_title                                       !Sample_organism_ch1   \n",
       "Extracted RNA from Ki67-RFP+ cells of hearts of...          Mus musculus   \n",
       "\n",
       "                                                                             8   \\\n",
       "!Sample_title                                       !Sample_characteristics_ch1   \n",
       "Extracted RNA from Ki67-RFP+ cells of hearts of...   strain background: C57BL/6   \n",
       "\n",
       "                                                                                9   \\\n",
       "!Sample_title                                          !Sample_characteristics_ch1   \n",
       "Extracted RNA from Ki67-RFP+ cells of hearts of...  genotype/variation: Ki67TagRFP   \n",
       "\n",
       "                                                    ...  \\\n",
       "!Sample_title                                       ...   \n",
       "Extracted RNA from Ki67-RFP+ cells of hearts of...  ...   \n",
       "\n",
       "                                                                          31  \\\n",
       "!Sample_title                                       !Sample_instrument_model   \n",
       "Extracted RNA from Ki67-RFP+ cells of hearts of...      Illumina NextSeq 500   \n",
       "\n",
       "                                                                           32  \\\n",
       "!Sample_title                                       !Sample_library_selection   \n",
       "Extracted RNA from Ki67-RFP+ cells of hearts of...                       cDNA   \n",
       "\n",
       "                                                                        33  \\\n",
       "!Sample_title                                       !Sample_library_source   \n",
       "Extracted RNA from Ki67-RFP+ cells of hearts of...          transcriptomic   \n",
       "\n",
       "                                                                          34  \\\n",
       "!Sample_title                                       !Sample_library_strategy   \n",
       "Extracted RNA from Ki67-RFP+ cells of hearts of...                   RNA-Seq   \n",
       "\n",
       "                                                                                                   35  \\\n",
       "!Sample_title                                                                        !Sample_relation   \n",
       "Extracted RNA from Ki67-RFP+ cells of hearts of...  BioSample: https://www.ncbi.nlm.nih.gov/biosam...   \n",
       "\n",
       "                                                                                                   36  \\\n",
       "!Sample_title                                                                        !Sample_relation   \n",
       "Extracted RNA from Ki67-RFP+ cells of hearts of...  SRA: https://www.ncbi.nlm.nih.gov/sra?term=SRX...   \n",
       "\n",
       "                                                                                                   37  \\\n",
       "!Sample_title                                                            !Sample_supplementary_file_1   \n",
       "Extracted RNA from Ki67-RFP+ cells of hearts of...  ftp://ftp.ncbi.nlm.nih.gov/geo/samples/GSM2722...   \n",
       "\n",
       "                                                                            38  \\\n",
       "!Sample_title                                       !series_matrix_table_begin   \n",
       "Extracted RNA from Ki67-RFP+ cells of hearts of...                         NaN   \n",
       "\n",
       "                                                            39  \\\n",
       "!Sample_title                                           ID_REF   \n",
       "Extracted RNA from Ki67-RFP+ cells of hearts of...  GSM2722416   \n",
       "\n",
       "                                                                          40  \n",
       "!Sample_title                                       !series_matrix_table_end  \n",
       "Extracted RNA from Ki67-RFP+ cells of hearts of...                       NaN  \n",
       "\n",
       "[2 rows x 41 columns]"
      ]
     },
     "execution_count": 4,
     "metadata": {},
     "output_type": "execute_result"
    }
   ],
   "source": [
    "Smat.head(2)"
   ]
  },
  {
   "cell_type": "code",
   "execution_count": 5,
   "id": "black-convertible",
   "metadata": {},
   "outputs": [
    {
     "data": {
      "text/plain": [
       "(64, 41)"
      ]
     },
     "execution_count": 5,
     "metadata": {},
     "output_type": "execute_result"
    }
   ],
   "source": [
    "Smat.shape"
   ]
  },
  {
   "cell_type": "code",
   "execution_count": 4,
   "id": "related-revision",
   "metadata": {},
   "outputs": [],
   "source": [
    "Smat = Smat.loc[[x for x in Smat.index if 'bulk' not in x],:].copy()"
   ]
  },
  {
   "cell_type": "code",
   "execution_count": 7,
   "id": "novel-column",
   "metadata": {},
   "outputs": [
    {
     "data": {
      "text/plain": [
       "(55, 41)"
      ]
     },
     "execution_count": 7,
     "metadata": {},
     "output_type": "execute_result"
    }
   ],
   "source": [
    "Smat.shape"
   ]
  },
  {
   "cell_type": "code",
   "execution_count": 5,
   "id": "infectious-words",
   "metadata": {},
   "outputs": [],
   "source": [
    "Smat.columns = Smat.iloc[0,:]"
   ]
  },
  {
   "cell_type": "code",
   "execution_count": 6,
   "id": "asian-cherry",
   "metadata": {},
   "outputs": [],
   "source": [
    "Smat = Smat.drop('!Sample_title')"
   ]
  },
  {
   "cell_type": "code",
   "execution_count": 10,
   "id": "composite-lawsuit",
   "metadata": {},
   "outputs": [
    {
     "data": {
      "text/html": [
       "<div>\n",
       "<style scoped>\n",
       "    .dataframe tbody tr th:only-of-type {\n",
       "        vertical-align: middle;\n",
       "    }\n",
       "\n",
       "    .dataframe tbody tr th {\n",
       "        vertical-align: top;\n",
       "    }\n",
       "\n",
       "    .dataframe thead th {\n",
       "        text-align: right;\n",
       "    }\n",
       "</style>\n",
       "<table border=\"1\" class=\"dataframe\">\n",
       "  <thead>\n",
       "    <tr style=\"text-align: right;\">\n",
       "      <th>!Sample_title</th>\n",
       "      <th>!Sample_geo_accession</th>\n",
       "      <th>!Sample_status</th>\n",
       "      <th>!Sample_submission_date</th>\n",
       "      <th>!Sample_last_update_date</th>\n",
       "      <th>!Sample_type</th>\n",
       "      <th>!Sample_channel_count</th>\n",
       "      <th>!Sample_source_name_ch1</th>\n",
       "      <th>!Sample_organism_ch1</th>\n",
       "      <th>!Sample_characteristics_ch1</th>\n",
       "      <th>!Sample_characteristics_ch1</th>\n",
       "      <th>...</th>\n",
       "      <th>!Sample_instrument_model</th>\n",
       "      <th>!Sample_library_selection</th>\n",
       "      <th>!Sample_library_source</th>\n",
       "      <th>!Sample_library_strategy</th>\n",
       "      <th>!Sample_relation</th>\n",
       "      <th>!Sample_relation</th>\n",
       "      <th>!Sample_supplementary_file_1</th>\n",
       "      <th>!series_matrix_table_begin</th>\n",
       "      <th>ID_REF</th>\n",
       "      <th>!series_matrix_table_end</th>\n",
       "    </tr>\n",
       "  </thead>\n",
       "  <tbody>\n",
       "    <tr>\n",
       "      <th>RFPMIRemA1</th>\n",
       "      <td>GSM3501487</td>\n",
       "      <td>Public on Dec 05 2018</td>\n",
       "      <td>Dec 04 2018</td>\n",
       "      <td>Dec 12 2018</td>\n",
       "      <td>SRA</td>\n",
       "      <td>1</td>\n",
       "      <td>Extracted RNA from Ki67-RFP+ or Ki67-RFP- cell...</td>\n",
       "      <td>Mus musculus</td>\n",
       "      <td>strain background: C57BL/6</td>\n",
       "      <td>genotype/variation: Ki67TagRFP</td>\n",
       "      <td>...</td>\n",
       "      <td>Illumina NextSeq 500</td>\n",
       "      <td>cDNA</td>\n",
       "      <td>transcriptomic</td>\n",
       "      <td>RNA-Seq</td>\n",
       "      <td>BioSample: https://www.ncbi.nlm.nih.gov/biosam...</td>\n",
       "      <td>SRA: https://www.ncbi.nlm.nih.gov/sra?term=SRX...</td>\n",
       "      <td>ftp://ftp.ncbi.nlm.nih.gov/geo/samples/GSM3501...</td>\n",
       "      <td>NaN</td>\n",
       "      <td>GSM3501487</td>\n",
       "      <td>NaN</td>\n",
       "    </tr>\n",
       "    <tr>\n",
       "      <th>RFPMIRemA2</th>\n",
       "      <td>GSM3501488</td>\n",
       "      <td>Public on Dec 05 2018</td>\n",
       "      <td>Dec 04 2018</td>\n",
       "      <td>Dec 12 2018</td>\n",
       "      <td>SRA</td>\n",
       "      <td>1</td>\n",
       "      <td>Extracted RNA from Ki67-RFP+ or Ki67-RFP- cell...</td>\n",
       "      <td>Mus musculus</td>\n",
       "      <td>strain background: C57BL/6</td>\n",
       "      <td>genotype/variation: Ki67TagRFP</td>\n",
       "      <td>...</td>\n",
       "      <td>Illumina NextSeq 500</td>\n",
       "      <td>cDNA</td>\n",
       "      <td>transcriptomic</td>\n",
       "      <td>RNA-Seq</td>\n",
       "      <td>BioSample: https://www.ncbi.nlm.nih.gov/biosam...</td>\n",
       "      <td>SRA: https://www.ncbi.nlm.nih.gov/sra?term=SRX...</td>\n",
       "      <td>ftp://ftp.ncbi.nlm.nih.gov/geo/samples/GSM3501...</td>\n",
       "      <td>NaN</td>\n",
       "      <td>GSM3501488</td>\n",
       "      <td>NaN</td>\n",
       "    </tr>\n",
       "  </tbody>\n",
       "</table>\n",
       "<p>2 rows × 41 columns</p>\n",
       "</div>"
      ],
      "text/plain": [
       "!Sample_title !Sample_geo_accession         !Sample_status  \\\n",
       "RFPMIRemA1               GSM3501487  Public on Dec 05 2018   \n",
       "RFPMIRemA2               GSM3501488  Public on Dec 05 2018   \n",
       "\n",
       "!Sample_title !Sample_submission_date !Sample_last_update_date !Sample_type  \\\n",
       "RFPMIRemA1                Dec 04 2018              Dec 12 2018          SRA   \n",
       "RFPMIRemA2                Dec 04 2018              Dec 12 2018          SRA   \n",
       "\n",
       "!Sample_title !Sample_channel_count  \\\n",
       "RFPMIRemA1                        1   \n",
       "RFPMIRemA2                        1   \n",
       "\n",
       "!Sample_title                            !Sample_source_name_ch1  \\\n",
       "RFPMIRemA1     Extracted RNA from Ki67-RFP+ or Ki67-RFP- cell...   \n",
       "RFPMIRemA2     Extracted RNA from Ki67-RFP+ or Ki67-RFP- cell...   \n",
       "\n",
       "!Sample_title !Sample_organism_ch1 !Sample_characteristics_ch1  \\\n",
       "RFPMIRemA1            Mus musculus  strain background: C57BL/6   \n",
       "RFPMIRemA2            Mus musculus  strain background: C57BL/6   \n",
       "\n",
       "!Sample_title     !Sample_characteristics_ch1  ... !Sample_instrument_model  \\\n",
       "RFPMIRemA1     genotype/variation: Ki67TagRFP  ...     Illumina NextSeq 500   \n",
       "RFPMIRemA2     genotype/variation: Ki67TagRFP  ...     Illumina NextSeq 500   \n",
       "\n",
       "!Sample_title !Sample_library_selection !Sample_library_source  \\\n",
       "RFPMIRemA1                         cDNA         transcriptomic   \n",
       "RFPMIRemA2                         cDNA         transcriptomic   \n",
       "\n",
       "!Sample_title !Sample_library_strategy  \\\n",
       "RFPMIRemA1                     RNA-Seq   \n",
       "RFPMIRemA2                     RNA-Seq   \n",
       "\n",
       "!Sample_title                                   !Sample_relation  \\\n",
       "RFPMIRemA1     BioSample: https://www.ncbi.nlm.nih.gov/biosam...   \n",
       "RFPMIRemA2     BioSample: https://www.ncbi.nlm.nih.gov/biosam...   \n",
       "\n",
       "!Sample_title                                   !Sample_relation  \\\n",
       "RFPMIRemA1     SRA: https://www.ncbi.nlm.nih.gov/sra?term=SRX...   \n",
       "RFPMIRemA2     SRA: https://www.ncbi.nlm.nih.gov/sra?term=SRX...   \n",
       "\n",
       "!Sample_title                       !Sample_supplementary_file_1  \\\n",
       "RFPMIRemA1     ftp://ftp.ncbi.nlm.nih.gov/geo/samples/GSM3501...   \n",
       "RFPMIRemA2     ftp://ftp.ncbi.nlm.nih.gov/geo/samples/GSM3501...   \n",
       "\n",
       "!Sample_title !series_matrix_table_begin      ID_REF !series_matrix_table_end  \n",
       "RFPMIRemA1                           NaN  GSM3501487                      NaN  \n",
       "RFPMIRemA2                           NaN  GSM3501488                      NaN  \n",
       "\n",
       "[2 rows x 41 columns]"
      ]
     },
     "execution_count": 10,
     "metadata": {},
     "output_type": "execute_result"
    }
   ],
   "source": [
    "Smat.head(2)"
   ]
  },
  {
   "cell_type": "code",
   "execution_count": 11,
   "id": "blank-sherman",
   "metadata": {},
   "outputs": [
    {
     "data": {
      "text/plain": [
       "Index(['!Sample_geo_accession', '!Sample_status', '!Sample_submission_date',\n",
       "       '!Sample_last_update_date', '!Sample_type', '!Sample_channel_count',\n",
       "       '!Sample_source_name_ch1', '!Sample_organism_ch1',\n",
       "       '!Sample_characteristics_ch1', '!Sample_characteristics_ch1',\n",
       "       '!Sample_characteristics_ch1', '!Sample_characteristics_ch1',\n",
       "       '!Sample_characteristics_ch1', '!Sample_molecule_ch1',\n",
       "       '!Sample_extract_protocol_ch1', '!Sample_extract_protocol_ch1',\n",
       "       '!Sample_taxid_ch1', '!Sample_description', '!Sample_description',\n",
       "       '!Sample_data_processing', '!Sample_data_processing',\n",
       "       '!Sample_data_processing', '!Sample_platform_id',\n",
       "       '!Sample_contact_name', '!Sample_contact_email',\n",
       "       '!Sample_contact_institute', '!Sample_contact_address',\n",
       "       '!Sample_contact_city', '!Sample_contact_zip/postal_code',\n",
       "       '!Sample_contact_country', '!Sample_data_row_count',\n",
       "       '!Sample_instrument_model', '!Sample_library_selection',\n",
       "       '!Sample_library_source', '!Sample_library_strategy',\n",
       "       '!Sample_relation', '!Sample_relation', '!Sample_supplementary_file_1',\n",
       "       '!series_matrix_table_begin', 'ID_REF', '!series_matrix_table_end'],\n",
       "      dtype='object', name='!Sample_title')"
      ]
     },
     "execution_count": 11,
     "metadata": {},
     "output_type": "execute_result"
    }
   ],
   "source": [
    "Smat.columns"
   ]
  },
  {
   "cell_type": "code",
   "execution_count": 7,
   "id": "appropriate-playlist",
   "metadata": {},
   "outputs": [],
   "source": [
    "meta1 = Smat.iloc[:, [0,7,8,9,10,11,12,17]].copy()"
   ]
  },
  {
   "cell_type": "code",
   "execution_count": 13,
   "id": "figured-mayor",
   "metadata": {
    "scrolled": false
   },
   "outputs": [
    {
     "data": {
      "text/html": [
       "<div>\n",
       "<style scoped>\n",
       "    .dataframe tbody tr th:only-of-type {\n",
       "        vertical-align: middle;\n",
       "    }\n",
       "\n",
       "    .dataframe tbody tr th {\n",
       "        vertical-align: top;\n",
       "    }\n",
       "\n",
       "    .dataframe thead th {\n",
       "        text-align: right;\n",
       "    }\n",
       "</style>\n",
       "<table border=\"1\" class=\"dataframe\">\n",
       "  <thead>\n",
       "    <tr style=\"text-align: right;\">\n",
       "      <th>!Sample_title</th>\n",
       "      <th>!Sample_geo_accession</th>\n",
       "      <th>!Sample_organism_ch1</th>\n",
       "      <th>!Sample_characteristics_ch1</th>\n",
       "      <th>!Sample_characteristics_ch1</th>\n",
       "      <th>!Sample_characteristics_ch1</th>\n",
       "      <th>!Sample_characteristics_ch1</th>\n",
       "      <th>!Sample_characteristics_ch1</th>\n",
       "      <th>!Sample_description</th>\n",
       "    </tr>\n",
       "  </thead>\n",
       "  <tbody>\n",
       "    <tr>\n",
       "      <th>RFPMIRemA1</th>\n",
       "      <td>GSM3501487</td>\n",
       "      <td>Mus musculus</td>\n",
       "      <td>strain background: C57BL/6</td>\n",
       "      <td>genotype/variation: Ki67TagRFP</td>\n",
       "      <td>time point: 14 days post-MI</td>\n",
       "      <td>tissue: Heart</td>\n",
       "      <td>heart region: remote area</td>\n",
       "      <td>Murine hearts 14 days after myocardial infarction</td>\n",
       "    </tr>\n",
       "    <tr>\n",
       "      <th>RFPMIRemA2</th>\n",
       "      <td>GSM3501488</td>\n",
       "      <td>Mus musculus</td>\n",
       "      <td>strain background: C57BL/6</td>\n",
       "      <td>genotype/variation: Ki67TagRFP</td>\n",
       "      <td>time point: 14 days post-MI</td>\n",
       "      <td>tissue: Heart</td>\n",
       "      <td>heart region: remote area</td>\n",
       "      <td>Murine hearts 14 days after myocardial infarction</td>\n",
       "    </tr>\n",
       "  </tbody>\n",
       "</table>\n",
       "</div>"
      ],
      "text/plain": [
       "!Sample_title !Sample_geo_accession !Sample_organism_ch1  \\\n",
       "RFPMIRemA1               GSM3501487         Mus musculus   \n",
       "RFPMIRemA2               GSM3501488         Mus musculus   \n",
       "\n",
       "!Sample_title !Sample_characteristics_ch1     !Sample_characteristics_ch1  \\\n",
       "RFPMIRemA1     strain background: C57BL/6  genotype/variation: Ki67TagRFP   \n",
       "RFPMIRemA2     strain background: C57BL/6  genotype/variation: Ki67TagRFP   \n",
       "\n",
       "!Sample_title  !Sample_characteristics_ch1 !Sample_characteristics_ch1  \\\n",
       "RFPMIRemA1     time point: 14 days post-MI               tissue: Heart   \n",
       "RFPMIRemA2     time point: 14 days post-MI               tissue: Heart   \n",
       "\n",
       "!Sample_title !Sample_characteristics_ch1  \\\n",
       "RFPMIRemA1      heart region: remote area   \n",
       "RFPMIRemA2      heart region: remote area   \n",
       "\n",
       "!Sample_title                                !Sample_description  \n",
       "RFPMIRemA1     Murine hearts 14 days after myocardial infarction  \n",
       "RFPMIRemA2     Murine hearts 14 days after myocardial infarction  "
      ]
     },
     "execution_count": 13,
     "metadata": {},
     "output_type": "execute_result"
    }
   ],
   "source": [
    "meta1.head(2)"
   ]
  },
  {
   "cell_type": "code",
   "execution_count": 8,
   "id": "increased-brake",
   "metadata": {},
   "outputs": [],
   "source": [
    "meta = pd.DataFrame([])"
   ]
  },
  {
   "cell_type": "code",
   "execution_count": 9,
   "id": "signal-clause",
   "metadata": {},
   "outputs": [],
   "source": [
    "meta['Index'] = meta1['!Sample_geo_accession']\n",
    "meta['Organism'] = meta1['!Sample_organism_ch1']\n",
    "meta['Strain'] = 'C57BL/6'\n",
    "meta['Tissue'] = 'ventricles'"
   ]
  },
  {
   "cell_type": "code",
   "execution_count": 10,
   "id": "medium-petroleum",
   "metadata": {},
   "outputs": [],
   "source": [
    "meta['Genotype'] = [x.split(':')[1].lstrip().replace('wildtype', 'WT') for x in meta1.iloc[:,3]]"
   ]
  },
  {
   "cell_type": "code",
   "execution_count": 11,
   "id": "strong-responsibility",
   "metadata": {},
   "outputs": [],
   "source": [
    "meta['CellType'] = [str(x).split(':')[1].lstrip() if ':' in str(x) else 'heart' for x in meta1.iloc[:,6]]"
   ]
  },
  {
   "cell_type": "code",
   "execution_count": 12,
   "id": "structured-synthesis",
   "metadata": {},
   "outputs": [],
   "source": [
    "meta['Development_stage'] = ['adult' if '14' in x else x.split(':')[1].lstrip().replace('Neonatal', 'neonatal').replace('neonate', 'neonatal')  for x in meta1.iloc[:,4]]"
   ]
  },
  {
   "cell_type": "code",
   "execution_count": 13,
   "id": "generous-hayes",
   "metadata": {},
   "outputs": [],
   "source": [
    "meta['Age'] = ['8' if 'adult' in x else '1' for x in meta['Development_stage']]"
   ]
  },
  {
   "cell_type": "code",
   "execution_count": 14,
   "id": "raising-natural",
   "metadata": {},
   "outputs": [
    {
     "name": "stdout",
     "output_type": "stream",
     "text": [
      "['MI' 'MI' 'MI' 'MI' 'MI' 'MI' 'MI' 'MI' 'Sham' 'Sham' 'Sham' 'Sham'\n",
      " 'Sham' 'Sham' 'Sham' 'Sham' 'MI' 'MI' 'MI' 'MI' 'MI' 'MI' 'MI' 'MI' 'WT'\n",
      " 'WT' 'WT' 'WT' 'WT' 'WT' 'WT' 'WT' 'WT' 'WT' 'WT' 'WT' 'WT' 'WT' 'WT'\n",
      " 'Sham' 'MI' 'IR' 'Sham' 'WT' 'WT' 'WT' 'IR' 'WT' 'WT' 'MI' 'Sham' 'IR'\n",
      " 'WT' 'WT']\n"
     ]
    }
   ],
   "source": [
    "Condition = np.array([])\n",
    "for x in meta1.iloc[:,7]:\n",
    "    if 'infarction' in x:\n",
    "        Condition = np.append(Condition, 'MI')\n",
    "    elif 'sham' in x:\n",
    "        Condition = np.append(Condition, 'Sham')\n",
    "    elif 'murine heart' in x:\n",
    "        Condition = np.append(Condition, 'WT')\n",
    "    elif 'ischemia' in x:\n",
    "        Condition = np.append(Condition, 'IR')\n",
    "    else:\n",
    "        Condition = np.append(Condition, 'NA')\n",
    "print(Condition)"
   ]
  },
  {
   "cell_type": "code",
   "execution_count": 15,
   "id": "oriented-lotus",
   "metadata": {},
   "outputs": [],
   "source": [
    "meta['Condition'] = Condition"
   ]
  },
  {
   "cell_type": "code",
   "execution_count": 16,
   "id": "mediterranean-agency",
   "metadata": {},
   "outputs": [],
   "source": [
    "meta['Day'] = [0 if 'WT' in x else 14 for x in meta['Condition']]"
   ]
  },
  {
   "cell_type": "code",
   "execution_count": 23,
   "id": "maritime-stand",
   "metadata": {},
   "outputs": [
    {
     "data": {
      "text/plain": [
       "Index(['RFPMIRemA1', 'RFPMIRemA2', 'RFPMIRemA3', 'RFPMIRemA4', 'RFPMIInfB1',\n",
       "       'RFPMIInfB2', 'RFPMIInfB3', 'RFPMIInfB4', 'RFPSHApC1', 'RFPSHApC2',\n",
       "       'RFPSHApC3', 'RFPSHApC4', 'RFPSHInfD1', 'RFPSHInfD2', 'RFPSHInfD3',\n",
       "       'RFPSHInfD4', 'RFPMIInfE1', 'RFPMIInfE2', 'RFPMIInfE3', 'RFPMIInfE4',\n",
       "       'RFPMIRemF1', 'RFPMIRemF2', 'RFPMIRemF3', 'RFPMIRemF4', 'RFPadultG1',\n",
       "       'RFPadultG2', 'RFPadultH1', 'RFPadultH2', 'RFPadultH3', 'RFPadultH4',\n",
       "       'WTneoI', 'WTadultJ1', 'WTadultJ2', 'WTadultJ3', 'WTadultJ4',\n",
       "       'WTadultK1', 'WTadultK2', 'WTadultK3', 'WTadultK4', 'RFPSHInfL',\n",
       "       'RFPMIInfM', 'RFPIRInfN', 'RFPSHInfO', 'RFPadultP', 'RFPadultQ',\n",
       "       'RFPadultR', 'RFPIRInfS', 'WTadultT', 'RFPneoU', 'WTMIInfV',\n",
       "       'RFPSHInfW', 'RFPIRInfX', 'WTadultY', 'RFPadultZ'],\n",
       "      dtype='object')"
      ]
     },
     "execution_count": 23,
     "metadata": {},
     "output_type": "execute_result"
    }
   ],
   "source": [
    "meta1.index"
   ]
  },
  {
   "cell_type": "code",
   "execution_count": 17,
   "id": "upset-deployment",
   "metadata": {},
   "outputs": [],
   "source": [
    "meta['Replicate'] = [x[-2:] if re.compile(r\".*[0-9]$\").match(x) else x[-1:] for x in meta1.index]"
   ]
  },
  {
   "cell_type": "code",
   "execution_count": 18,
   "id": "early-newspaper",
   "metadata": {},
   "outputs": [
    {
     "data": {
      "text/html": [
       "<div>\n",
       "<style scoped>\n",
       "    .dataframe tbody tr th:only-of-type {\n",
       "        vertical-align: middle;\n",
       "    }\n",
       "\n",
       "    .dataframe tbody tr th {\n",
       "        vertical-align: top;\n",
       "    }\n",
       "\n",
       "    .dataframe thead th {\n",
       "        text-align: right;\n",
       "    }\n",
       "</style>\n",
       "<table border=\"1\" class=\"dataframe\">\n",
       "  <thead>\n",
       "    <tr style=\"text-align: right;\">\n",
       "      <th></th>\n",
       "      <th>Index</th>\n",
       "      <th>Organism</th>\n",
       "      <th>Strain</th>\n",
       "      <th>Tissue</th>\n",
       "      <th>Genotype</th>\n",
       "      <th>CellType</th>\n",
       "      <th>Development_stage</th>\n",
       "      <th>Age</th>\n",
       "      <th>Condition</th>\n",
       "      <th>Day</th>\n",
       "      <th>Replicate</th>\n",
       "    </tr>\n",
       "  </thead>\n",
       "  <tbody>\n",
       "    <tr>\n",
       "      <th>RFPMIRemA1</th>\n",
       "      <td>GSM3501487</td>\n",
       "      <td>Mus musculus</td>\n",
       "      <td>C57BL/6</td>\n",
       "      <td>ventricles</td>\n",
       "      <td>Ki67TagRFP</td>\n",
       "      <td>remote area</td>\n",
       "      <td>adult</td>\n",
       "      <td>8</td>\n",
       "      <td>MI</td>\n",
       "      <td>14</td>\n",
       "      <td>A1</td>\n",
       "    </tr>\n",
       "    <tr>\n",
       "      <th>RFPMIRemA2</th>\n",
       "      <td>GSM3501488</td>\n",
       "      <td>Mus musculus</td>\n",
       "      <td>C57BL/6</td>\n",
       "      <td>ventricles</td>\n",
       "      <td>Ki67TagRFP</td>\n",
       "      <td>remote area</td>\n",
       "      <td>adult</td>\n",
       "      <td>8</td>\n",
       "      <td>MI</td>\n",
       "      <td>14</td>\n",
       "      <td>A2</td>\n",
       "    </tr>\n",
       "    <tr>\n",
       "      <th>RFPMIRemA3</th>\n",
       "      <td>GSM3501489</td>\n",
       "      <td>Mus musculus</td>\n",
       "      <td>C57BL/6</td>\n",
       "      <td>ventricles</td>\n",
       "      <td>Ki67TagRFP</td>\n",
       "      <td>remote area</td>\n",
       "      <td>adult</td>\n",
       "      <td>8</td>\n",
       "      <td>MI</td>\n",
       "      <td>14</td>\n",
       "      <td>A3</td>\n",
       "    </tr>\n",
       "    <tr>\n",
       "      <th>RFPMIRemA4</th>\n",
       "      <td>GSM3501490</td>\n",
       "      <td>Mus musculus</td>\n",
       "      <td>C57BL/6</td>\n",
       "      <td>ventricles</td>\n",
       "      <td>Ki67TagRFP</td>\n",
       "      <td>remote area</td>\n",
       "      <td>adult</td>\n",
       "      <td>8</td>\n",
       "      <td>MI</td>\n",
       "      <td>14</td>\n",
       "      <td>A4</td>\n",
       "    </tr>\n",
       "    <tr>\n",
       "      <th>RFPMIInfB1</th>\n",
       "      <td>GSM3501491</td>\n",
       "      <td>Mus musculus</td>\n",
       "      <td>C57BL/6</td>\n",
       "      <td>ventricles</td>\n",
       "      <td>Ki67TagRFP</td>\n",
       "      <td>infarcted area</td>\n",
       "      <td>adult</td>\n",
       "      <td>8</td>\n",
       "      <td>MI</td>\n",
       "      <td>14</td>\n",
       "      <td>B1</td>\n",
       "    </tr>\n",
       "    <tr>\n",
       "      <th>RFPMIInfB2</th>\n",
       "      <td>GSM3501492</td>\n",
       "      <td>Mus musculus</td>\n",
       "      <td>C57BL/6</td>\n",
       "      <td>ventricles</td>\n",
       "      <td>Ki67TagRFP</td>\n",
       "      <td>infarcted area</td>\n",
       "      <td>adult</td>\n",
       "      <td>8</td>\n",
       "      <td>MI</td>\n",
       "      <td>14</td>\n",
       "      <td>B2</td>\n",
       "    </tr>\n",
       "    <tr>\n",
       "      <th>RFPMIInfB3</th>\n",
       "      <td>GSM3501493</td>\n",
       "      <td>Mus musculus</td>\n",
       "      <td>C57BL/6</td>\n",
       "      <td>ventricles</td>\n",
       "      <td>Ki67TagRFP</td>\n",
       "      <td>infarcted area</td>\n",
       "      <td>adult</td>\n",
       "      <td>8</td>\n",
       "      <td>MI</td>\n",
       "      <td>14</td>\n",
       "      <td>B3</td>\n",
       "    </tr>\n",
       "    <tr>\n",
       "      <th>RFPMIInfB4</th>\n",
       "      <td>GSM3501494</td>\n",
       "      <td>Mus musculus</td>\n",
       "      <td>C57BL/6</td>\n",
       "      <td>ventricles</td>\n",
       "      <td>Ki67TagRFP</td>\n",
       "      <td>infarcted area</td>\n",
       "      <td>adult</td>\n",
       "      <td>8</td>\n",
       "      <td>MI</td>\n",
       "      <td>14</td>\n",
       "      <td>B4</td>\n",
       "    </tr>\n",
       "    <tr>\n",
       "      <th>RFPSHApC1</th>\n",
       "      <td>GSM3501495</td>\n",
       "      <td>Mus musculus</td>\n",
       "      <td>C57BL/6</td>\n",
       "      <td>ventricles</td>\n",
       "      <td>Ki67TagRFP</td>\n",
       "      <td>remote area</td>\n",
       "      <td>adult</td>\n",
       "      <td>8</td>\n",
       "      <td>Sham</td>\n",
       "      <td>14</td>\n",
       "      <td>C1</td>\n",
       "    </tr>\n",
       "    <tr>\n",
       "      <th>RFPSHApC2</th>\n",
       "      <td>GSM3501496</td>\n",
       "      <td>Mus musculus</td>\n",
       "      <td>C57BL/6</td>\n",
       "      <td>ventricles</td>\n",
       "      <td>Ki67TagRFP</td>\n",
       "      <td>remote area</td>\n",
       "      <td>adult</td>\n",
       "      <td>8</td>\n",
       "      <td>Sham</td>\n",
       "      <td>14</td>\n",
       "      <td>C2</td>\n",
       "    </tr>\n",
       "    <tr>\n",
       "      <th>RFPSHApC3</th>\n",
       "      <td>GSM3501497</td>\n",
       "      <td>Mus musculus</td>\n",
       "      <td>C57BL/6</td>\n",
       "      <td>ventricles</td>\n",
       "      <td>Ki67TagRFP</td>\n",
       "      <td>remote area</td>\n",
       "      <td>adult</td>\n",
       "      <td>8</td>\n",
       "      <td>Sham</td>\n",
       "      <td>14</td>\n",
       "      <td>C3</td>\n",
       "    </tr>\n",
       "    <tr>\n",
       "      <th>RFPSHApC4</th>\n",
       "      <td>GSM3501498</td>\n",
       "      <td>Mus musculus</td>\n",
       "      <td>C57BL/6</td>\n",
       "      <td>ventricles</td>\n",
       "      <td>Ki67TagRFP</td>\n",
       "      <td>remote area</td>\n",
       "      <td>adult</td>\n",
       "      <td>8</td>\n",
       "      <td>Sham</td>\n",
       "      <td>14</td>\n",
       "      <td>C4</td>\n",
       "    </tr>\n",
       "    <tr>\n",
       "      <th>RFPSHInfD1</th>\n",
       "      <td>GSM3501499</td>\n",
       "      <td>Mus musculus</td>\n",
       "      <td>C57BL/6</td>\n",
       "      <td>ventricles</td>\n",
       "      <td>Ki67TagRFP</td>\n",
       "      <td>apex area</td>\n",
       "      <td>adult</td>\n",
       "      <td>8</td>\n",
       "      <td>Sham</td>\n",
       "      <td>14</td>\n",
       "      <td>D1</td>\n",
       "    </tr>\n",
       "    <tr>\n",
       "      <th>RFPSHInfD2</th>\n",
       "      <td>GSM3501500</td>\n",
       "      <td>Mus musculus</td>\n",
       "      <td>C57BL/6</td>\n",
       "      <td>ventricles</td>\n",
       "      <td>Ki67TagRFP</td>\n",
       "      <td>apex area</td>\n",
       "      <td>adult</td>\n",
       "      <td>8</td>\n",
       "      <td>Sham</td>\n",
       "      <td>14</td>\n",
       "      <td>D2</td>\n",
       "    </tr>\n",
       "    <tr>\n",
       "      <th>RFPSHInfD3</th>\n",
       "      <td>GSM3501501</td>\n",
       "      <td>Mus musculus</td>\n",
       "      <td>C57BL/6</td>\n",
       "      <td>ventricles</td>\n",
       "      <td>Ki67TagRFP</td>\n",
       "      <td>apex area</td>\n",
       "      <td>adult</td>\n",
       "      <td>8</td>\n",
       "      <td>Sham</td>\n",
       "      <td>14</td>\n",
       "      <td>D3</td>\n",
       "    </tr>\n",
       "    <tr>\n",
       "      <th>RFPSHInfD4</th>\n",
       "      <td>GSM3501502</td>\n",
       "      <td>Mus musculus</td>\n",
       "      <td>C57BL/6</td>\n",
       "      <td>ventricles</td>\n",
       "      <td>Ki67TagRFP</td>\n",
       "      <td>apex area</td>\n",
       "      <td>adult</td>\n",
       "      <td>8</td>\n",
       "      <td>Sham</td>\n",
       "      <td>14</td>\n",
       "      <td>D4</td>\n",
       "    </tr>\n",
       "    <tr>\n",
       "      <th>RFPMIInfE1</th>\n",
       "      <td>GSM3501503</td>\n",
       "      <td>Mus musculus</td>\n",
       "      <td>C57BL/6</td>\n",
       "      <td>ventricles</td>\n",
       "      <td>Ki67TagRFP</td>\n",
       "      <td>infarcted area</td>\n",
       "      <td>adult</td>\n",
       "      <td>8</td>\n",
       "      <td>MI</td>\n",
       "      <td>14</td>\n",
       "      <td>E1</td>\n",
       "    </tr>\n",
       "    <tr>\n",
       "      <th>RFPMIInfE2</th>\n",
       "      <td>GSM3501504</td>\n",
       "      <td>Mus musculus</td>\n",
       "      <td>C57BL/6</td>\n",
       "      <td>ventricles</td>\n",
       "      <td>Ki67TagRFP</td>\n",
       "      <td>infarcted area</td>\n",
       "      <td>adult</td>\n",
       "      <td>8</td>\n",
       "      <td>MI</td>\n",
       "      <td>14</td>\n",
       "      <td>E2</td>\n",
       "    </tr>\n",
       "    <tr>\n",
       "      <th>RFPMIInfE3</th>\n",
       "      <td>GSM3501505</td>\n",
       "      <td>Mus musculus</td>\n",
       "      <td>C57BL/6</td>\n",
       "      <td>ventricles</td>\n",
       "      <td>Ki67TagRFP</td>\n",
       "      <td>infarcted area</td>\n",
       "      <td>adult</td>\n",
       "      <td>8</td>\n",
       "      <td>MI</td>\n",
       "      <td>14</td>\n",
       "      <td>E3</td>\n",
       "    </tr>\n",
       "    <tr>\n",
       "      <th>RFPMIInfE4</th>\n",
       "      <td>GSM3501506</td>\n",
       "      <td>Mus musculus</td>\n",
       "      <td>C57BL/6</td>\n",
       "      <td>ventricles</td>\n",
       "      <td>Ki67TagRFP</td>\n",
       "      <td>infarcted area</td>\n",
       "      <td>adult</td>\n",
       "      <td>8</td>\n",
       "      <td>MI</td>\n",
       "      <td>14</td>\n",
       "      <td>E4</td>\n",
       "    </tr>\n",
       "    <tr>\n",
       "      <th>RFPMIRemF1</th>\n",
       "      <td>GSM3501507</td>\n",
       "      <td>Mus musculus</td>\n",
       "      <td>C57BL/6</td>\n",
       "      <td>ventricles</td>\n",
       "      <td>Ki67TagRFP</td>\n",
       "      <td>remote area</td>\n",
       "      <td>adult</td>\n",
       "      <td>8</td>\n",
       "      <td>MI</td>\n",
       "      <td>14</td>\n",
       "      <td>F1</td>\n",
       "    </tr>\n",
       "    <tr>\n",
       "      <th>RFPMIRemF2</th>\n",
       "      <td>GSM3501508</td>\n",
       "      <td>Mus musculus</td>\n",
       "      <td>C57BL/6</td>\n",
       "      <td>ventricles</td>\n",
       "      <td>Ki67TagRFP</td>\n",
       "      <td>remote area</td>\n",
       "      <td>adult</td>\n",
       "      <td>8</td>\n",
       "      <td>MI</td>\n",
       "      <td>14</td>\n",
       "      <td>F2</td>\n",
       "    </tr>\n",
       "    <tr>\n",
       "      <th>RFPMIRemF3</th>\n",
       "      <td>GSM3501509</td>\n",
       "      <td>Mus musculus</td>\n",
       "      <td>C57BL/6</td>\n",
       "      <td>ventricles</td>\n",
       "      <td>Ki67TagRFP</td>\n",
       "      <td>remote area</td>\n",
       "      <td>adult</td>\n",
       "      <td>8</td>\n",
       "      <td>MI</td>\n",
       "      <td>14</td>\n",
       "      <td>F3</td>\n",
       "    </tr>\n",
       "    <tr>\n",
       "      <th>RFPMIRemF4</th>\n",
       "      <td>GSM3501510</td>\n",
       "      <td>Mus musculus</td>\n",
       "      <td>C57BL/6</td>\n",
       "      <td>ventricles</td>\n",
       "      <td>Ki67TagRFP</td>\n",
       "      <td>remote area</td>\n",
       "      <td>adult</td>\n",
       "      <td>8</td>\n",
       "      <td>MI</td>\n",
       "      <td>14</td>\n",
       "      <td>F4</td>\n",
       "    </tr>\n",
       "    <tr>\n",
       "      <th>RFPadultG1</th>\n",
       "      <td>GSM3501511</td>\n",
       "      <td>Mus musculus</td>\n",
       "      <td>C57BL/6</td>\n",
       "      <td>ventricles</td>\n",
       "      <td>Ki67TagRFP</td>\n",
       "      <td>ventricles</td>\n",
       "      <td>adult</td>\n",
       "      <td>8</td>\n",
       "      <td>WT</td>\n",
       "      <td>0</td>\n",
       "      <td>G1</td>\n",
       "    </tr>\n",
       "    <tr>\n",
       "      <th>RFPadultG2</th>\n",
       "      <td>GSM3501512</td>\n",
       "      <td>Mus musculus</td>\n",
       "      <td>C57BL/6</td>\n",
       "      <td>ventricles</td>\n",
       "      <td>Ki67TagRFP</td>\n",
       "      <td>ventricles</td>\n",
       "      <td>adult</td>\n",
       "      <td>8</td>\n",
       "      <td>WT</td>\n",
       "      <td>0</td>\n",
       "      <td>G2</td>\n",
       "    </tr>\n",
       "    <tr>\n",
       "      <th>RFPadultH1</th>\n",
       "      <td>GSM3501513</td>\n",
       "      <td>Mus musculus</td>\n",
       "      <td>C57BL/6</td>\n",
       "      <td>ventricles</td>\n",
       "      <td>Ki67TagRFP</td>\n",
       "      <td>ventricles</td>\n",
       "      <td>adult</td>\n",
       "      <td>8</td>\n",
       "      <td>WT</td>\n",
       "      <td>0</td>\n",
       "      <td>H1</td>\n",
       "    </tr>\n",
       "    <tr>\n",
       "      <th>RFPadultH2</th>\n",
       "      <td>GSM3501514</td>\n",
       "      <td>Mus musculus</td>\n",
       "      <td>C57BL/6</td>\n",
       "      <td>ventricles</td>\n",
       "      <td>Ki67TagRFP</td>\n",
       "      <td>ventricles</td>\n",
       "      <td>adult</td>\n",
       "      <td>8</td>\n",
       "      <td>WT</td>\n",
       "      <td>0</td>\n",
       "      <td>H2</td>\n",
       "    </tr>\n",
       "    <tr>\n",
       "      <th>RFPadultH3</th>\n",
       "      <td>GSM3501515</td>\n",
       "      <td>Mus musculus</td>\n",
       "      <td>C57BL/6</td>\n",
       "      <td>ventricles</td>\n",
       "      <td>Ki67TagRFP</td>\n",
       "      <td>ventricles</td>\n",
       "      <td>adult</td>\n",
       "      <td>8</td>\n",
       "      <td>WT</td>\n",
       "      <td>0</td>\n",
       "      <td>H3</td>\n",
       "    </tr>\n",
       "    <tr>\n",
       "      <th>RFPadultH4</th>\n",
       "      <td>GSM3501516</td>\n",
       "      <td>Mus musculus</td>\n",
       "      <td>C57BL/6</td>\n",
       "      <td>ventricles</td>\n",
       "      <td>Ki67TagRFP</td>\n",
       "      <td>ventricles</td>\n",
       "      <td>adult</td>\n",
       "      <td>8</td>\n",
       "      <td>WT</td>\n",
       "      <td>0</td>\n",
       "      <td>H4</td>\n",
       "    </tr>\n",
       "    <tr>\n",
       "      <th>WTneoI</th>\n",
       "      <td>GSM3501517</td>\n",
       "      <td>Mus musculus</td>\n",
       "      <td>C57BL/6</td>\n",
       "      <td>ventricles</td>\n",
       "      <td>WT</td>\n",
       "      <td>ventricles</td>\n",
       "      <td>neonatal</td>\n",
       "      <td>1</td>\n",
       "      <td>WT</td>\n",
       "      <td>0</td>\n",
       "      <td>I</td>\n",
       "    </tr>\n",
       "    <tr>\n",
       "      <th>WTadultJ1</th>\n",
       "      <td>GSM3501518</td>\n",
       "      <td>Mus musculus</td>\n",
       "      <td>C57BL/6</td>\n",
       "      <td>ventricles</td>\n",
       "      <td>WT</td>\n",
       "      <td>ventricles</td>\n",
       "      <td>adult</td>\n",
       "      <td>8</td>\n",
       "      <td>WT</td>\n",
       "      <td>0</td>\n",
       "      <td>J1</td>\n",
       "    </tr>\n",
       "    <tr>\n",
       "      <th>WTadultJ2</th>\n",
       "      <td>GSM3501519</td>\n",
       "      <td>Mus musculus</td>\n",
       "      <td>C57BL/6</td>\n",
       "      <td>ventricles</td>\n",
       "      <td>WT</td>\n",
       "      <td>ventricles</td>\n",
       "      <td>adult</td>\n",
       "      <td>8</td>\n",
       "      <td>WT</td>\n",
       "      <td>0</td>\n",
       "      <td>J2</td>\n",
       "    </tr>\n",
       "    <tr>\n",
       "      <th>WTadultJ3</th>\n",
       "      <td>GSM3501520</td>\n",
       "      <td>Mus musculus</td>\n",
       "      <td>C57BL/6</td>\n",
       "      <td>ventricles</td>\n",
       "      <td>WT</td>\n",
       "      <td>ventricles</td>\n",
       "      <td>adult</td>\n",
       "      <td>8</td>\n",
       "      <td>WT</td>\n",
       "      <td>0</td>\n",
       "      <td>J3</td>\n",
       "    </tr>\n",
       "    <tr>\n",
       "      <th>WTadultJ4</th>\n",
       "      <td>GSM3501521</td>\n",
       "      <td>Mus musculus</td>\n",
       "      <td>C57BL/6</td>\n",
       "      <td>ventricles</td>\n",
       "      <td>WT</td>\n",
       "      <td>ventricles</td>\n",
       "      <td>adult</td>\n",
       "      <td>8</td>\n",
       "      <td>WT</td>\n",
       "      <td>0</td>\n",
       "      <td>J4</td>\n",
       "    </tr>\n",
       "    <tr>\n",
       "      <th>WTadultK1</th>\n",
       "      <td>GSM3501522</td>\n",
       "      <td>Mus musculus</td>\n",
       "      <td>C57BL/6</td>\n",
       "      <td>ventricles</td>\n",
       "      <td>WT</td>\n",
       "      <td>ventricles</td>\n",
       "      <td>adult</td>\n",
       "      <td>8</td>\n",
       "      <td>WT</td>\n",
       "      <td>0</td>\n",
       "      <td>K1</td>\n",
       "    </tr>\n",
       "    <tr>\n",
       "      <th>WTadultK2</th>\n",
       "      <td>GSM3501523</td>\n",
       "      <td>Mus musculus</td>\n",
       "      <td>C57BL/6</td>\n",
       "      <td>ventricles</td>\n",
       "      <td>WT</td>\n",
       "      <td>ventricles</td>\n",
       "      <td>adult</td>\n",
       "      <td>8</td>\n",
       "      <td>WT</td>\n",
       "      <td>0</td>\n",
       "      <td>K2</td>\n",
       "    </tr>\n",
       "    <tr>\n",
       "      <th>WTadultK3</th>\n",
       "      <td>GSM3501524</td>\n",
       "      <td>Mus musculus</td>\n",
       "      <td>C57BL/6</td>\n",
       "      <td>ventricles</td>\n",
       "      <td>WT</td>\n",
       "      <td>ventricles</td>\n",
       "      <td>adult</td>\n",
       "      <td>8</td>\n",
       "      <td>WT</td>\n",
       "      <td>0</td>\n",
       "      <td>K3</td>\n",
       "    </tr>\n",
       "    <tr>\n",
       "      <th>WTadultK4</th>\n",
       "      <td>GSM3501525</td>\n",
       "      <td>Mus musculus</td>\n",
       "      <td>C57BL/6</td>\n",
       "      <td>ventricles</td>\n",
       "      <td>WT</td>\n",
       "      <td>ventricles</td>\n",
       "      <td>adult</td>\n",
       "      <td>8</td>\n",
       "      <td>WT</td>\n",
       "      <td>0</td>\n",
       "      <td>K4</td>\n",
       "    </tr>\n",
       "    <tr>\n",
       "      <th>RFPSHInfL</th>\n",
       "      <td>GSM3508674</td>\n",
       "      <td>Mus musculus</td>\n",
       "      <td>C57BL/6</td>\n",
       "      <td>ventricles</td>\n",
       "      <td>Ki67TagRFP</td>\n",
       "      <td>apex</td>\n",
       "      <td>adult</td>\n",
       "      <td>8</td>\n",
       "      <td>Sham</td>\n",
       "      <td>14</td>\n",
       "      <td>L</td>\n",
       "    </tr>\n",
       "    <tr>\n",
       "      <th>RFPMIInfM</th>\n",
       "      <td>GSM3508675</td>\n",
       "      <td>Mus musculus</td>\n",
       "      <td>C57BL/6</td>\n",
       "      <td>ventricles</td>\n",
       "      <td>Ki67TagRFP</td>\n",
       "      <td>infarcted area</td>\n",
       "      <td>adult</td>\n",
       "      <td>8</td>\n",
       "      <td>MI</td>\n",
       "      <td>14</td>\n",
       "      <td>M</td>\n",
       "    </tr>\n",
       "    <tr>\n",
       "      <th>RFPIRInfN</th>\n",
       "      <td>GSM3508676</td>\n",
       "      <td>Mus musculus</td>\n",
       "      <td>C57BL/6</td>\n",
       "      <td>ventricles</td>\n",
       "      <td>Ki67TagRFP</td>\n",
       "      <td>infarcted area</td>\n",
       "      <td>adult</td>\n",
       "      <td>8</td>\n",
       "      <td>IR</td>\n",
       "      <td>14</td>\n",
       "      <td>N</td>\n",
       "    </tr>\n",
       "    <tr>\n",
       "      <th>RFPSHInfO</th>\n",
       "      <td>GSM3508677</td>\n",
       "      <td>Mus musculus</td>\n",
       "      <td>C57BL/6</td>\n",
       "      <td>ventricles</td>\n",
       "      <td>Ki67TagRFP</td>\n",
       "      <td>apex</td>\n",
       "      <td>adult</td>\n",
       "      <td>8</td>\n",
       "      <td>Sham</td>\n",
       "      <td>14</td>\n",
       "      <td>O</td>\n",
       "    </tr>\n",
       "    <tr>\n",
       "      <th>RFPadultP</th>\n",
       "      <td>GSM3508678</td>\n",
       "      <td>Mus musculus</td>\n",
       "      <td>C57BL/6</td>\n",
       "      <td>ventricles</td>\n",
       "      <td>Ki67TagRFP</td>\n",
       "      <td>heart</td>\n",
       "      <td>adult</td>\n",
       "      <td>8</td>\n",
       "      <td>WT</td>\n",
       "      <td>0</td>\n",
       "      <td>P</td>\n",
       "    </tr>\n",
       "    <tr>\n",
       "      <th>RFPadultQ</th>\n",
       "      <td>GSM3508679</td>\n",
       "      <td>Mus musculus</td>\n",
       "      <td>C57BL/6</td>\n",
       "      <td>ventricles</td>\n",
       "      <td>Ki67TagRFP</td>\n",
       "      <td>heart</td>\n",
       "      <td>adult</td>\n",
       "      <td>8</td>\n",
       "      <td>WT</td>\n",
       "      <td>0</td>\n",
       "      <td>Q</td>\n",
       "    </tr>\n",
       "    <tr>\n",
       "      <th>RFPadultR</th>\n",
       "      <td>GSM3508680</td>\n",
       "      <td>Mus musculus</td>\n",
       "      <td>C57BL/6</td>\n",
       "      <td>ventricles</td>\n",
       "      <td>Ki67TagRFP</td>\n",
       "      <td>heart</td>\n",
       "      <td>adult</td>\n",
       "      <td>8</td>\n",
       "      <td>WT</td>\n",
       "      <td>0</td>\n",
       "      <td>R</td>\n",
       "    </tr>\n",
       "    <tr>\n",
       "      <th>RFPIRInfS</th>\n",
       "      <td>GSM3508681</td>\n",
       "      <td>Mus musculus</td>\n",
       "      <td>C57BL/6</td>\n",
       "      <td>ventricles</td>\n",
       "      <td>Ki67TagRFP</td>\n",
       "      <td>infarcted area</td>\n",
       "      <td>adult</td>\n",
       "      <td>8</td>\n",
       "      <td>IR</td>\n",
       "      <td>14</td>\n",
       "      <td>S</td>\n",
       "    </tr>\n",
       "    <tr>\n",
       "      <th>WTadultT</th>\n",
       "      <td>GSM3508682</td>\n",
       "      <td>Mus musculus</td>\n",
       "      <td>C57BL/6</td>\n",
       "      <td>ventricles</td>\n",
       "      <td>Ki67TagRFP</td>\n",
       "      <td>heart</td>\n",
       "      <td>adult</td>\n",
       "      <td>8</td>\n",
       "      <td>WT</td>\n",
       "      <td>0</td>\n",
       "      <td>T</td>\n",
       "    </tr>\n",
       "    <tr>\n",
       "      <th>RFPneoU</th>\n",
       "      <td>GSM3508683</td>\n",
       "      <td>Mus musculus</td>\n",
       "      <td>C57BL/6</td>\n",
       "      <td>ventricles</td>\n",
       "      <td>Ki67TagRFP</td>\n",
       "      <td>heart</td>\n",
       "      <td>neonatal</td>\n",
       "      <td>1</td>\n",
       "      <td>WT</td>\n",
       "      <td>0</td>\n",
       "      <td>U</td>\n",
       "    </tr>\n",
       "    <tr>\n",
       "      <th>WTMIInfV</th>\n",
       "      <td>GSM3508684</td>\n",
       "      <td>Mus musculus</td>\n",
       "      <td>C57BL/6</td>\n",
       "      <td>ventricles</td>\n",
       "      <td>WT</td>\n",
       "      <td>infarcted area</td>\n",
       "      <td>adult</td>\n",
       "      <td>8</td>\n",
       "      <td>MI</td>\n",
       "      <td>14</td>\n",
       "      <td>V</td>\n",
       "    </tr>\n",
       "    <tr>\n",
       "      <th>RFPSHInfW</th>\n",
       "      <td>GSM3508685</td>\n",
       "      <td>Mus musculus</td>\n",
       "      <td>C57BL/6</td>\n",
       "      <td>ventricles</td>\n",
       "      <td>Ki67TagRFP</td>\n",
       "      <td>apex</td>\n",
       "      <td>adult</td>\n",
       "      <td>8</td>\n",
       "      <td>Sham</td>\n",
       "      <td>14</td>\n",
       "      <td>W</td>\n",
       "    </tr>\n",
       "    <tr>\n",
       "      <th>RFPIRInfX</th>\n",
       "      <td>GSM3508686</td>\n",
       "      <td>Mus musculus</td>\n",
       "      <td>C57BL/6</td>\n",
       "      <td>ventricles</td>\n",
       "      <td>Ki67TagRFP</td>\n",
       "      <td>infarcted area</td>\n",
       "      <td>adult</td>\n",
       "      <td>8</td>\n",
       "      <td>IR</td>\n",
       "      <td>14</td>\n",
       "      <td>X</td>\n",
       "    </tr>\n",
       "    <tr>\n",
       "      <th>WTadultY</th>\n",
       "      <td>GSM3508687</td>\n",
       "      <td>Mus musculus</td>\n",
       "      <td>C57BL/6</td>\n",
       "      <td>ventricles</td>\n",
       "      <td>Ki67TagRFP</td>\n",
       "      <td>heart</td>\n",
       "      <td>adult</td>\n",
       "      <td>8</td>\n",
       "      <td>WT</td>\n",
       "      <td>0</td>\n",
       "      <td>Y</td>\n",
       "    </tr>\n",
       "    <tr>\n",
       "      <th>RFPadultZ</th>\n",
       "      <td>GSM3508688</td>\n",
       "      <td>Mus musculus</td>\n",
       "      <td>C57BL/6</td>\n",
       "      <td>ventricles</td>\n",
       "      <td>Ki67TagRFP</td>\n",
       "      <td>heart</td>\n",
       "      <td>adult</td>\n",
       "      <td>8</td>\n",
       "      <td>WT</td>\n",
       "      <td>0</td>\n",
       "      <td>Z</td>\n",
       "    </tr>\n",
       "  </tbody>\n",
       "</table>\n",
       "</div>"
      ],
      "text/plain": [
       "                 Index      Organism   Strain      Tissue    Genotype  \\\n",
       "RFPMIRemA1  GSM3501487  Mus musculus  C57BL/6  ventricles  Ki67TagRFP   \n",
       "RFPMIRemA2  GSM3501488  Mus musculus  C57BL/6  ventricles  Ki67TagRFP   \n",
       "RFPMIRemA3  GSM3501489  Mus musculus  C57BL/6  ventricles  Ki67TagRFP   \n",
       "RFPMIRemA4  GSM3501490  Mus musculus  C57BL/6  ventricles  Ki67TagRFP   \n",
       "RFPMIInfB1  GSM3501491  Mus musculus  C57BL/6  ventricles  Ki67TagRFP   \n",
       "RFPMIInfB2  GSM3501492  Mus musculus  C57BL/6  ventricles  Ki67TagRFP   \n",
       "RFPMIInfB3  GSM3501493  Mus musculus  C57BL/6  ventricles  Ki67TagRFP   \n",
       "RFPMIInfB4  GSM3501494  Mus musculus  C57BL/6  ventricles  Ki67TagRFP   \n",
       "RFPSHApC1   GSM3501495  Mus musculus  C57BL/6  ventricles  Ki67TagRFP   \n",
       "RFPSHApC2   GSM3501496  Mus musculus  C57BL/6  ventricles  Ki67TagRFP   \n",
       "RFPSHApC3   GSM3501497  Mus musculus  C57BL/6  ventricles  Ki67TagRFP   \n",
       "RFPSHApC4   GSM3501498  Mus musculus  C57BL/6  ventricles  Ki67TagRFP   \n",
       "RFPSHInfD1  GSM3501499  Mus musculus  C57BL/6  ventricles  Ki67TagRFP   \n",
       "RFPSHInfD2  GSM3501500  Mus musculus  C57BL/6  ventricles  Ki67TagRFP   \n",
       "RFPSHInfD3  GSM3501501  Mus musculus  C57BL/6  ventricles  Ki67TagRFP   \n",
       "RFPSHInfD4  GSM3501502  Mus musculus  C57BL/6  ventricles  Ki67TagRFP   \n",
       "RFPMIInfE1  GSM3501503  Mus musculus  C57BL/6  ventricles  Ki67TagRFP   \n",
       "RFPMIInfE2  GSM3501504  Mus musculus  C57BL/6  ventricles  Ki67TagRFP   \n",
       "RFPMIInfE3  GSM3501505  Mus musculus  C57BL/6  ventricles  Ki67TagRFP   \n",
       "RFPMIInfE4  GSM3501506  Mus musculus  C57BL/6  ventricles  Ki67TagRFP   \n",
       "RFPMIRemF1  GSM3501507  Mus musculus  C57BL/6  ventricles  Ki67TagRFP   \n",
       "RFPMIRemF2  GSM3501508  Mus musculus  C57BL/6  ventricles  Ki67TagRFP   \n",
       "RFPMIRemF3  GSM3501509  Mus musculus  C57BL/6  ventricles  Ki67TagRFP   \n",
       "RFPMIRemF4  GSM3501510  Mus musculus  C57BL/6  ventricles  Ki67TagRFP   \n",
       "RFPadultG1  GSM3501511  Mus musculus  C57BL/6  ventricles  Ki67TagRFP   \n",
       "RFPadultG2  GSM3501512  Mus musculus  C57BL/6  ventricles  Ki67TagRFP   \n",
       "RFPadultH1  GSM3501513  Mus musculus  C57BL/6  ventricles  Ki67TagRFP   \n",
       "RFPadultH2  GSM3501514  Mus musculus  C57BL/6  ventricles  Ki67TagRFP   \n",
       "RFPadultH3  GSM3501515  Mus musculus  C57BL/6  ventricles  Ki67TagRFP   \n",
       "RFPadultH4  GSM3501516  Mus musculus  C57BL/6  ventricles  Ki67TagRFP   \n",
       "WTneoI      GSM3501517  Mus musculus  C57BL/6  ventricles          WT   \n",
       "WTadultJ1   GSM3501518  Mus musculus  C57BL/6  ventricles          WT   \n",
       "WTadultJ2   GSM3501519  Mus musculus  C57BL/6  ventricles          WT   \n",
       "WTadultJ3   GSM3501520  Mus musculus  C57BL/6  ventricles          WT   \n",
       "WTadultJ4   GSM3501521  Mus musculus  C57BL/6  ventricles          WT   \n",
       "WTadultK1   GSM3501522  Mus musculus  C57BL/6  ventricles          WT   \n",
       "WTadultK2   GSM3501523  Mus musculus  C57BL/6  ventricles          WT   \n",
       "WTadultK3   GSM3501524  Mus musculus  C57BL/6  ventricles          WT   \n",
       "WTadultK4   GSM3501525  Mus musculus  C57BL/6  ventricles          WT   \n",
       "RFPSHInfL   GSM3508674  Mus musculus  C57BL/6  ventricles  Ki67TagRFP   \n",
       "RFPMIInfM   GSM3508675  Mus musculus  C57BL/6  ventricles  Ki67TagRFP   \n",
       "RFPIRInfN   GSM3508676  Mus musculus  C57BL/6  ventricles  Ki67TagRFP   \n",
       "RFPSHInfO   GSM3508677  Mus musculus  C57BL/6  ventricles  Ki67TagRFP   \n",
       "RFPadultP   GSM3508678  Mus musculus  C57BL/6  ventricles  Ki67TagRFP   \n",
       "RFPadultQ   GSM3508679  Mus musculus  C57BL/6  ventricles  Ki67TagRFP   \n",
       "RFPadultR   GSM3508680  Mus musculus  C57BL/6  ventricles  Ki67TagRFP   \n",
       "RFPIRInfS   GSM3508681  Mus musculus  C57BL/6  ventricles  Ki67TagRFP   \n",
       "WTadultT    GSM3508682  Mus musculus  C57BL/6  ventricles  Ki67TagRFP   \n",
       "RFPneoU     GSM3508683  Mus musculus  C57BL/6  ventricles  Ki67TagRFP   \n",
       "WTMIInfV    GSM3508684  Mus musculus  C57BL/6  ventricles          WT   \n",
       "RFPSHInfW   GSM3508685  Mus musculus  C57BL/6  ventricles  Ki67TagRFP   \n",
       "RFPIRInfX   GSM3508686  Mus musculus  C57BL/6  ventricles  Ki67TagRFP   \n",
       "WTadultY    GSM3508687  Mus musculus  C57BL/6  ventricles  Ki67TagRFP   \n",
       "RFPadultZ   GSM3508688  Mus musculus  C57BL/6  ventricles  Ki67TagRFP   \n",
       "\n",
       "                  CellType Development_stage Age Condition  Day Replicate  \n",
       "RFPMIRemA1     remote area             adult   8        MI   14        A1  \n",
       "RFPMIRemA2     remote area             adult   8        MI   14        A2  \n",
       "RFPMIRemA3     remote area             adult   8        MI   14        A3  \n",
       "RFPMIRemA4     remote area             adult   8        MI   14        A4  \n",
       "RFPMIInfB1  infarcted area             adult   8        MI   14        B1  \n",
       "RFPMIInfB2  infarcted area             adult   8        MI   14        B2  \n",
       "RFPMIInfB3  infarcted area             adult   8        MI   14        B3  \n",
       "RFPMIInfB4  infarcted area             adult   8        MI   14        B4  \n",
       "RFPSHApC1      remote area             adult   8      Sham   14        C1  \n",
       "RFPSHApC2      remote area             adult   8      Sham   14        C2  \n",
       "RFPSHApC3      remote area             adult   8      Sham   14        C3  \n",
       "RFPSHApC4      remote area             adult   8      Sham   14        C4  \n",
       "RFPSHInfD1       apex area             adult   8      Sham   14        D1  \n",
       "RFPSHInfD2       apex area             adult   8      Sham   14        D2  \n",
       "RFPSHInfD3       apex area             adult   8      Sham   14        D3  \n",
       "RFPSHInfD4       apex area             adult   8      Sham   14        D4  \n",
       "RFPMIInfE1  infarcted area             adult   8        MI   14        E1  \n",
       "RFPMIInfE2  infarcted area             adult   8        MI   14        E2  \n",
       "RFPMIInfE3  infarcted area             adult   8        MI   14        E3  \n",
       "RFPMIInfE4  infarcted area             adult   8        MI   14        E4  \n",
       "RFPMIRemF1     remote area             adult   8        MI   14        F1  \n",
       "RFPMIRemF2     remote area             adult   8        MI   14        F2  \n",
       "RFPMIRemF3     remote area             adult   8        MI   14        F3  \n",
       "RFPMIRemF4     remote area             adult   8        MI   14        F4  \n",
       "RFPadultG1      ventricles             adult   8        WT    0        G1  \n",
       "RFPadultG2      ventricles             adult   8        WT    0        G2  \n",
       "RFPadultH1      ventricles             adult   8        WT    0        H1  \n",
       "RFPadultH2      ventricles             adult   8        WT    0        H2  \n",
       "RFPadultH3      ventricles             adult   8        WT    0        H3  \n",
       "RFPadultH4      ventricles             adult   8        WT    0        H4  \n",
       "WTneoI          ventricles          neonatal   1        WT    0         I  \n",
       "WTadultJ1       ventricles             adult   8        WT    0        J1  \n",
       "WTadultJ2       ventricles             adult   8        WT    0        J2  \n",
       "WTadultJ3       ventricles             adult   8        WT    0        J3  \n",
       "WTadultJ4       ventricles             adult   8        WT    0        J4  \n",
       "WTadultK1       ventricles             adult   8        WT    0        K1  \n",
       "WTadultK2       ventricles             adult   8        WT    0        K2  \n",
       "WTadultK3       ventricles             adult   8        WT    0        K3  \n",
       "WTadultK4       ventricles             adult   8        WT    0        K4  \n",
       "RFPSHInfL             apex             adult   8      Sham   14         L  \n",
       "RFPMIInfM   infarcted area             adult   8        MI   14         M  \n",
       "RFPIRInfN   infarcted area             adult   8        IR   14         N  \n",
       "RFPSHInfO             apex             adult   8      Sham   14         O  \n",
       "RFPadultP            heart             adult   8        WT    0         P  \n",
       "RFPadultQ            heart             adult   8        WT    0         Q  \n",
       "RFPadultR            heart             adult   8        WT    0         R  \n",
       "RFPIRInfS   infarcted area             adult   8        IR   14         S  \n",
       "WTadultT             heart             adult   8        WT    0         T  \n",
       "RFPneoU              heart          neonatal   1        WT    0         U  \n",
       "WTMIInfV    infarcted area             adult   8        MI   14         V  \n",
       "RFPSHInfW             apex             adult   8      Sham   14         W  \n",
       "RFPIRInfX   infarcted area             adult   8        IR   14         X  \n",
       "WTadultY             heart             adult   8        WT    0         Y  \n",
       "RFPadultZ            heart             adult   8        WT    0         Z  "
      ]
     },
     "execution_count": 18,
     "metadata": {},
     "output_type": "execute_result"
    }
   ],
   "source": [
    "meta"
   ]
  },
  {
   "cell_type": "code",
   "execution_count": 26,
   "id": "removable-equivalent",
   "metadata": {},
   "outputs": [
    {
     "name": "stdout",
     "output_type": "stream",
     "text": [
      "['GSM2722421_Ki67_7dpMI_1910-M03.coutb.tsv', 'GSM2722422_Ki67_7dpMI_1910-M04.coutb.tsv', 'GSM3501487_RFPMIRemA1.coutt.tsv', 'GSM3501488_RFPMIRemA2.coutt.tsv', 'GSM3501489_RFPMIRemA3.coutt.tsv']\n"
     ]
    }
   ],
   "source": [
    "# renamed all files from csv to tsv\n",
    "Files = [x for x in listdir(FileDir) if 'tsv' in x]\n",
    "print(Files[0:5])"
   ]
  },
  {
   "cell_type": "code",
   "execution_count": 27,
   "id": "limiting-supervisor",
   "metadata": {
    "scrolled": true
   },
   "outputs": [
    {
     "name": "stderr",
     "output_type": "stream",
     "text": [
      "... reading from cache file cache/nfs01data1-Groups-Wangxiaonan-share-rev_MI-GSE102048-GSM3501487_RFPMIRemA1.coutt.h5ad\n",
      "... reading from cache file cache/nfs01data1-Groups-Wangxiaonan-share-rev_MI-GSE102048-GSM3501488_RFPMIRemA2.coutt.h5ad\n",
      "... reading from cache file cache/nfs01data1-Groups-Wangxiaonan-share-rev_MI-GSE102048-GSM3501489_RFPMIRemA3.coutt.h5ad\n",
      "Variable names are not unique. To make them unique, call `.var_names_make_unique`.\n",
      "Variable names are not unique. To make them unique, call `.var_names_make_unique`.\n",
      "... reading from cache file cache/nfs01data1-Groups-Wangxiaonan-share-rev_MI-GSE102048-GSM3501490_RFPMIRemA4.coutt.h5ad\n",
      "... reading from cache file cache/nfs01data1-Groups-Wangxiaonan-share-rev_MI-GSE102048-GSM3501491_RFPMIInfB1.coutt.h5ad\n",
      "... reading from cache file cache/nfs01data1-Groups-Wangxiaonan-share-rev_MI-GSE102048-GSM3501492_RFPMIInfB2.coutt.h5ad\n",
      "... reading from cache file cache/nfs01data1-Groups-Wangxiaonan-share-rev_MI-GSE102048-GSM3501493_RFPMIInfB3.coutt.h5ad\n",
      "... reading from cache file cache/nfs01data1-Groups-Wangxiaonan-share-rev_MI-GSE102048-GSM3501494_RFPMIInfB4.coutt.h5ad\n",
      "... reading from cache file cache/nfs01data1-Groups-Wangxiaonan-share-rev_MI-GSE102048-GSM3501495_RFPSHApC1.coutt.h5ad\n",
      "... reading from cache file cache/nfs01data1-Groups-Wangxiaonan-share-rev_MI-GSE102048-GSM3501496_RFPSHApC2.coutt.h5ad\n",
      "... reading from cache file cache/nfs01data1-Groups-Wangxiaonan-share-rev_MI-GSE102048-GSM3501497_RFPSHApC3.coutt.h5ad\n",
      "... reading from cache file cache/nfs01data1-Groups-Wangxiaonan-share-rev_MI-GSE102048-GSM3501498_RFPSHApC4.coutt.h5ad\n",
      "... reading from cache file cache/nfs01data1-Groups-Wangxiaonan-share-rev_MI-GSE102048-GSM3501499_RFPSHInfD1.coutt.h5ad\n",
      "... reading from cache file cache/nfs01data1-Groups-Wangxiaonan-share-rev_MI-GSE102048-GSM3501500_RFPSHInfD2.coutt.h5ad\n",
      "... reading from cache file cache/nfs01data1-Groups-Wangxiaonan-share-rev_MI-GSE102048-GSM3501501_RFPSHInfD3.coutt.h5ad\n",
      "... reading from cache file cache/nfs01data1-Groups-Wangxiaonan-share-rev_MI-GSE102048-GSM3501502_RFPSHInfD4.coutt.h5ad\n",
      "... reading from cache file cache/nfs01data1-Groups-Wangxiaonan-share-rev_MI-GSE102048-GSM3501503_RFPMIInfE1.coutt.h5ad\n",
      "... reading from cache file cache/nfs01data1-Groups-Wangxiaonan-share-rev_MI-GSE102048-GSM3501504_RFPMIInfE2.coutt.h5ad\n",
      "... reading from cache file cache/nfs01data1-Groups-Wangxiaonan-share-rev_MI-GSE102048-GSM3501505_RFPMIInfE3.coutt.h5ad\n",
      "... reading from cache file cache/nfs01data1-Groups-Wangxiaonan-share-rev_MI-GSE102048-GSM3501506_RFPMIInfE4.coutt.h5ad\n",
      "... reading from cache file cache/nfs01data1-Groups-Wangxiaonan-share-rev_MI-GSE102048-GSM3501507_RFPMIRemF1.coutt.h5ad\n",
      "... reading from cache file cache/nfs01data1-Groups-Wangxiaonan-share-rev_MI-GSE102048-GSM3501508_RFPMIRemF2.coutt.h5ad\n",
      "... reading from cache file cache/nfs01data1-Groups-Wangxiaonan-share-rev_MI-GSE102048-GSM3501509_RFPMIRemF3.coutt.h5ad\n",
      "... reading from cache file cache/nfs01data1-Groups-Wangxiaonan-share-rev_MI-GSE102048-GSM3501510_RFPMIRemF4.coutt.h5ad\n",
      "... reading from cache file cache/nfs01data1-Groups-Wangxiaonan-share-rev_MI-GSE102048-GSM3501511_RFPadultG1.coutt.h5ad\n",
      "... reading from cache file cache/nfs01data1-Groups-Wangxiaonan-share-rev_MI-GSE102048-GSM3501512_RFPadultG2.coutt.h5ad\n",
      "... reading from cache file cache/nfs01data1-Groups-Wangxiaonan-share-rev_MI-GSE102048-GSM3501513_RFPadultH1.coutt.h5ad\n",
      "... reading from cache file cache/nfs01data1-Groups-Wangxiaonan-share-rev_MI-GSE102048-GSM3501514_RFPadultH2.coutt.h5ad\n",
      "Variable names are not unique. To make them unique, call `.var_names_make_unique`.\n",
      "Variable names are not unique. To make them unique, call `.var_names_make_unique`.\n",
      "... reading from cache file cache/nfs01data1-Groups-Wangxiaonan-share-rev_MI-GSE102048-GSM3501515_RFPadultH3.coutt.h5ad\n",
      "... reading from cache file cache/nfs01data1-Groups-Wangxiaonan-share-rev_MI-GSE102048-GSM3501516_RFPadultH4.coutt.h5ad\n",
      "... reading from cache file cache/nfs01data1-Groups-Wangxiaonan-share-rev_MI-GSE102048-GSM3501517_WTneoI.coutt.h5ad\n",
      "... reading from cache file cache/nfs01data1-Groups-Wangxiaonan-share-rev_MI-GSE102048-GSM3501518_WTadultJ1.coutt.h5ad\n",
      "... reading from cache file cache/nfs01data1-Groups-Wangxiaonan-share-rev_MI-GSE102048-GSM3501519_WTadultJ2.coutt.h5ad\n",
      "... reading from cache file cache/nfs01data1-Groups-Wangxiaonan-share-rev_MI-GSE102048-GSM3501520_WTadultJ3.coutt.h5ad\n",
      "... reading from cache file cache/nfs01data1-Groups-Wangxiaonan-share-rev_MI-GSE102048-GSM3501521_WTadultJ4.coutt.h5ad\n",
      "... reading from cache file cache/nfs01data1-Groups-Wangxiaonan-share-rev_MI-GSE102048-GSM3501522_WTadultK1.coutt.h5ad\n",
      "... reading from cache file cache/nfs01data1-Groups-Wangxiaonan-share-rev_MI-GSE102048-GSM3501523_WTadultK2.coutt.h5ad\n",
      "... reading from cache file cache/nfs01data1-Groups-Wangxiaonan-share-rev_MI-GSE102048-GSM3501524_WTadultK3.coutt.h5ad\n",
      "... reading from cache file cache/nfs01data1-Groups-Wangxiaonan-share-rev_MI-GSE102048-GSM3501525_WTadultK4.coutt.h5ad\n",
      "... reading from cache file cache/nfs01data1-Groups-Wangxiaonan-share-rev_MI-GSE102048-GSM3508674_RFPSHInfL.coutt.h5ad\n",
      "Variable names are not unique. To make them unique, call `.var_names_make_unique`.\n",
      "Variable names are not unique. To make them unique, call `.var_names_make_unique`.\n",
      "... reading from cache file cache/nfs01data1-Groups-Wangxiaonan-share-rev_MI-GSE102048-GSM3508675_RFPMIInfM.coutt.h5ad\n",
      "... reading from cache file cache/nfs01data1-Groups-Wangxiaonan-share-rev_MI-GSE102048-GSM3508676_RFPIRInfN.coutt.h5ad\n",
      "Variable names are not unique. To make them unique, call `.var_names_make_unique`.\n",
      "Variable names are not unique. To make them unique, call `.var_names_make_unique`.\n",
      "... reading from cache file cache/nfs01data1-Groups-Wangxiaonan-share-rev_MI-GSE102048-GSM3508677_RFPSHInfO.coutt.h5ad\n",
      "... reading from cache file cache/nfs01data1-Groups-Wangxiaonan-share-rev_MI-GSE102048-GSM3508678_RFPadultP.coutt.h5ad\n",
      "... reading from cache file cache/nfs01data1-Groups-Wangxiaonan-share-rev_MI-GSE102048-GSM3508679_RFPadultQ.coutt.h5ad\n",
      "... reading from cache file cache/nfs01data1-Groups-Wangxiaonan-share-rev_MI-GSE102048-GSM3508680_RFPadultR.coutt.h5ad\n",
      "... reading from cache file cache/nfs01data1-Groups-Wangxiaonan-share-rev_MI-GSE102048-GSM3508681_RFPIRInfS.coutt.h5ad\n",
      "... reading from cache file cache/nfs01data1-Groups-Wangxiaonan-share-rev_MI-GSE102048-GSM3508682_WTadultT.coutt.h5ad\n",
      "... reading from cache file cache/nfs01data1-Groups-Wangxiaonan-share-rev_MI-GSE102048-GSM3508683_RFPneoU.coutt.h5ad\n",
      "Variable names are not unique. To make them unique, call `.var_names_make_unique`.\n",
      "Variable names are not unique. To make them unique, call `.var_names_make_unique`.\n",
      "... reading from cache file cache/nfs01data1-Groups-Wangxiaonan-share-rev_MI-GSE102048-GSM3508684_WTMIInfV.coutt.h5ad\n",
      "... reading from cache file cache/nfs01data1-Groups-Wangxiaonan-share-rev_MI-GSE102048-GSM3508685_RFPSHInfW.coutt.h5ad\n",
      "Variable names are not unique. To make them unique, call `.var_names_make_unique`.\n",
      "Variable names are not unique. To make them unique, call `.var_names_make_unique`.\n",
      "... reading from cache file cache/nfs01data1-Groups-Wangxiaonan-share-rev_MI-GSE102048-GSM3508686_RFPIRInfX.coutt.h5ad\n",
      "... reading from cache file cache/nfs01data1-Groups-Wangxiaonan-share-rev_MI-GSE102048-GSM3508687_WTadultY.coutt.h5ad\n",
      "... reading from cache file cache/nfs01data1-Groups-Wangxiaonan-share-rev_MI-GSE102048-GSM3508688_RFPadultZ.coutt.h5ad\n"
     ]
    }
   ],
   "source": [
    "adata = []\n",
    "for idx, row in meta.iterrows():\n",
    "    FN = [x for x in Files if row['Index'] in x][0]\n",
    "    adata_sub = sc.read(FileDir + FN,  cache=True).T\n",
    "    adata_sub.obs['Index'] = row['Index']\n",
    "    adata_sub.obs['Day'] = row['Day']\n",
    "    adata_sub.obs['Condition'] = row['Condition']\n",
    "    adata_sub.obs['Genotype'] = row['Genotype']\n",
    "    adata_sub.obs['CellType'] = row['CellType']\n",
    "    adata_sub.obs['Organism'] = row['Organism']\n",
    "    adata_sub.obs['Strain'] = row['Strain']\n",
    "    adata_sub.obs['Development_stage'] = row['Development_stage']\n",
    "    adata_sub.obs['Tissue'] = row['Tissue']\n",
    "    adata_sub.obs['Replicate'] = row['Replicate']\n",
    "    adata_sub.obs['Age'] = row['Age']\n",
    "    adata_sub.obs['StudyID'] = row['Index']\n",
    "    adata_sub.obs_names = [row['Index']+'_'+row['Condition']+'_'+str(row['Day'])+'_'+row['Replicate']+'_'+str(x) for x in adata_sub.obs_names]\n",
    "    adata_sub = adata_sub[:,1:].copy()\n",
    "    adata_sub.var_names = [x.split('__')[0] for x in adata_sub.var_names]\n",
    "    ERCCs = [x for x in adata_sub.var_names if 'ERCC-' in x]\n",
    "    adata_sub = adata_sub[:,~np.in1d(adata_sub.var_names, ERCCs)]\n",
    "    adata_sub.var_names_make_unique()\n",
    "    adata.append(adata_sub)\n",
    "    del adata_sub"
   ]
  },
  {
   "cell_type": "code",
   "execution_count": 28,
   "id": "asian-geography",
   "metadata": {},
   "outputs": [],
   "source": [
    "#combine and save the raw counts\n",
    "adata1 = anndata.AnnData.concatenate(*adata, join='outer', fill_value=0)"
   ]
  },
  {
   "cell_type": "code",
   "execution_count": 29,
   "id": "increased-middle",
   "metadata": {},
   "outputs": [
    {
     "data": {
      "text/plain": [
       "(9504, 20408)"
      ]
     },
     "execution_count": 29,
     "metadata": {},
     "output_type": "execute_result"
    }
   ],
   "source": [
    "adata1.shape"
   ]
  },
  {
   "cell_type": "code",
   "execution_count": 30,
   "id": "fewer-photography",
   "metadata": {},
   "outputs": [],
   "source": [
    "sc.pp.filter_genes(adata1, min_cells=1)"
   ]
  },
  {
   "cell_type": "code",
   "execution_count": 31,
   "id": "clear-proof",
   "metadata": {},
   "outputs": [
    {
     "name": "stderr",
     "output_type": "stream",
     "text": [
      "normalizing by total count per cell\n",
      "filtered out 258 cells that have less than 1 counts\n",
      "    finished (0:00:01): normalized adata.X and added    'n_counts', counts per cell before normalization (adata.obs)\n"
     ]
    }
   ],
   "source": [
    "# normalisation\n",
    "sc.pp.normalize_per_cell(adata1, counts_per_cell_after=1e4)"
   ]
  },
  {
   "cell_type": "code",
   "execution_count": 32,
   "id": "laughing-mozambique",
   "metadata": {},
   "outputs": [],
   "source": [
    "# log counts\n",
    "sc.pp.log1p(adata1)"
   ]
  },
  {
   "cell_type": "code",
   "execution_count": 33,
   "id": "danish-timeline",
   "metadata": {},
   "outputs": [],
   "source": [
    "adata1.raw = adata1"
   ]
  },
  {
   "cell_type": "code",
   "execution_count": 34,
   "id": "tropical-comparative",
   "metadata": {},
   "outputs": [
    {
     "name": "stderr",
     "output_type": "stream",
     "text": [
      "... storing 'Index' as categorical\n",
      "... storing 'Condition' as categorical\n",
      "... storing 'Genotype' as categorical\n",
      "... storing 'CellType' as categorical\n",
      "... storing 'Organism' as categorical\n",
      "... storing 'Strain' as categorical\n",
      "... storing 'Development_stage' as categorical\n",
      "... storing 'Tissue' as categorical\n",
      "... storing 'Replicate' as categorical\n",
      "... storing 'Age' as categorical\n",
      "... storing 'StudyID' as categorical\n"
     ]
    }
   ],
   "source": [
    "adata1.write('./write/GSE102048_lognorm.h5ad')"
   ]
  },
  {
   "cell_type": "markdown",
   "id": "modular-enclosure",
   "metadata": {},
   "source": [
    "# Cell Cycle Assignment"
   ]
  },
  {
   "cell_type": "code",
   "execution_count": 35,
   "id": "proper-scenario",
   "metadata": {},
   "outputs": [],
   "source": [
    "adata = sc.read('./write/GSE102048_lognorm.h5ad')"
   ]
  },
  {
   "cell_type": "code",
   "execution_count": 36,
   "id": "coastal-foster",
   "metadata": {},
   "outputs": [
    {
     "name": "stdout",
     "output_type": "stream",
     "text": [
      "(9246, 20408)\n"
     ]
    }
   ],
   "source": [
    "print(adata.shape)"
   ]
  },
  {
   "cell_type": "code",
   "execution_count": 37,
   "id": "medical-baking",
   "metadata": {},
   "outputs": [
    {
     "name": "stdout",
     "output_type": "stream",
     "text": [
      "97\n"
     ]
    }
   ],
   "source": [
    "cell_cycle_genes = [x.strip()[0].upper()+x.strip()[1:].lower() for x in open('/nfs01data1/Groups/Wangxiaonan/Lab_members/Files/regev_lab_cell_cycle_genes.txt')]\n",
    "print(len(cell_cycle_genes))"
   ]
  },
  {
   "cell_type": "code",
   "execution_count": 38,
   "id": "personalized-thomas",
   "metadata": {},
   "outputs": [
    {
     "data": {
      "text/plain": [
       "array(['Mlf1ip'], dtype='<U8')"
      ]
     },
     "execution_count": 38,
     "metadata": {},
     "output_type": "execute_result"
    }
   ],
   "source": [
    "np.setdiff1d(cell_cycle_genes, adata.raw.var_names)"
   ]
  },
  {
   "cell_type": "code",
   "execution_count": 39,
   "id": "close-grade",
   "metadata": {},
   "outputs": [
    {
     "name": "stdout",
     "output_type": "stream",
     "text": [
      "Number of s_genes: 43\n",
      "Number of g2m_genes: 54\n",
      "Total number of cell cycle genes: 97\n"
     ]
    }
   ],
   "source": [
    "s_genes = cell_cycle_genes[:43]\n",
    "g2m_genes = cell_cycle_genes[43:]\n",
    "print('Number of s_genes: '+str(len(s_genes)))\n",
    "print('Number of g2m_genes: '+str(len(g2m_genes)))\n",
    "print('Total number of cell cycle genes: '+str(len(cell_cycle_genes)))"
   ]
  },
  {
   "cell_type": "code",
   "execution_count": 40,
   "id": "therapeutic-filing",
   "metadata": {},
   "outputs": [
    {
     "name": "stdout",
     "output_type": "stream",
     "text": [
      "Index(['GSM3501487', 'GSM3501488', 'GSM3501489', 'GSM3501490', 'GSM3501491',\n",
      "       'GSM3501492', 'GSM3501493', 'GSM3501494', 'GSM3501495', 'GSM3501496',\n",
      "       'GSM3501497', 'GSM3501498', 'GSM3501499', 'GSM3501500', 'GSM3501501',\n",
      "       'GSM3501502', 'GSM3501503', 'GSM3501504', 'GSM3501505', 'GSM3501506',\n",
      "       'GSM3501507', 'GSM3501508', 'GSM3501509', 'GSM3501510', 'GSM3501511',\n",
      "       'GSM3501512', 'GSM3501513', 'GSM3501514', 'GSM3501515', 'GSM3501516',\n",
      "       'GSM3501517', 'GSM3501518', 'GSM3501519', 'GSM3501520', 'GSM3501521',\n",
      "       'GSM3501522', 'GSM3501523', 'GSM3501524', 'GSM3501525', 'GSM3508674',\n",
      "       'GSM3508675', 'GSM3508676', 'GSM3508677', 'GSM3508678', 'GSM3508679',\n",
      "       'GSM3508680', 'GSM3508681', 'GSM3508682', 'GSM3508683', 'GSM3508684',\n",
      "       'GSM3508685', 'GSM3508686', 'GSM3508687', 'GSM3508688'],\n",
      "      dtype='object')\n"
     ]
    }
   ],
   "source": [
    "ERR = adata.obs['StudyID'].cat.categories\n",
    "print(ERR)"
   ]
  },
  {
   "cell_type": "code",
   "execution_count": 41,
   "id": "demographic-consequence",
   "metadata": {
    "scrolled": true
   },
   "outputs": [
    {
     "name": "stderr",
     "output_type": "stream",
     "text": [
      "calculating cell cycle phase\n",
      "computing score 'S_score'\n",
      "WARNING: genes are not in var_names and ignored: ['Mlf1ip']\n",
      "    finished: added\n",
      "    'S_score', score of gene set (adata.obs).\n",
      "    427 total control genes are used. (0:00:00)\n",
      "computing score 'G2M_score'\n",
      "    finished: added\n",
      "    'G2M_score', score of gene set (adata.obs).\n",
      "    470 total control genes are used. (0:00:00)\n",
      "-->     'phase', cell cycle phase (adata.obs)\n"
     ]
    },
    {
     "name": "stdout",
     "output_type": "stream",
     "text": [
      "(96, 20408)\n",
      "(96, 20408)\n"
     ]
    },
    {
     "name": "stderr",
     "output_type": "stream",
     "text": [
      "calculating cell cycle phase\n",
      "computing score 'S_score'\n",
      "WARNING: genes are not in var_names and ignored: ['Mlf1ip']\n",
      "    finished: added\n",
      "    'S_score', score of gene set (adata.obs).\n",
      "    557 total control genes are used. (0:00:00)\n",
      "computing score 'G2M_score'\n",
      "    finished: added\n",
      "    'G2M_score', score of gene set (adata.obs).\n",
      "    429 total control genes are used. (0:00:00)\n",
      "-->     'phase', cell cycle phase (adata.obs)\n"
     ]
    },
    {
     "name": "stdout",
     "output_type": "stream",
     "text": [
      "(96, 20408)\n"
     ]
    },
    {
     "name": "stderr",
     "output_type": "stream",
     "text": [
      "calculating cell cycle phase\n",
      "computing score 'S_score'\n",
      "WARNING: genes are not in var_names and ignored: ['Mlf1ip']\n",
      "    finished: added\n",
      "    'S_score', score of gene set (adata.obs).\n",
      "    524 total control genes are used. (0:00:00)\n",
      "computing score 'G2M_score'\n",
      "    finished: added\n",
      "    'G2M_score', score of gene set (adata.obs).\n",
      "    553 total control genes are used. (0:00:00)\n",
      "-->     'phase', cell cycle phase (adata.obs)\n",
      "calculating cell cycle phase\n",
      "computing score 'S_score'\n",
      "WARNING: genes are not in var_names and ignored: ['Mlf1ip']\n",
      "    finished: added\n",
      "    'S_score', score of gene set (adata.obs).\n",
      "    473 total control genes are used. (0:00:00)\n",
      "computing score 'G2M_score'\n",
      "    finished: added\n",
      "    'G2M_score', score of gene set (adata.obs).\n",
      "    470 total control genes are used. (0:00:00)\n",
      "-->     'phase', cell cycle phase (adata.obs)\n",
      "calculating cell cycle phase\n",
      "computing score 'S_score'\n",
      "WARNING: genes are not in var_names and ignored: ['Mlf1ip']\n",
      "    finished: added\n",
      "    'S_score', score of gene set (adata.obs).\n",
      "    513 total control genes are used. (0:00:00)\n",
      "computing score 'G2M_score'\n"
     ]
    },
    {
     "name": "stdout",
     "output_type": "stream",
     "text": [
      "(96, 20408)\n",
      "(96, 20408)\n"
     ]
    },
    {
     "name": "stderr",
     "output_type": "stream",
     "text": [
      "    finished: added\n",
      "    'G2M_score', score of gene set (adata.obs).\n",
      "    472 total control genes are used. (0:00:00)\n",
      "-->     'phase', cell cycle phase (adata.obs)\n",
      "calculating cell cycle phase\n",
      "computing score 'S_score'\n",
      "WARNING: genes are not in var_names and ignored: ['Mlf1ip']\n",
      "    finished: added\n",
      "    'S_score', score of gene set (adata.obs).\n",
      "    429 total control genes are used. (0:00:00)\n",
      "computing score 'G2M_score'\n"
     ]
    },
    {
     "name": "stdout",
     "output_type": "stream",
     "text": [
      "(96, 20408)\n"
     ]
    },
    {
     "name": "stderr",
     "output_type": "stream",
     "text": [
      "    finished: added\n",
      "    'G2M_score', score of gene set (adata.obs).\n",
      "    472 total control genes are used. (0:00:00)\n",
      "-->     'phase', cell cycle phase (adata.obs)\n",
      "calculating cell cycle phase\n",
      "computing score 'S_score'\n",
      "WARNING: genes are not in var_names and ignored: ['Mlf1ip']\n",
      "    finished: added\n",
      "    'S_score', score of gene set (adata.obs).\n",
      "    426 total control genes are used. (0:00:00)\n",
      "computing score 'G2M_score'\n",
      "    finished: added\n",
      "    'G2M_score', score of gene set (adata.obs).\n",
      "    471 total control genes are used. (0:00:00)\n",
      "-->     'phase', cell cycle phase (adata.obs)\n",
      "calculating cell cycle phase\n",
      "computing score 'S_score'\n",
      "WARNING: genes are not in var_names and ignored: ['Mlf1ip']\n",
      "    finished: added\n",
      "    'S_score', score of gene set (adata.obs).\n",
      "    382 total control genes are used. (0:00:00)\n",
      "computing score 'G2M_score'\n"
     ]
    },
    {
     "name": "stdout",
     "output_type": "stream",
     "text": [
      "(95, 20408)\n",
      "(96, 20408)\n"
     ]
    },
    {
     "name": "stderr",
     "output_type": "stream",
     "text": [
      "    finished: added\n",
      "    'G2M_score', score of gene set (adata.obs).\n",
      "    426 total control genes are used. (0:00:00)\n",
      "-->     'phase', cell cycle phase (adata.obs)\n",
      "calculating cell cycle phase\n",
      "computing score 'S_score'\n",
      "WARNING: genes are not in var_names and ignored: ['Mlf1ip']\n",
      "    finished: added\n",
      "    'S_score', score of gene set (adata.obs).\n",
      "    471 total control genes are used. (0:00:00)\n",
      "computing score 'G2M_score'\n"
     ]
    },
    {
     "name": "stdout",
     "output_type": "stream",
     "text": [
      "(96, 20408)\n"
     ]
    },
    {
     "name": "stderr",
     "output_type": "stream",
     "text": [
      "    finished: added\n",
      "    'G2M_score', score of gene set (adata.obs).\n",
      "    429 total control genes are used. (0:00:00)\n",
      "-->     'phase', cell cycle phase (adata.obs)\n",
      "calculating cell cycle phase\n",
      "computing score 'S_score'\n",
      "WARNING: genes are not in var_names and ignored: ['Mlf1ip']\n",
      "    finished: added\n",
      "    'S_score', score of gene set (adata.obs).\n",
      "    515 total control genes are used. (0:00:00)\n",
      "computing score 'G2M_score'\n",
      "    finished: added\n",
      "    'G2M_score', score of gene set (adata.obs).\n",
      "    515 total control genes are used. (0:00:00)\n",
      "-->     'phase', cell cycle phase (adata.obs)\n",
      "calculating cell cycle phase\n",
      "computing score 'S_score'\n",
      "WARNING: genes are not in var_names and ignored: ['Mlf1ip']\n",
      "    finished: added\n",
      "    'S_score', score of gene set (adata.obs).\n",
      "    555 total control genes are used. (0:00:00)\n",
      "computing score 'G2M_score'\n"
     ]
    },
    {
     "name": "stdout",
     "output_type": "stream",
     "text": [
      "(96, 20408)\n",
      "(96, 20408)\n"
     ]
    },
    {
     "name": "stderr",
     "output_type": "stream",
     "text": [
      "    finished: added\n",
      "    'G2M_score', score of gene set (adata.obs).\n",
      "    599 total control genes are used. (0:00:00)\n",
      "-->     'phase', cell cycle phase (adata.obs)\n",
      "calculating cell cycle phase\n",
      "computing score 'S_score'\n",
      "WARNING: genes are not in var_names and ignored: ['Mlf1ip']\n",
      "    finished: added\n",
      "    'S_score', score of gene set (adata.obs).\n",
      "    557 total control genes are used. (0:00:00)\n"
     ]
    },
    {
     "name": "stdout",
     "output_type": "stream",
     "text": [
      "(96, 20408)\n"
     ]
    },
    {
     "name": "stderr",
     "output_type": "stream",
     "text": [
      "computing score 'G2M_score'\n",
      "    finished: added\n",
      "    'G2M_score', score of gene set (adata.obs).\n",
      "    515 total control genes are used. (0:00:00)\n",
      "-->     'phase', cell cycle phase (adata.obs)\n",
      "calculating cell cycle phase\n",
      "computing score 'S_score'\n",
      "WARNING: genes are not in var_names and ignored: ['Mlf1ip']\n",
      "    finished: added\n",
      "    'S_score', score of gene set (adata.obs).\n",
      "    300 total control genes are used. (0:00:00)\n",
      "computing score 'G2M_score'\n",
      "    finished: added\n",
      "    'G2M_score', score of gene set (adata.obs).\n",
      "    344 total control genes are used. (0:00:00)\n",
      "-->     'phase', cell cycle phase (adata.obs)\n",
      "calculating cell cycle phase\n",
      "computing score 'S_score'\n",
      "WARNING: genes are not in var_names and ignored: ['Mlf1ip']\n",
      "    finished: added\n",
      "    'S_score', score of gene set (adata.obs).\n",
      "    472 total control genes are used. (0:00:00)\n",
      "computing score 'G2M_score'\n"
     ]
    },
    {
     "name": "stdout",
     "output_type": "stream",
     "text": [
      "(95, 20408)\n",
      "(96, 20408)\n"
     ]
    },
    {
     "name": "stderr",
     "output_type": "stream",
     "text": [
      "    finished: added\n",
      "    'G2M_score', score of gene set (adata.obs).\n",
      "    515 total control genes are used. (0:00:00)\n",
      "-->     'phase', cell cycle phase (adata.obs)\n",
      "calculating cell cycle phase\n",
      "computing score 'S_score'\n",
      "WARNING: genes are not in var_names and ignored: ['Mlf1ip']\n",
      "    finished: added\n",
      "    'S_score', score of gene set (adata.obs).\n",
      "    172 total control genes are used. (0:00:00)\n",
      "computing score 'G2M_score'\n"
     ]
    },
    {
     "name": "stdout",
     "output_type": "stream",
     "text": [
      "(95, 20408)\n"
     ]
    },
    {
     "name": "stderr",
     "output_type": "stream",
     "text": [
      "    finished: added\n",
      "    'G2M_score', score of gene set (adata.obs).\n",
      "    222 total control genes are used. (0:00:00)\n",
      "-->     'phase', cell cycle phase (adata.obs)\n",
      "calculating cell cycle phase\n",
      "computing score 'S_score'\n",
      "WARNING: genes are not in var_names and ignored: ['Mlf1ip']\n",
      "    finished: added\n",
      "    'S_score', score of gene set (adata.obs).\n",
      "    384 total control genes are used. (0:00:00)\n",
      "computing score 'G2M_score'\n",
      "    finished: added\n",
      "    'G2M_score', score of gene set (adata.obs).\n",
      "    343 total control genes are used. (0:00:00)\n",
      "-->     'phase', cell cycle phase (adata.obs)\n",
      "calculating cell cycle phase\n",
      "computing score 'S_score'\n",
      "WARNING: genes are not in var_names and ignored: ['Mlf1ip']\n",
      "    finished: added\n",
      "    'S_score', score of gene set (adata.obs).\n",
      "    558 total control genes are used. (0:00:00)\n",
      "computing score 'G2M_score'\n"
     ]
    },
    {
     "name": "stdout",
     "output_type": "stream",
     "text": [
      "(95, 20408)\n",
      "(96, 20408)\n"
     ]
    },
    {
     "name": "stderr",
     "output_type": "stream",
     "text": [
      "    finished: added\n",
      "    'G2M_score', score of gene set (adata.obs).\n",
      "    685 total control genes are used. (0:00:00)\n",
      "-->     'phase', cell cycle phase (adata.obs)\n",
      "calculating cell cycle phase\n",
      "computing score 'S_score'\n",
      "WARNING: genes are not in var_names and ignored: ['Mlf1ip']\n",
      "    finished: added\n",
      "    'S_score', score of gene set (adata.obs).\n",
      "    557 total control genes are used. (0:00:00)\n",
      "computing score 'G2M_score'\n"
     ]
    },
    {
     "name": "stdout",
     "output_type": "stream",
     "text": [
      "(96, 20408)\n"
     ]
    },
    {
     "name": "stderr",
     "output_type": "stream",
     "text": [
      "    finished: added\n",
      "    'G2M_score', score of gene set (adata.obs).\n",
      "    601 total control genes are used. (0:00:00)\n",
      "-->     'phase', cell cycle phase (adata.obs)\n",
      "calculating cell cycle phase\n",
      "computing score 'S_score'\n",
      "WARNING: genes are not in var_names and ignored: ['Mlf1ip']\n",
      "    finished: added\n",
      "    'S_score', score of gene set (adata.obs).\n",
      "    516 total control genes are used. (0:00:00)\n",
      "computing score 'G2M_score'\n",
      "    finished: added\n",
      "    'G2M_score', score of gene set (adata.obs).\n",
      "    559 total control genes are used. (0:00:00)\n",
      "-->     'phase', cell cycle phase (adata.obs)\n",
      "calculating cell cycle phase\n",
      "computing score 'S_score'\n",
      "WARNING: genes are not in var_names and ignored: ['Mlf1ip']\n",
      "    finished: added\n",
      "    'S_score', score of gene set (adata.obs).\n",
      "    472 total control genes are used. (0:00:00)\n",
      "computing score 'G2M_score'\n"
     ]
    },
    {
     "name": "stdout",
     "output_type": "stream",
     "text": [
      "(96, 20408)\n",
      "(96, 20408)\n"
     ]
    },
    {
     "name": "stderr",
     "output_type": "stream",
     "text": [
      "    finished: added\n",
      "    'G2M_score', score of gene set (adata.obs).\n",
      "    470 total control genes are used. (0:00:00)\n",
      "-->     'phase', cell cycle phase (adata.obs)\n",
      "calculating cell cycle phase\n",
      "computing score 'S_score'\n",
      "WARNING: genes are not in var_names and ignored: ['Mlf1ip']\n",
      "    finished: added\n",
      "    'S_score', score of gene set (adata.obs).\n",
      "    559 total control genes are used. (0:00:00)\n",
      "computing score 'G2M_score'\n"
     ]
    },
    {
     "name": "stdout",
     "output_type": "stream",
     "text": [
      "(96, 20408)\n"
     ]
    },
    {
     "name": "stderr",
     "output_type": "stream",
     "text": [
      "    finished: added\n",
      "    'G2M_score', score of gene set (adata.obs).\n",
      "    606 total control genes are used. (0:00:00)\n",
      "-->     'phase', cell cycle phase (adata.obs)\n",
      "calculating cell cycle phase\n",
      "computing score 'S_score'\n",
      "WARNING: genes are not in var_names and ignored: ['Mlf1ip']\n",
      "    finished: added\n",
      "    'S_score', score of gene set (adata.obs).\n",
      "    556 total control genes are used. (0:00:00)\n",
      "computing score 'G2M_score'\n",
      "    finished: added\n",
      "    'G2M_score', score of gene set (adata.obs).\n",
      "    557 total control genes are used. (0:00:00)\n",
      "-->     'phase', cell cycle phase (adata.obs)\n",
      "calculating cell cycle phase\n",
      "computing score 'S_score'\n",
      "WARNING: genes are not in var_names and ignored: ['Mlf1ip']\n",
      "    finished: added\n",
      "    'S_score', score of gene set (adata.obs).\n",
      "    515 total control genes are used. (0:00:00)\n",
      "computing score 'G2M_score'\n"
     ]
    },
    {
     "name": "stdout",
     "output_type": "stream",
     "text": [
      "(96, 20408)\n",
      "(96, 20408)\n"
     ]
    },
    {
     "name": "stderr",
     "output_type": "stream",
     "text": [
      "    finished: added\n",
      "    'G2M_score', score of gene set (adata.obs).\n",
      "    602 total control genes are used. (0:00:00)\n",
      "-->     'phase', cell cycle phase (adata.obs)\n",
      "calculating cell cycle phase\n",
      "computing score 'S_score'\n",
      "WARNING: genes are not in var_names and ignored: ['Mlf1ip']\n",
      "    finished: added\n",
      "    'S_score', score of gene set (adata.obs).\n",
      "    601 total control genes are used. (0:00:00)\n",
      "computing score 'G2M_score'\n"
     ]
    },
    {
     "name": "stdout",
     "output_type": "stream",
     "text": [
      "(96, 20408)\n"
     ]
    },
    {
     "name": "stderr",
     "output_type": "stream",
     "text": [
      "    finished: added\n",
      "    'G2M_score', score of gene set (adata.obs).\n",
      "    687 total control genes are used. (0:00:00)\n",
      "-->     'phase', cell cycle phase (adata.obs)\n",
      "calculating cell cycle phase\n",
      "computing score 'S_score'\n",
      "WARNING: genes are not in var_names and ignored: ['Mlf1ip']\n",
      "    finished: added\n",
      "    'S_score', score of gene set (adata.obs).\n",
      "    430 total control genes are used. (0:00:00)\n",
      "computing score 'G2M_score'\n",
      "    finished: added\n",
      "    'G2M_score', score of gene set (adata.obs).\n",
      "    342 total control genes are used. (0:00:00)\n",
      "-->     'phase', cell cycle phase (adata.obs)\n",
      "calculating cell cycle phase\n",
      "computing score 'S_score'\n",
      "WARNING: genes are not in var_names and ignored: ['Mlf1ip']\n",
      "    finished: added\n",
      "    'S_score', score of gene set (adata.obs).\n",
      "    387 total control genes are used. (0:00:00)\n",
      "computing score 'G2M_score'\n"
     ]
    },
    {
     "name": "stdout",
     "output_type": "stream",
     "text": [
      "(96, 20408)\n",
      "(96, 20408)\n"
     ]
    },
    {
     "name": "stderr",
     "output_type": "stream",
     "text": [
      "    finished: added\n",
      "    'G2M_score', score of gene set (adata.obs).\n",
      "    429 total control genes are used. (0:00:00)\n",
      "-->     'phase', cell cycle phase (adata.obs)\n",
      "calculating cell cycle phase\n",
      "computing score 'S_score'\n",
      "WARNING: genes are not in var_names and ignored: ['Mlf1ip']\n",
      "    finished: added\n",
      "    'S_score', score of gene set (adata.obs).\n",
      "    428 total control genes are used. (0:00:00)\n",
      "computing score 'G2M_score'\n"
     ]
    },
    {
     "name": "stdout",
     "output_type": "stream",
     "text": [
      "(96, 20408)\n"
     ]
    },
    {
     "name": "stderr",
     "output_type": "stream",
     "text": [
      "    finished: added\n",
      "    'G2M_score', score of gene set (adata.obs).\n",
      "    472 total control genes are used. (0:00:00)\n",
      "-->     'phase', cell cycle phase (adata.obs)\n",
      "calculating cell cycle phase\n",
      "computing score 'S_score'\n",
      "WARNING: genes are not in var_names and ignored: ['Mlf1ip']\n",
      "    finished: added\n",
      "    'S_score', score of gene set (adata.obs).\n",
      "    427 total control genes are used. (0:00:00)\n",
      "computing score 'G2M_score'\n",
      "    finished: added\n",
      "    'G2M_score', score of gene set (adata.obs).\n",
      "    557 total control genes are used. (0:00:00)\n",
      "-->     'phase', cell cycle phase (adata.obs)\n",
      "calculating cell cycle phase\n",
      "computing score 'S_score'\n",
      "WARNING: genes are not in var_names and ignored: ['Mlf1ip']\n"
     ]
    },
    {
     "name": "stdout",
     "output_type": "stream",
     "text": [
      "(96, 20408)\n",
      "(96, 20408)\n"
     ]
    },
    {
     "name": "stderr",
     "output_type": "stream",
     "text": [
      "    finished: added\n",
      "    'S_score', score of gene set (adata.obs).\n",
      "    472 total control genes are used. (0:00:00)\n",
      "computing score 'G2M_score'\n",
      "    finished: added\n",
      "    'G2M_score', score of gene set (adata.obs).\n",
      "    510 total control genes are used. (0:00:00)\n",
      "-->     'phase', cell cycle phase (adata.obs)\n",
      "calculating cell cycle phase\n",
      "computing score 'S_score'\n",
      "WARNING: genes are not in var_names and ignored: ['Mlf1ip']\n",
      "    finished: added\n",
      "    'S_score', score of gene set (adata.obs).\n",
      "    300 total control genes are used. (0:00:00)\n"
     ]
    },
    {
     "name": "stdout",
     "output_type": "stream",
     "text": [
      "(96, 20408)\n"
     ]
    },
    {
     "name": "stderr",
     "output_type": "stream",
     "text": [
      "computing score 'G2M_score'\n",
      "    finished: added\n",
      "    'G2M_score', score of gene set (adata.obs).\n",
      "    470 total control genes are used. (0:00:00)\n",
      "-->     'phase', cell cycle phase (adata.obs)\n",
      "calculating cell cycle phase\n",
      "computing score 'S_score'\n",
      "WARNING: genes are not in var_names and ignored: ['Mlf1ip']\n",
      "    finished: added\n",
      "    'S_score', score of gene set (adata.obs).\n",
      "    599 total control genes are used. (0:00:00)\n",
      "computing score 'G2M_score'\n",
      "    finished: added\n",
      "    'G2M_score', score of gene set (adata.obs).\n",
      "    596 total control genes are used. (0:00:00)\n",
      "-->     'phase', cell cycle phase (adata.obs)\n",
      "calculating cell cycle phase\n",
      "computing score 'S_score'\n",
      "WARNING: genes are not in var_names and ignored: ['Mlf1ip']\n",
      "    finished: added\n",
      "    'S_score', score of gene set (adata.obs).\n",
      "    342 total control genes are used. (0:00:00)\n",
      "computing score 'G2M_score'\n"
     ]
    },
    {
     "name": "stdout",
     "output_type": "stream",
     "text": [
      "(96, 20408)\n",
      "(96, 20408)\n"
     ]
    },
    {
     "name": "stderr",
     "output_type": "stream",
     "text": [
      "    finished: added\n",
      "    'G2M_score', score of gene set (adata.obs).\n",
      "    343 total control genes are used. (0:00:00)\n",
      "-->     'phase', cell cycle phase (adata.obs)\n",
      "calculating cell cycle phase\n",
      "computing score 'S_score'\n",
      "WARNING: genes are not in var_names and ignored: ['Mlf1ip']\n",
      "    finished: added\n",
      "    'S_score', score of gene set (adata.obs).\n",
      "    386 total control genes are used. (0:00:00)\n",
      "computing score 'G2M_score'\n"
     ]
    },
    {
     "name": "stdout",
     "output_type": "stream",
     "text": [
      "(96, 20408)\n"
     ]
    },
    {
     "name": "stderr",
     "output_type": "stream",
     "text": [
      "    finished: added\n",
      "    'G2M_score', score of gene set (adata.obs).\n",
      "    428 total control genes are used. (0:00:00)\n",
      "-->     'phase', cell cycle phase (adata.obs)\n",
      "calculating cell cycle phase\n",
      "computing score 'S_score'\n",
      "WARNING: genes are not in var_names and ignored: ['Mlf1ip']\n",
      "    finished: added\n",
      "    'S_score', score of gene set (adata.obs).\n",
      "    257 total control genes are used. (0:00:00)\n",
      "computing score 'G2M_score'\n",
      "    finished: added\n",
      "    'G2M_score', score of gene set (adata.obs).\n",
      "    301 total control genes are used. (0:00:00)\n",
      "-->     'phase', cell cycle phase (adata.obs)\n",
      "calculating cell cycle phase\n",
      "computing score 'S_score'\n",
      "WARNING: genes are not in var_names and ignored: ['Mlf1ip']\n",
      "    finished: added\n",
      "    'S_score', score of gene set (adata.obs).\n",
      "    384 total control genes are used. (0:00:00)\n",
      "computing score 'G2M_score'\n"
     ]
    },
    {
     "name": "stdout",
     "output_type": "stream",
     "text": [
      "(95, 20408)\n",
      "(96, 20408)\n"
     ]
    },
    {
     "name": "stderr",
     "output_type": "stream",
     "text": [
      "    finished: added\n",
      "    'G2M_score', score of gene set (adata.obs).\n",
      "    426 total control genes are used. (0:00:00)\n",
      "-->     'phase', cell cycle phase (adata.obs)\n",
      "calculating cell cycle phase\n",
      "computing score 'S_score'\n",
      "WARNING: genes are not in var_names and ignored: ['Mlf1ip']\n",
      "    finished: added\n",
      "    'S_score', score of gene set (adata.obs).\n",
      "    430 total control genes are used. (0:00:00)\n",
      "computing score 'G2M_score'\n"
     ]
    },
    {
     "name": "stdout",
     "output_type": "stream",
     "text": [
      "(95, 20408)\n"
     ]
    },
    {
     "name": "stderr",
     "output_type": "stream",
     "text": [
      "    finished: added\n",
      "    'G2M_score', score of gene set (adata.obs).\n",
      "    430 total control genes are used. (0:00:00)\n",
      "-->     'phase', cell cycle phase (adata.obs)\n",
      "calculating cell cycle phase\n",
      "computing score 'S_score'\n",
      "WARNING: genes are not in var_names and ignored: ['Mlf1ip']\n",
      "    finished: added\n",
      "    'S_score', score of gene set (adata.obs).\n",
      "    471 total control genes are used. (0:00:00)\n",
      "computing score 'G2M_score'\n",
      "    finished: added\n",
      "    'G2M_score', score of gene set (adata.obs).\n",
      "    429 total control genes are used. (0:00:00)\n",
      "-->     'phase', cell cycle phase (adata.obs)\n",
      "calculating cell cycle phase\n",
      "computing score 'S_score'\n",
      "WARNING: genes are not in var_names and ignored: ['Mlf1ip']\n",
      "    finished: added\n",
      "    'S_score', score of gene set (adata.obs).\n",
      "    429 total control genes are used. (0:00:00)\n",
      "computing score 'G2M_score'\n"
     ]
    },
    {
     "name": "stdout",
     "output_type": "stream",
     "text": [
      "(93, 20408)\n",
      "(95, 20408)\n"
     ]
    },
    {
     "name": "stderr",
     "output_type": "stream",
     "text": [
      "    finished: added\n",
      "    'G2M_score', score of gene set (adata.obs).\n",
      "    473 total control genes are used. (0:00:00)\n",
      "-->     'phase', cell cycle phase (adata.obs)\n",
      "calculating cell cycle phase\n",
      "computing score 'S_score'\n",
      "WARNING: genes are not in var_names and ignored: ['Mlf1ip']\n",
      "    finished: added\n",
      "    'S_score', score of gene set (adata.obs).\n",
      "    386 total control genes are used. (0:00:00)\n",
      "computing score 'G2M_score'\n"
     ]
    },
    {
     "name": "stdout",
     "output_type": "stream",
     "text": [
      "(93, 20408)\n"
     ]
    },
    {
     "name": "stderr",
     "output_type": "stream",
     "text": [
      "    finished: added\n",
      "    'G2M_score', score of gene set (adata.obs).\n",
      "    429 total control genes are used. (0:00:00)\n",
      "-->     'phase', cell cycle phase (adata.obs)\n",
      "calculating cell cycle phase\n",
      "computing score 'S_score'\n",
      "WARNING: genes are not in var_names and ignored: ['Mlf1ip']\n",
      "    finished: added\n",
      "    'S_score', score of gene set (adata.obs).\n",
      "    436 total control genes are used. (0:00:00)\n",
      "computing score 'G2M_score'\n"
     ]
    },
    {
     "name": "stdout",
     "output_type": "stream",
     "text": [
      "(309, 20408)\n"
     ]
    },
    {
     "name": "stderr",
     "output_type": "stream",
     "text": [
      "    finished: added\n",
      "    'G2M_score', score of gene set (adata.obs).\n",
      "    385 total control genes are used. (0:00:00)\n",
      "-->     'phase', cell cycle phase (adata.obs)\n"
     ]
    },
    {
     "name": "stdout",
     "output_type": "stream",
     "text": [
      "(363, 20408)\n"
     ]
    },
    {
     "name": "stderr",
     "output_type": "stream",
     "text": [
      "calculating cell cycle phase\n",
      "computing score 'S_score'\n",
      "WARNING: genes are not in var_names and ignored: ['Mlf1ip']\n",
      "    finished: added\n",
      "    'S_score', score of gene set (adata.obs).\n",
      "    344 total control genes are used. (0:00:00)\n",
      "computing score 'G2M_score'\n",
      "    finished: added\n",
      "    'G2M_score', score of gene set (adata.obs).\n",
      "    470 total control genes are used. (0:00:00)\n",
      "-->     'phase', cell cycle phase (adata.obs)\n"
     ]
    },
    {
     "name": "stdout",
     "output_type": "stream",
     "text": [
      "(374, 20408)\n"
     ]
    },
    {
     "name": "stderr",
     "output_type": "stream",
     "text": [
      "calculating cell cycle phase\n",
      "computing score 'S_score'\n",
      "WARNING: genes are not in var_names and ignored: ['Mlf1ip']\n",
      "    finished: added\n",
      "    'S_score', score of gene set (adata.obs).\n",
      "    687 total control genes are used. (0:00:00)\n",
      "computing score 'G2M_score'\n",
      "    finished: added\n",
      "    'G2M_score', score of gene set (adata.obs).\n",
      "    685 total control genes are used. (0:00:00)\n",
      "-->     'phase', cell cycle phase (adata.obs)\n"
     ]
    },
    {
     "name": "stdout",
     "output_type": "stream",
     "text": [
      "(330, 20408)\n"
     ]
    },
    {
     "name": "stderr",
     "output_type": "stream",
     "text": [
      "calculating cell cycle phase\n",
      "computing score 'S_score'\n",
      "WARNING: genes are not in var_names and ignored: ['Mlf1ip']\n",
      "    finished: added\n",
      "    'S_score', score of gene set (adata.obs).\n",
      "    730 total control genes are used. (0:00:00)\n",
      "computing score 'G2M_score'\n",
      "    finished: added\n",
      "    'G2M_score', score of gene set (adata.obs).\n",
      "    686 total control genes are used. (0:00:00)\n",
      "-->     'phase', cell cycle phase (adata.obs)\n"
     ]
    },
    {
     "name": "stdout",
     "output_type": "stream",
     "text": [
      "(379, 20408)\n"
     ]
    },
    {
     "name": "stderr",
     "output_type": "stream",
     "text": [
      "calculating cell cycle phase\n",
      "computing score 'S_score'\n",
      "WARNING: genes are not in var_names and ignored: ['Mlf1ip']\n",
      "    finished: added\n",
      "    'S_score', score of gene set (adata.obs).\n",
      "    429 total control genes are used. (0:00:00)\n",
      "computing score 'G2M_score'\n",
      "    finished: added\n",
      "    'G2M_score', score of gene set (adata.obs).\n",
      "    428 total control genes are used. (0:00:00)\n",
      "-->     'phase', cell cycle phase (adata.obs)\n"
     ]
    },
    {
     "name": "stdout",
     "output_type": "stream",
     "text": [
      "(377, 20408)\n"
     ]
    },
    {
     "name": "stderr",
     "output_type": "stream",
     "text": [
      "calculating cell cycle phase\n",
      "computing score 'S_score'\n",
      "WARNING: genes are not in var_names and ignored: ['Mlf1ip']\n",
      "    finished: added\n",
      "    'S_score', score of gene set (adata.obs).\n",
      "    343 total control genes are used. (0:00:00)\n",
      "computing score 'G2M_score'\n",
      "    finished: added\n",
      "    'G2M_score', score of gene set (adata.obs).\n",
      "    344 total control genes are used. (0:00:00)\n",
      "-->     'phase', cell cycle phase (adata.obs)\n"
     ]
    },
    {
     "name": "stdout",
     "output_type": "stream",
     "text": [
      "(368, 20408)\n"
     ]
    },
    {
     "name": "stderr",
     "output_type": "stream",
     "text": [
      "calculating cell cycle phase\n",
      "computing score 'S_score'\n",
      "WARNING: genes are not in var_names and ignored: ['Mlf1ip']\n",
      "    finished: added\n",
      "    'S_score', score of gene set (adata.obs).\n",
      "    343 total control genes are used. (0:00:00)\n",
      "computing score 'G2M_score'\n",
      "    finished: added\n",
      "    'G2M_score', score of gene set (adata.obs).\n",
      "    429 total control genes are used. (0:00:00)\n",
      "-->     'phase', cell cycle phase (adata.obs)\n"
     ]
    },
    {
     "name": "stdout",
     "output_type": "stream",
     "text": [
      "(329, 20408)\n"
     ]
    },
    {
     "name": "stderr",
     "output_type": "stream",
     "text": [
      "calculating cell cycle phase\n",
      "computing score 'S_score'\n",
      "WARNING: genes are not in var_names and ignored: ['Mlf1ip']\n",
      "    finished: added\n",
      "    'S_score', score of gene set (adata.obs).\n",
      "    730 total control genes are used. (0:00:00)\n",
      "computing score 'G2M_score'\n",
      "    finished: added\n",
      "    'G2M_score', score of gene set (adata.obs).\n",
      "    600 total control genes are used. (0:00:00)\n",
      "-->     'phase', cell cycle phase (adata.obs)\n"
     ]
    },
    {
     "name": "stdout",
     "output_type": "stream",
     "text": [
      "(383, 20408)\n"
     ]
    },
    {
     "name": "stderr",
     "output_type": "stream",
     "text": [
      "calculating cell cycle phase\n",
      "computing score 'S_score'\n",
      "WARNING: genes are not in var_names and ignored: ['Mlf1ip']\n",
      "    finished: added\n",
      "    'S_score', score of gene set (adata.obs).\n",
      "    344 total control genes are used. (0:00:00)\n",
      "computing score 'G2M_score'\n",
      "    finished: added\n",
      "    'G2M_score', score of gene set (adata.obs).\n",
      "    386 total control genes are used. (0:00:00)\n",
      "-->     'phase', cell cycle phase (adata.obs)\n"
     ]
    },
    {
     "name": "stdout",
     "output_type": "stream",
     "text": [
      "(384, 20408)\n"
     ]
    },
    {
     "name": "stderr",
     "output_type": "stream",
     "text": [
      "calculating cell cycle phase\n",
      "computing score 'S_score'\n",
      "WARNING: genes are not in var_names and ignored: ['Mlf1ip']\n",
      "    finished: added\n",
      "    'S_score', score of gene set (adata.obs).\n",
      "    600 total control genes are used. (0:00:00)\n",
      "computing score 'G2M_score'\n",
      "    finished: added\n",
      "    'G2M_score', score of gene set (adata.obs).\n",
      "    685 total control genes are used. (0:00:00)\n",
      "-->     'phase', cell cycle phase (adata.obs)\n"
     ]
    },
    {
     "name": "stdout",
     "output_type": "stream",
     "text": [
      "(383, 20408)\n"
     ]
    },
    {
     "name": "stderr",
     "output_type": "stream",
     "text": [
      "calculating cell cycle phase\n",
      "computing score 'S_score'\n",
      "WARNING: genes are not in var_names and ignored: ['Mlf1ip']\n",
      "    finished: added\n",
      "    'S_score', score of gene set (adata.obs).\n",
      "    682 total control genes are used. (0:00:00)\n",
      "computing score 'G2M_score'\n",
      "    finished: added\n",
      "    'G2M_score', score of gene set (adata.obs).\n",
      "    686 total control genes are used. (0:00:00)\n",
      "-->     'phase', cell cycle phase (adata.obs)\n",
      "calculating cell cycle phase\n",
      "computing score 'S_score'\n",
      "WARNING: genes are not in var_names and ignored: ['Mlf1ip']\n",
      "    finished: added\n",
      "    'S_score', score of gene set (adata.obs).\n",
      "    683 total control genes are used. (0:00:00)\n",
      "computing score 'G2M_score'\n",
      "    finished: added\n",
      "    'G2M_score', score of gene set (adata.obs).\n",
      "    730 total control genes are used. (0:00:00)\n",
      "-->     'phase', cell cycle phase (adata.obs)\n"
     ]
    },
    {
     "name": "stdout",
     "output_type": "stream",
     "text": [
      "(384, 20408)\n"
     ]
    },
    {
     "name": "stderr",
     "output_type": "stream",
     "text": [
      "calculating cell cycle phase\n",
      "computing score 'S_score'\n",
      "WARNING: genes are not in var_names and ignored: ['Mlf1ip']\n",
      "    finished: added\n",
      "    'S_score', score of gene set (adata.obs).\n",
      "    643 total control genes are used. (0:00:00)\n",
      "computing score 'G2M_score'\n",
      "    finished: added\n",
      "    'G2M_score', score of gene set (adata.obs).\n",
      "    726 total control genes are used. (0:00:00)\n",
      "-->     'phase', cell cycle phase (adata.obs)\n"
     ]
    },
    {
     "name": "stdout",
     "output_type": "stream",
     "text": [
      "(384, 20408)\n"
     ]
    },
    {
     "name": "stderr",
     "output_type": "stream",
     "text": [
      "calculating cell cycle phase\n",
      "computing score 'S_score'\n",
      "WARNING: genes are not in var_names and ignored: ['Mlf1ip']\n",
      "    finished: added\n",
      "    'S_score', score of gene set (adata.obs).\n",
      "    515 total control genes are used. (0:00:00)\n",
      "computing score 'G2M_score'\n",
      "    finished: added\n",
      "    'G2M_score', score of gene set (adata.obs).\n",
      "    555 total control genes are used. (0:00:00)\n",
      "-->     'phase', cell cycle phase (adata.obs)\n"
     ]
    },
    {
     "name": "stdout",
     "output_type": "stream",
     "text": [
      "(384, 20408)\n",
      "(384, 20408)\n"
     ]
    },
    {
     "name": "stderr",
     "output_type": "stream",
     "text": [
      "calculating cell cycle phase\n",
      "computing score 'S_score'\n",
      "WARNING: genes are not in var_names and ignored: ['Mlf1ip']\n",
      "    finished: added\n",
      "    'S_score', score of gene set (adata.obs).\n",
      "    644 total control genes are used. (0:00:00)\n",
      "computing score 'G2M_score'\n",
      "    finished: added\n",
      "    'G2M_score', score of gene set (adata.obs).\n",
      "    687 total control genes are used. (0:00:00)\n",
      "-->     'phase', cell cycle phase (adata.obs)\n"
     ]
    }
   ],
   "source": [
    "phase = []\n",
    "for i in range(len(ERR)):\n",
    "    adata_sub = adata[adata.obs['StudyID'] == ERR[i]].copy()\n",
    "    print(adata_sub.shape)\n",
    "    sc.pp.scale(adata_sub)\n",
    "    sc.tl.score_genes_cell_cycle(adata_sub, s_genes=s_genes, g2m_genes=g2m_genes, use_raw=False)\n",
    "    phase.append(adata_sub.obs[['phase', 'S_score', 'G2M_score']])"
   ]
  },
  {
   "cell_type": "code",
   "execution_count": 42,
   "id": "according-daily",
   "metadata": {},
   "outputs": [],
   "source": [
    "phase_pd = pd.concat(phase)"
   ]
  },
  {
   "cell_type": "code",
   "execution_count": 43,
   "id": "collectible-triangle",
   "metadata": {},
   "outputs": [
    {
     "data": {
      "text/html": [
       "<div>\n",
       "<style scoped>\n",
       "    .dataframe tbody tr th:only-of-type {\n",
       "        vertical-align: middle;\n",
       "    }\n",
       "\n",
       "    .dataframe tbody tr th {\n",
       "        vertical-align: top;\n",
       "    }\n",
       "\n",
       "    .dataframe thead th {\n",
       "        text-align: right;\n",
       "    }\n",
       "</style>\n",
       "<table border=\"1\" class=\"dataframe\">\n",
       "  <thead>\n",
       "    <tr style=\"text-align: right;\">\n",
       "      <th></th>\n",
       "      <th>phase</th>\n",
       "      <th>S_score</th>\n",
       "      <th>G2M_score</th>\n",
       "    </tr>\n",
       "  </thead>\n",
       "  <tbody>\n",
       "    <tr>\n",
       "      <th>GSM3501487_MI_14_A1_0-0</th>\n",
       "      <td>G1</td>\n",
       "      <td>-0.128919</td>\n",
       "      <td>-0.924834</td>\n",
       "    </tr>\n",
       "    <tr>\n",
       "      <th>GSM3501487_MI_14_A1_1-0</th>\n",
       "      <td>G1</td>\n",
       "      <td>-0.125520</td>\n",
       "      <td>-0.025788</td>\n",
       "    </tr>\n",
       "    <tr>\n",
       "      <th>GSM3501487_MI_14_A1_2-0</th>\n",
       "      <td>G2M</td>\n",
       "      <td>0.043125</td>\n",
       "      <td>0.052836</td>\n",
       "    </tr>\n",
       "    <tr>\n",
       "      <th>GSM3501487_MI_14_A1_3-0</th>\n",
       "      <td>G2M</td>\n",
       "      <td>-0.100233</td>\n",
       "      <td>0.065013</td>\n",
       "    </tr>\n",
       "    <tr>\n",
       "      <th>GSM3501487_MI_14_A1_4-0</th>\n",
       "      <td>S</td>\n",
       "      <td>0.045424</td>\n",
       "      <td>0.028248</td>\n",
       "    </tr>\n",
       "  </tbody>\n",
       "</table>\n",
       "</div>"
      ],
      "text/plain": [
       "                        phase   S_score  G2M_score\n",
       "GSM3501487_MI_14_A1_0-0    G1 -0.128919  -0.924834\n",
       "GSM3501487_MI_14_A1_1-0    G1 -0.125520  -0.025788\n",
       "GSM3501487_MI_14_A1_2-0   G2M  0.043125   0.052836\n",
       "GSM3501487_MI_14_A1_3-0   G2M -0.100233   0.065013\n",
       "GSM3501487_MI_14_A1_4-0     S  0.045424   0.028248"
      ]
     },
     "execution_count": 43,
     "metadata": {},
     "output_type": "execute_result"
    }
   ],
   "source": [
    "phase_pd.head()"
   ]
  },
  {
   "cell_type": "code",
   "execution_count": 44,
   "id": "immediate-volunteer",
   "metadata": {},
   "outputs": [
    {
     "name": "stdout",
     "output_type": "stream",
     "text": [
      "(9246, 3)\n"
     ]
    }
   ],
   "source": [
    "print(phase_pd.shape)"
   ]
  },
  {
   "cell_type": "code",
   "execution_count": 45,
   "id": "korean-cooperation",
   "metadata": {},
   "outputs": [],
   "source": [
    "phase_pd.to_csv('cell_cycle_results.txt')"
   ]
  },
  {
   "cell_type": "markdown",
   "id": "understood-cause",
   "metadata": {},
   "source": [
    "# Select highly variable genes"
   ]
  },
  {
   "cell_type": "code",
   "execution_count": 46,
   "id": "sealed-italian",
   "metadata": {},
   "outputs": [],
   "source": [
    "adata = sc.read('./write/GSE102048_lognorm.h5ad')"
   ]
  },
  {
   "cell_type": "code",
   "execution_count": 47,
   "id": "cellular-atlantic",
   "metadata": {},
   "outputs": [],
   "source": [
    "cell_cycle_results = pd.read_csv('cell_cycle_results.txt', index_col=0)\n",
    "adata.obs = pd.concat([adata.obs, cell_cycle_results], axis=1)"
   ]
  },
  {
   "cell_type": "code",
   "execution_count": 48,
   "id": "dress-arena",
   "metadata": {},
   "outputs": [
    {
     "data": {
      "text/html": [
       "<div>\n",
       "<style scoped>\n",
       "    .dataframe tbody tr th:only-of-type {\n",
       "        vertical-align: middle;\n",
       "    }\n",
       "\n",
       "    .dataframe tbody tr th {\n",
       "        vertical-align: top;\n",
       "    }\n",
       "\n",
       "    .dataframe thead th {\n",
       "        text-align: right;\n",
       "    }\n",
       "</style>\n",
       "<table border=\"1\" class=\"dataframe\">\n",
       "  <thead>\n",
       "    <tr style=\"text-align: right;\">\n",
       "      <th></th>\n",
       "      <th>Index</th>\n",
       "      <th>Day</th>\n",
       "      <th>Condition</th>\n",
       "      <th>Genotype</th>\n",
       "      <th>CellType</th>\n",
       "      <th>Organism</th>\n",
       "      <th>Strain</th>\n",
       "      <th>Development_stage</th>\n",
       "      <th>Tissue</th>\n",
       "      <th>Replicate</th>\n",
       "      <th>Age</th>\n",
       "      <th>StudyID</th>\n",
       "      <th>batch</th>\n",
       "      <th>n_counts</th>\n",
       "      <th>phase</th>\n",
       "      <th>S_score</th>\n",
       "      <th>G2M_score</th>\n",
       "    </tr>\n",
       "  </thead>\n",
       "  <tbody>\n",
       "    <tr>\n",
       "      <th>GSM3501487_MI_14_A1_0-0</th>\n",
       "      <td>GSM3501487</td>\n",
       "      <td>14</td>\n",
       "      <td>MI</td>\n",
       "      <td>Ki67TagRFP</td>\n",
       "      <td>remote area</td>\n",
       "      <td>Mus musculus</td>\n",
       "      <td>C57BL/6</td>\n",
       "      <td>adult</td>\n",
       "      <td>ventricles</td>\n",
       "      <td>A1</td>\n",
       "      <td>8</td>\n",
       "      <td>GSM3501487</td>\n",
       "      <td>0</td>\n",
       "      <td>11513.230469</td>\n",
       "      <td>G1</td>\n",
       "      <td>-0.128919</td>\n",
       "      <td>-0.924834</td>\n",
       "    </tr>\n",
       "    <tr>\n",
       "      <th>GSM3501487_MI_14_A1_1-0</th>\n",
       "      <td>GSM3501487</td>\n",
       "      <td>14</td>\n",
       "      <td>MI</td>\n",
       "      <td>Ki67TagRFP</td>\n",
       "      <td>remote area</td>\n",
       "      <td>Mus musculus</td>\n",
       "      <td>C57BL/6</td>\n",
       "      <td>adult</td>\n",
       "      <td>ventricles</td>\n",
       "      <td>A1</td>\n",
       "      <td>8</td>\n",
       "      <td>GSM3501487</td>\n",
       "      <td>0</td>\n",
       "      <td>578.897278</td>\n",
       "      <td>G1</td>\n",
       "      <td>-0.125520</td>\n",
       "      <td>-0.025788</td>\n",
       "    </tr>\n",
       "    <tr>\n",
       "      <th>GSM3501487_MI_14_A1_2-0</th>\n",
       "      <td>GSM3501487</td>\n",
       "      <td>14</td>\n",
       "      <td>MI</td>\n",
       "      <td>Ki67TagRFP</td>\n",
       "      <td>remote area</td>\n",
       "      <td>Mus musculus</td>\n",
       "      <td>C57BL/6</td>\n",
       "      <td>adult</td>\n",
       "      <td>ventricles</td>\n",
       "      <td>A1</td>\n",
       "      <td>8</td>\n",
       "      <td>GSM3501487</td>\n",
       "      <td>0</td>\n",
       "      <td>127.494621</td>\n",
       "      <td>G2M</td>\n",
       "      <td>0.043125</td>\n",
       "      <td>0.052836</td>\n",
       "    </tr>\n",
       "  </tbody>\n",
       "</table>\n",
       "</div>"
      ],
      "text/plain": [
       "                              Index  Day Condition    Genotype     CellType  \\\n",
       "GSM3501487_MI_14_A1_0-0  GSM3501487   14        MI  Ki67TagRFP  remote area   \n",
       "GSM3501487_MI_14_A1_1-0  GSM3501487   14        MI  Ki67TagRFP  remote area   \n",
       "GSM3501487_MI_14_A1_2-0  GSM3501487   14        MI  Ki67TagRFP  remote area   \n",
       "\n",
       "                             Organism   Strain Development_stage      Tissue  \\\n",
       "GSM3501487_MI_14_A1_0-0  Mus musculus  C57BL/6             adult  ventricles   \n",
       "GSM3501487_MI_14_A1_1-0  Mus musculus  C57BL/6             adult  ventricles   \n",
       "GSM3501487_MI_14_A1_2-0  Mus musculus  C57BL/6             adult  ventricles   \n",
       "\n",
       "                        Replicate Age     StudyID batch      n_counts phase  \\\n",
       "GSM3501487_MI_14_A1_0-0        A1   8  GSM3501487     0  11513.230469    G1   \n",
       "GSM3501487_MI_14_A1_1-0        A1   8  GSM3501487     0    578.897278    G1   \n",
       "GSM3501487_MI_14_A1_2-0        A1   8  GSM3501487     0    127.494621   G2M   \n",
       "\n",
       "                          S_score  G2M_score  \n",
       "GSM3501487_MI_14_A1_0-0 -0.128919  -0.924834  \n",
       "GSM3501487_MI_14_A1_1-0 -0.125520  -0.025788  \n",
       "GSM3501487_MI_14_A1_2-0  0.043125   0.052836  "
      ]
     },
     "execution_count": 48,
     "metadata": {},
     "output_type": "execute_result"
    }
   ],
   "source": [
    "adata.obs.head(3)"
   ]
  },
  {
   "cell_type": "code",
   "execution_count": 49,
   "id": "cardiac-publisher",
   "metadata": {},
   "outputs": [
    {
     "name": "stderr",
     "output_type": "stream",
     "text": [
      "extracting highly variable genes\n",
      "... storing 'phase' as categorical\n",
      "    finished (0:00:09)\n",
      "--> added\n",
      "    'highly_variable', boolean vector (adata.var)\n",
      "    'means', float vector (adata.var)\n",
      "    'dispersions', float vector (adata.var)\n",
      "    'dispersions_norm', float vector (adata.var)\n"
     ]
    }
   ],
   "source": [
    "# find highly variable genes\n",
    "# parameters are mainly selected depends on user preference\n",
    "sc.pp.highly_variable_genes(\n",
    "    adata, min_mean=0.02, max_mean=3, min_disp=0.3, batch_key='batch', inplace=True)"
   ]
  },
  {
   "cell_type": "code",
   "execution_count": 50,
   "id": "magnetic-antenna",
   "metadata": {},
   "outputs": [
    {
     "data": {
      "image/png": "[encoded data removed]",
      "text/plain": [
       "<Figure size 640x320 with 2 Axes>"
      ]
     },
     "metadata": {
      "needs_background": "light"
     },
     "output_type": "display_data"
    }
   ],
   "source": [
    "sc.pl.highly_variable_genes(adata)"
   ]
  },
  {
   "cell_type": "code",
   "execution_count": 51,
   "id": "increased-identity",
   "metadata": {},
   "outputs": [
    {
     "name": "stdout",
     "output_type": "stream",
     "text": [
      "917\n"
     ]
    }
   ],
   "source": [
    "print(np.sum(adata.var.highly_variable))"
   ]
  },
  {
   "cell_type": "code",
   "execution_count": 52,
   "id": "sound-qualification",
   "metadata": {},
   "outputs": [],
   "source": [
    "adata = adata[:, adata.var.highly_variable].copy()"
   ]
  },
  {
   "cell_type": "code",
   "execution_count": 53,
   "id": "hourly-dryer",
   "metadata": {},
   "outputs": [],
   "source": [
    "adata.write('./write/GSE102048_lognorm_hvg.h5ad')"
   ]
  },
  {
   "cell_type": "markdown",
   "id": "linear-national",
   "metadata": {},
   "source": [
    "# Preliminary processing"
   ]
  },
  {
   "cell_type": "code",
   "execution_count": 54,
   "id": "minus-crime",
   "metadata": {},
   "outputs": [],
   "source": [
    "adata = sc.read('./write/GSE102048_lognorm_hvg.h5ad')"
   ]
  },
  {
   "cell_type": "code",
   "execution_count": 55,
   "id": "charming-stick",
   "metadata": {},
   "outputs": [
    {
     "name": "stderr",
     "output_type": "stream",
     "text": [
      "computing PCA\n",
      "    on highly variable genes\n",
      "    with n_comps=50\n",
      "    finished (0:00:00)\n"
     ]
    }
   ],
   "source": [
    "# scale for pca\n",
    "sc.pp.scale(adata)\n",
    "# pca\n",
    "sc.tl.pca(adata, svd_solver='arpack')"
   ]
  },
  {
   "cell_type": "code",
   "execution_count": 56,
   "id": "architectural-boating",
   "metadata": {},
   "outputs": [
    {
     "data": {
      "image/png": "[encoded data removed]",
      "text/plain": [
       "<Figure size 320x320 with 1 Axes>"
      ]
     },
     "metadata": {
      "needs_background": "light"
     },
     "output_type": "display_data"
    }
   ],
   "source": [
    "sc.pl.pca_variance_ratio(adata, log=True)"
   ]
  },
  {
   "cell_type": "code",
   "execution_count": 57,
   "id": "external-chair",
   "metadata": {},
   "outputs": [
    {
     "name": "stderr",
     "output_type": "stream",
     "text": [
      "computing neighbors\n",
      "    using 'X_pca' with n_pcs = 50\n",
      "    finished: added to `.uns['neighbors']`\n",
      "    `.obsp['distances']`, distances for each pair of neighbors\n",
      "    `.obsp['connectivities']`, weighted adjacency matrix (0:00:14)\n"
     ]
    }
   ],
   "source": [
    "sc.pp.neighbors(adata)"
   ]
  },
  {
   "cell_type": "code",
   "execution_count": 58,
   "id": "exclusive-remark",
   "metadata": {},
   "outputs": [
    {
     "name": "stderr",
     "output_type": "stream",
     "text": [
      "computing UMAP\n",
      "    finished: added\n",
      "    'X_umap', UMAP coordinates (adata.obsm) (0:00:24)\n"
     ]
    }
   ],
   "source": [
    "sc.tl.umap(adata)"
   ]
  },
  {
   "cell_type": "code",
   "execution_count": 59,
   "id": "careful-spirituality",
   "metadata": {},
   "outputs": [
    {
     "data": {
      "image/png": "[encoded data removed]",
      "text/plain": [
       "<Figure size 1248x320 with 4 Axes>"
      ]
     },
     "metadata": {
      "needs_background": "light"
     },
     "output_type": "display_data"
    }
   ],
   "source": [
    "sc.pl.umap(adata, color= ['Condition', 'Day', 'Age'], wspace=0.3)"
   ]
  },
  {
   "cell_type": "code",
   "execution_count": 60,
   "id": "disturbed-library",
   "metadata": {},
   "outputs": [],
   "source": [
    "adata.write('./write/GSE102048_processed.h5ad')"
   ]
  },
  {
   "cell_type": "markdown",
   "id": "prepared-spain",
   "metadata": {},
   "source": [
    "#  Further modify"
   ]
  },
  {
   "cell_type": "code",
   "execution_count": 62,
   "id": "enormous-suicide",
   "metadata": {},
   "outputs": [],
   "source": [
    "adata = sc.read('./write/GSE102048_processed.h5ad')"
   ]
  },
  {
   "cell_type": "code",
   "execution_count": 63,
   "id": "under-phoenix",
   "metadata": {},
   "outputs": [
    {
     "data": {
      "text/plain": [
       "14    5156\n",
       "0     4090\n",
       "Name: Day, dtype: int64"
      ]
     },
     "execution_count": 63,
     "metadata": {},
     "output_type": "execute_result"
    }
   ],
   "source": [
    "adata.obs['Day'].value_counts()"
   ]
  },
  {
   "cell_type": "code",
   "execution_count": 64,
   "id": "aging-spokesman",
   "metadata": {},
   "outputs": [],
   "source": [
    "adata.obs['Day'] = adata.obs['Day'].astype(int)"
   ]
  },
  {
   "cell_type": "code",
   "execution_count": 65,
   "id": "connected-taylor",
   "metadata": {},
   "outputs": [
    {
     "data": {
      "text/plain": [
       "8    8766\n",
       "1     480\n",
       "Name: Age, dtype: int64"
      ]
     },
     "execution_count": 65,
     "metadata": {},
     "output_type": "execute_result"
    }
   ],
   "source": [
    "adata.obs['Age'].value_counts()"
   ]
  },
  {
   "cell_type": "code",
   "execution_count": 66,
   "id": "romance-sampling",
   "metadata": {},
   "outputs": [],
   "source": [
    "adata.obs['Age'] = adata.obs['Age'].astype(int)"
   ]
  },
  {
   "cell_type": "code",
   "execution_count": 67,
   "id": "exterior-architecture",
   "metadata": {},
   "outputs": [
    {
     "data": {
      "text/plain": [
       "adult       8766\n",
       "neonatal     480\n",
       "Name: Development_stage, dtype: int64"
      ]
     },
     "execution_count": 67,
     "metadata": {},
     "output_type": "execute_result"
    }
   ],
   "source": [
    "adata.obs['Development_stage'].value_counts()"
   ]
  },
  {
   "cell_type": "code",
   "execution_count": 68,
   "id": "fitted-conviction",
   "metadata": {},
   "outputs": [
    {
     "data": {
      "text/plain": [
       "Ki67TagRFP    8008\n",
       "WT            1238\n",
       "Name: Genotype, dtype: int64"
      ]
     },
     "execution_count": 68,
     "metadata": {},
     "output_type": "execute_result"
    }
   ],
   "source": [
    "adata.obs['Genotype'].value_counts()"
   ]
  },
  {
   "cell_type": "code",
   "execution_count": 69,
   "id": "revolutionary-israel",
   "metadata": {},
   "outputs": [
    {
     "data": {
      "text/plain": [
       "heart             2659\n",
       "infarcted area    2600\n",
       "ventricles        1431\n",
       "remote area       1152\n",
       "apex              1023\n",
       "apex area          381\n",
       "Name: CellType, dtype: int64"
      ]
     },
     "execution_count": 69,
     "metadata": {},
     "output_type": "execute_result"
    }
   ],
   "source": [
    "adata.obs['CellType'].value_counts()"
   ]
  },
  {
   "cell_type": "code",
   "execution_count": 71,
   "id": "pressed-firmware",
   "metadata": {},
   "outputs": [],
   "source": [
    "adata.obs['Tissue'] = adata.obs['CellType']"
   ]
  },
  {
   "cell_type": "code",
   "execution_count": 72,
   "id": "completed-sheriff",
   "metadata": {},
   "outputs": [],
   "source": [
    "adata.obs['CellType'] = 'Cardiac cells'"
   ]
  },
  {
   "cell_type": "code",
   "execution_count": 74,
   "id": "accessory-renaissance",
   "metadata": {},
   "outputs": [],
   "source": [
    "Tissue = {\n",
    "    'ventricles': 'ventricle',\n",
    "    'apex': 'apex area'\n",
    "}"
   ]
  },
  {
   "cell_type": "code",
   "execution_count": 75,
   "id": "located-casting",
   "metadata": {},
   "outputs": [],
   "source": [
    "adata.obs['Tissue'] = [Tissue[x] if x in Tissue.keys() else x for x in adata.obs['Tissue']]"
   ]
  },
  {
   "cell_type": "code",
   "execution_count": 76,
   "id": "twelve-brooks",
   "metadata": {},
   "outputs": [
    {
     "data": {
      "text/plain": [
       "heart             2659\n",
       "infarcted area    2600\n",
       "ventricle         1431\n",
       "apex area         1404\n",
       "remote area       1152\n",
       "Name: Tissue, dtype: int64"
      ]
     },
     "execution_count": 76,
     "metadata": {},
     "output_type": "execute_result"
    }
   ],
   "source": [
    "adata.obs['Tissue'].value_counts()"
   ]
  },
  {
   "cell_type": "code",
   "execution_count": 78,
   "id": "third-thursday",
   "metadata": {},
   "outputs": [],
   "source": [
    "adata.obs['Index'] = adata.obs['StudyID']"
   ]
  },
  {
   "cell_type": "code",
   "execution_count": 80,
   "id": "alien-green",
   "metadata": {},
   "outputs": [
    {
     "data": {
      "text/plain": [
       "GSM3508688    384\n",
       "GSM3508686    384\n",
       "GSM3508685    384\n",
       "GSM3508683    384\n",
       "GSM3508687    384\n",
       "GSM3508684    383\n",
       "GSM3508682    383\n",
       "GSM3508678    379\n",
       "GSM3508679    377\n",
       "GSM3508676    374\n",
       "GSM3508680    368\n",
       "GSM3508675    363\n",
       "GSM3508677    330\n",
       "GSM3508681    329\n",
       "GSM3508674    309\n",
       "GSM3501497     96\n",
       "GSM3501506     96\n",
       "GSM3501505     96\n",
       "GSM3501504     96\n",
       "GSM3501503     96\n",
       "GSM3501500     96\n",
       "GSM3501498     96\n",
       "GSM3501489     96\n",
       "GSM3501496     96\n",
       "GSM3501495     96\n",
       "GSM3501494     96\n",
       "GSM3501492     96\n",
       "GSM3501491     96\n",
       "GSM3501490     96\n",
       "GSM3501508     96\n",
       "GSM3501488     96\n",
       "GSM3501507     96\n",
       "GSM3501513     96\n",
       "GSM3501509     96\n",
       "GSM3501515     96\n",
       "GSM3501521     96\n",
       "GSM3501519     96\n",
       "GSM3501518     96\n",
       "GSM3501510     96\n",
       "GSM3501516     96\n",
       "GSM3501517     96\n",
       "GSM3501514     96\n",
       "GSM3501512     96\n",
       "GSM3501511     96\n",
       "GSM3501487     96\n",
       "GSM3501499     95\n",
       "GSM3501501     95\n",
       "GSM3501502     95\n",
       "GSM3501520     95\n",
       "GSM3501493     95\n",
       "GSM3501522     95\n",
       "GSM3501524     95\n",
       "GSM3501523     93\n",
       "GSM3501525     93\n",
       "Name: Index, dtype: int64"
      ]
     },
     "execution_count": 80,
     "metadata": {},
     "output_type": "execute_result"
    }
   ],
   "source": [
    "adata.obs['Index'].value_counts()"
   ]
  },
  {
   "cell_type": "code",
   "execution_count": 79,
   "id": "conditional-dinner",
   "metadata": {},
   "outputs": [],
   "source": [
    "adata.obs['StudyID'] = 'GSE102048'"
   ]
  },
  {
   "cell_type": "code",
   "execution_count": 81,
   "id": "governmental-aggregate",
   "metadata": {},
   "outputs": [
    {
     "data": {
      "text/plain": [
       "WT      4090\n",
       "MI      2281\n",
       "Sham    1788\n",
       "IR      1087\n",
       "Name: Condition, dtype: int64"
      ]
     },
     "execution_count": 81,
     "metadata": {},
     "output_type": "execute_result"
    }
   ],
   "source": [
    "adata.obs['Condition'].value_counts()"
   ]
  },
  {
   "cell_type": "code",
   "execution_count": 82,
   "id": "quality-railway",
   "metadata": {},
   "outputs": [],
   "source": [
    "adata.obs['Condition'] = ['Normal' if 'WT' in x else x for x in adata.obs['Condition']]"
   ]
  },
  {
   "cell_type": "code",
   "execution_count": 83,
   "id": "military-acceptance",
   "metadata": {},
   "outputs": [
    {
     "data": {
      "text/plain": [
       "Normal    4090\n",
       "MI        2281\n",
       "Sham      1788\n",
       "IR        1087\n",
       "Name: Condition, dtype: int64"
      ]
     },
     "execution_count": 83,
     "metadata": {},
     "output_type": "execute_result"
    }
   ],
   "source": [
    "adata.obs['Condition'].value_counts()"
   ]
  },
  {
   "cell_type": "code",
   "execution_count": 84,
   "id": "sunrise-mobile",
   "metadata": {},
   "outputs": [
    {
     "name": "stderr",
     "output_type": "stream",
     "text": [
      "... storing 'Condition' as categorical\n",
      "... storing 'CellType' as categorical\n",
      "... storing 'Tissue' as categorical\n",
      "... storing 'StudyID' as categorical\n"
     ]
    }
   ],
   "source": [
    "adata.write('./write/GSE102048_processed.h5ad')"
   ]
  }
 ],
 "metadata": {
  "kernelspec": {
   "display_name": "Python 3 (ipykernel)",
   "language": "python",
   "name": "python3"
  },
  "language_info": {
   "codemirror_mode": {
    "name": "ipython",
    "version": 3
   },
   "file_extension": ".py",
   "mimetype": "text/x-python",
   "name": "python",
   "nbconvert_exporter": "python",
   "pygments_lexer": "ipython3",
   "version": "3.9.12"
  }
 },
 "nbformat": 4,
 "nbformat_minor": 5
}
