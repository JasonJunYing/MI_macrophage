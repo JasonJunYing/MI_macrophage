{
 "cells": [
  {
   "cell_type": "markdown",
   "id": "valued-congo",
   "metadata": {},
   "source": [
    "# EMTAB7365 -preprocessing\n",
    "## Xiaonan Wang\n",
    "## 28May2022"
   ]
  },
  {
   "cell_type": "code",
   "execution_count": 1,
   "id": "filled-campbell",
   "metadata": {},
   "outputs": [
    {
     "name": "stdout",
     "output_type": "stream",
     "text": [
      "scanpy==1.7.1 anndata==0.7.5 umap==0.5.1 numpy==1.19.5 scipy==1.5.4 pandas==1.1.5 scikit-learn==0.24.1 statsmodels==0.12.2 python-igraph==0.9.0 leidenalg==0.8.3\n"
     ]
    }
   ],
   "source": [
    "#%matplotlib nbagg\n",
    "import numpy as np\n",
    "import matplotlib.pyplot as plt\n",
    "import scanpy as sc\n",
    "import pandas as pd\n",
    "from os import listdir\n",
    "from os.path import isfile, join\n",
    "import re\n",
    "import anndata\n",
    "import seaborn as sns\n",
    "\n",
    "plt.rcParams['pdf.fonttype'] = 42\n",
    "plt.rcParams['ps.fonttype'] = 42\n",
    "\n",
    "sc.settings.verbosity = 3  # verbosity: errors (0), warnings (1), info (2), hints (3)\n",
    "sc.logging.print_header()\n",
    "\n",
    "from matplotlib.colors import LinearSegmentedColormap\n",
    "cmap = LinearSegmentedColormap.from_list(name='gene_cmap', colors=['lightgrey', 'thistle', 'red', 'darkred']) \n",
    "\n",
    "sc.settings.set_figure_params(dpi=80, color_map='viridis', vector_friendly=False,  dpi_save=300)"
   ]
  },
  {
   "cell_type": "markdown",
   "id": "charming-authentication",
   "metadata": {},
   "source": [
    "# Data in"
   ]
  },
  {
   "cell_type": "code",
   "execution_count": 2,
   "id": "particular-excitement",
   "metadata": {},
   "outputs": [],
   "source": [
    "FileDir = '/nfs01data1/Groups/Wangxiaonan/share/rev_MI/EMTAB7365/'"
   ]
  },
  {
   "cell_type": "code",
   "execution_count": 3,
   "id": "unlikely-board",
   "metadata": {},
   "outputs": [
    {
     "name": "stderr",
     "output_type": "stream",
     "text": [
      "... reading from cache file cache/nfs01data1-Groups-Wangxiaonan-share-rev_MI-EMTAB7365-SP_replicate1_counts.h5ad\n"
     ]
    },
    {
     "name": "stdout",
     "output_type": "stream",
     "text": [
      "(64, 48321)\n",
      "Index(['0610006L08Rik', '0610007P14Rik'], dtype='object')\n",
      "Index(['SP_replicate1_cell_064', 'SP_replicate1_cell_083'], dtype='object')\n"
     ]
    }
   ],
   "source": [
    "adata1 = sc.read(FileDir+'./SP_replicate1_counts.txt', cache=True).T\n",
    "print(adata1.shape)\n",
    "print(adata1.var_names[0:2])\n",
    "print(adata1.obs_names[0:2])"
   ]
  },
  {
   "cell_type": "code",
   "execution_count": 4,
   "id": "streaming-broadway",
   "metadata": {},
   "outputs": [
    {
     "name": "stderr",
     "output_type": "stream",
     "text": [
      "... reading from cache file cache/nfs01data1-Groups-Wangxiaonan-share-rev_MI-EMTAB7365-SP_replicate2_counts.h5ad\n"
     ]
    },
    {
     "name": "stdout",
     "output_type": "stream",
     "text": [
      "(62, 48321)\n",
      "Index(['0610006L08Rik', '0610007P14Rik'], dtype='object')\n",
      "Index(['SP_replicate2_Cell_133', 'SP_replicate2_Cell_140'], dtype='object')\n"
     ]
    }
   ],
   "source": [
    "adata2 = sc.read(FileDir+'./SP_replicate2_counts.txt', cache=True).T\n",
    "print(adata2.shape)\n",
    "print(adata2.var_names[0:2])\n",
    "print(adata2.obs_names[0:2])"
   ]
  },
  {
   "cell_type": "code",
   "execution_count": 5,
   "id": "reverse-hardware",
   "metadata": {},
   "outputs": [
    {
     "name": "stdout",
     "output_type": "stream",
     "text": [
      "(126, 48321)\n"
     ]
    }
   ],
   "source": [
    "adata = adata1.concatenate(adata2, index_unique=None) \n",
    "print(adata.shape)"
   ]
  },
  {
   "cell_type": "code",
   "execution_count": 88,
   "id": "collaborative-business",
   "metadata": {},
   "outputs": [
    {
     "name": "stdout",
     "output_type": "stream",
     "text": [
      "Index(['SP_replicate1_cell_083', 'SP_replicate1_cell_098'], dtype='object')\n"
     ]
    }
   ],
   "source": [
    "print(adata.obs_names[0:3])"
   ]
  },
  {
   "cell_type": "code",
   "execution_count": 7,
   "id": "renewable-charm",
   "metadata": {},
   "outputs": [
    {
     "name": "stdout",
     "output_type": "stream",
     "text": [
      "(252, 48)\n",
      "Index(['Comment[ENA_SAMPLE]', 'Comment[BioSD_SAMPLE]',\n",
      "       'Characteristics[organism]', 'Characteristics[strain]',\n",
      "       'Characteristics[age]', 'Unit[time unit]',\n",
      "       'Characteristics[developmental stage]', 'Characteristics[sex]',\n",
      "       'Characteristics[organism part]', 'Characteristics[genotype]',\n",
      "       'Characteristics[phenotype]', 'Characteristics[disease]',\n",
      "       'Characteristics[single cell well quality]',\n",
      "       'Characteristics[post analysis well quality]',\n",
      "       'Characteristics[single cell quality]', 'Material Type', 'Protocol REF',\n",
      "       'Protocol REF.1', 'Protocol REF.2', 'Extract Name',\n",
      "       'Comment[LIBRARY_LAYOUT]', 'Comment[LIBRARY_SELECTION]',\n",
      "       'Comment[LIBRARY_SOURCE]', 'Comment[LIBRARY_STRATEGY]',\n",
      "       'Comment[LIBRARY_STRAND]', 'Comment[NOMINAL_LENGTH]',\n",
      "       'Comment[NOMINAL_SDEV]', 'Comment[library construction]',\n",
      "       'Comment[single cell isolation]', 'Comment[input molecule]',\n",
      "       'Comment[primer]', 'Comment[end bias]', 'Protocol REF.3', 'Performer',\n",
      "       'Assay Name', 'Technology Type', 'Comment[ENA_EXPERIMENT]', 'Scan Name',\n",
      "       'Comment[SUBMITTED_FILE_NAME]', 'Comment[ENA_RUN]',\n",
      "       'Comment[FASTQ_URI]', 'Comment[SPOT_LENGTH]',\n",
      "       'Comment[READ_INDEX_1_BASE_COORD]', 'Protocol REF.4', 'Protocol REF.5',\n",
      "       'Derived Array Data File', 'Comment [Derived ArrayExpress FTP file]',\n",
      "       'Factor Value[single cell identifier]'],\n",
      "      dtype='object')\n"
     ]
    }
   ],
   "source": [
    "meta = pd.read_csv(FileDir + './E-MTAB-7365.sdrf.txt', index_col=0, sep='\\t')\n",
    "print(meta.shape)\n",
    "print(meta.columns)"
   ]
  },
  {
   "cell_type": "code",
   "execution_count": 8,
   "id": "hybrid-entrance",
   "metadata": {},
   "outputs": [
    {
     "data": {
      "text/html": [
       "<div>\n",
       "<style scoped>\n",
       "    .dataframe tbody tr th:only-of-type {\n",
       "        vertical-align: middle;\n",
       "    }\n",
       "\n",
       "    .dataframe tbody tr th {\n",
       "        vertical-align: top;\n",
       "    }\n",
       "\n",
       "    .dataframe thead th {\n",
       "        text-align: right;\n",
       "    }\n",
       "</style>\n",
       "<table border=\"1\" class=\"dataframe\">\n",
       "  <thead>\n",
       "    <tr style=\"text-align: right;\">\n",
       "      <th></th>\n",
       "      <th>Comment[ENA_SAMPLE]</th>\n",
       "      <th>Comment[BioSD_SAMPLE]</th>\n",
       "      <th>Characteristics[organism]</th>\n",
       "      <th>Characteristics[strain]</th>\n",
       "      <th>Characteristics[age]</th>\n",
       "      <th>Unit[time unit]</th>\n",
       "      <th>Characteristics[developmental stage]</th>\n",
       "      <th>Characteristics[sex]</th>\n",
       "      <th>Characteristics[organism part]</th>\n",
       "      <th>Characteristics[genotype]</th>\n",
       "      <th>...</th>\n",
       "      <th>Comment[SUBMITTED_FILE_NAME]</th>\n",
       "      <th>Comment[ENA_RUN]</th>\n",
       "      <th>Comment[FASTQ_URI]</th>\n",
       "      <th>Comment[SPOT_LENGTH]</th>\n",
       "      <th>Comment[READ_INDEX_1_BASE_COORD]</th>\n",
       "      <th>Protocol REF.4</th>\n",
       "      <th>Protocol REF.5</th>\n",
       "      <th>Derived Array Data File</th>\n",
       "      <th>Comment [Derived ArrayExpress FTP file]</th>\n",
       "      <th>Factor Value[single cell identifier]</th>\n",
       "    </tr>\n",
       "    <tr>\n",
       "      <th>Source Name</th>\n",
       "      <th></th>\n",
       "      <th></th>\n",
       "      <th></th>\n",
       "      <th></th>\n",
       "      <th></th>\n",
       "      <th></th>\n",
       "      <th></th>\n",
       "      <th></th>\n",
       "      <th></th>\n",
       "      <th></th>\n",
       "      <th></th>\n",
       "      <th></th>\n",
       "      <th></th>\n",
       "      <th></th>\n",
       "      <th></th>\n",
       "      <th></th>\n",
       "      <th></th>\n",
       "      <th></th>\n",
       "      <th></th>\n",
       "      <th></th>\n",
       "      <th></th>\n",
       "    </tr>\n",
       "  </thead>\n",
       "  <tbody>\n",
       "    <tr>\n",
       "      <th>SP_replicate1_cell_070</th>\n",
       "      <td>ERS2877853</td>\n",
       "      <td>SAMEA5066649</td>\n",
       "      <td>Mus musculus</td>\n",
       "      <td>C57BL/6J</td>\n",
       "      <td>8</td>\n",
       "      <td>week</td>\n",
       "      <td>adult</td>\n",
       "      <td>male</td>\n",
       "      <td>cardiac ventricle</td>\n",
       "      <td>wild type genotype</td>\n",
       "      <td>...</td>\n",
       "      <td>SP_replicate1_Cell_070_Mouse_TAAGGCGA-AAGGAGTA...</td>\n",
       "      <td>ERR2868916</td>\n",
       "      <td>ftp://ftp.sra.ebi.ac.uk/vol1/fastq/ERR286/006/...</td>\n",
       "      <td>250</td>\n",
       "      <td>126</td>\n",
       "      <td>P-MTAB-80388</td>\n",
       "      <td>P-MTAB-80389</td>\n",
       "      <td>SP_replicate1_counts.txt</td>\n",
       "      <td>ftp://ftp.ebi.ac.uk/pub/databases/microarray/d...</td>\n",
       "      <td>SP_replicate1_cell_070</td>\n",
       "    </tr>\n",
       "    <tr>\n",
       "      <th>SP_replicate1_cell_070</th>\n",
       "      <td>ERS2877853</td>\n",
       "      <td>SAMEA5066649</td>\n",
       "      <td>Mus musculus</td>\n",
       "      <td>C57BL/6J</td>\n",
       "      <td>8</td>\n",
       "      <td>week</td>\n",
       "      <td>adult</td>\n",
       "      <td>male</td>\n",
       "      <td>cardiac ventricle</td>\n",
       "      <td>wild type genotype</td>\n",
       "      <td>...</td>\n",
       "      <td>SP_replicate1_Cell_070_Mouse_TAAGGCGA-AAGGAGTA...</td>\n",
       "      <td>ERR2868916</td>\n",
       "      <td>ftp://ftp.sra.ebi.ac.uk/vol1/fastq/ERR286/006/...</td>\n",
       "      <td>250</td>\n",
       "      <td>126</td>\n",
       "      <td>P-MTAB-80388</td>\n",
       "      <td>P-MTAB-80389</td>\n",
       "      <td>SP_replicate1_counts.txt</td>\n",
       "      <td>ftp://ftp.ebi.ac.uk/pub/databases/microarray/d...</td>\n",
       "      <td>SP_replicate1_cell_070</td>\n",
       "    </tr>\n",
       "  </tbody>\n",
       "</table>\n",
       "<p>2 rows × 48 columns</p>\n",
       "</div>"
      ],
      "text/plain": [
       "                       Comment[ENA_SAMPLE] Comment[BioSD_SAMPLE]  \\\n",
       "Source Name                                                        \n",
       "SP_replicate1_cell_070          ERS2877853          SAMEA5066649   \n",
       "SP_replicate1_cell_070          ERS2877853          SAMEA5066649   \n",
       "\n",
       "                       Characteristics[organism] Characteristics[strain]  \\\n",
       "Source Name                                                                \n",
       "SP_replicate1_cell_070              Mus musculus                C57BL/6J   \n",
       "SP_replicate1_cell_070              Mus musculus                C57BL/6J   \n",
       "\n",
       "                        Characteristics[age] Unit[time unit]  \\\n",
       "Source Name                                                    \n",
       "SP_replicate1_cell_070                     8            week   \n",
       "SP_replicate1_cell_070                     8            week   \n",
       "\n",
       "                       Characteristics[developmental stage]  \\\n",
       "Source Name                                                   \n",
       "SP_replicate1_cell_070                                adult   \n",
       "SP_replicate1_cell_070                                adult   \n",
       "\n",
       "                       Characteristics[sex] Characteristics[organism part]  \\\n",
       "Source Name                                                                  \n",
       "SP_replicate1_cell_070                 male              cardiac ventricle   \n",
       "SP_replicate1_cell_070                 male              cardiac ventricle   \n",
       "\n",
       "                       Characteristics[genotype]  ...  \\\n",
       "Source Name                                       ...   \n",
       "SP_replicate1_cell_070        wild type genotype  ...   \n",
       "SP_replicate1_cell_070        wild type genotype  ...   \n",
       "\n",
       "                                             Comment[SUBMITTED_FILE_NAME]  \\\n",
       "Source Name                                                                 \n",
       "SP_replicate1_cell_070  SP_replicate1_Cell_070_Mouse_TAAGGCGA-AAGGAGTA...   \n",
       "SP_replicate1_cell_070  SP_replicate1_Cell_070_Mouse_TAAGGCGA-AAGGAGTA...   \n",
       "\n",
       "                       Comment[ENA_RUN]  \\\n",
       "Source Name                               \n",
       "SP_replicate1_cell_070       ERR2868916   \n",
       "SP_replicate1_cell_070       ERR2868916   \n",
       "\n",
       "                                                       Comment[FASTQ_URI]  \\\n",
       "Source Name                                                                 \n",
       "SP_replicate1_cell_070  ftp://ftp.sra.ebi.ac.uk/vol1/fastq/ERR286/006/...   \n",
       "SP_replicate1_cell_070  ftp://ftp.sra.ebi.ac.uk/vol1/fastq/ERR286/006/...   \n",
       "\n",
       "                       Comment[SPOT_LENGTH] Comment[READ_INDEX_1_BASE_COORD]  \\\n",
       "Source Name                                                                    \n",
       "SP_replicate1_cell_070                  250                              126   \n",
       "SP_replicate1_cell_070                  250                              126   \n",
       "\n",
       "                       Protocol REF.4 Protocol REF.5  \\\n",
       "Source Name                                            \n",
       "SP_replicate1_cell_070   P-MTAB-80388   P-MTAB-80389   \n",
       "SP_replicate1_cell_070   P-MTAB-80388   P-MTAB-80389   \n",
       "\n",
       "                         Derived Array Data File  \\\n",
       "Source Name                                        \n",
       "SP_replicate1_cell_070  SP_replicate1_counts.txt   \n",
       "SP_replicate1_cell_070  SP_replicate1_counts.txt   \n",
       "\n",
       "                                  Comment [Derived ArrayExpress FTP file]  \\\n",
       "Source Name                                                                 \n",
       "SP_replicate1_cell_070  ftp://ftp.ebi.ac.uk/pub/databases/microarray/d...   \n",
       "SP_replicate1_cell_070  ftp://ftp.ebi.ac.uk/pub/databases/microarray/d...   \n",
       "\n",
       "                       Factor Value[single cell identifier]  \n",
       "Source Name                                                  \n",
       "SP_replicate1_cell_070               SP_replicate1_cell_070  \n",
       "SP_replicate1_cell_070               SP_replicate1_cell_070  \n",
       "\n",
       "[2 rows x 48 columns]"
      ]
     },
     "execution_count": 8,
     "metadata": {},
     "output_type": "execute_result"
    }
   ],
   "source": [
    "meta.head(2)"
   ]
  },
  {
   "cell_type": "code",
   "execution_count": 9,
   "id": "silver-trace",
   "metadata": {},
   "outputs": [],
   "source": [
    "# remove duplicates due to paired end sequencing R1,R2\n",
    "meta1 = meta.drop_duplicates(subset=['Comment[ENA_SAMPLE]'])"
   ]
  },
  {
   "cell_type": "code",
   "execution_count": 10,
   "id": "controversial-blanket",
   "metadata": {},
   "outputs": [
    {
     "data": {
      "text/plain": [
       "OK              103\n",
       "OK, filtered     18\n",
       "not OK            5\n",
       "Name: Characteristics[single cell quality], dtype: int64"
      ]
     },
     "execution_count": 10,
     "metadata": {},
     "output_type": "execute_result"
    }
   ],
   "source": [
    "meta1['Characteristics[single cell quality]'].value_counts()"
   ]
  },
  {
   "cell_type": "code",
   "execution_count": 11,
   "id": "specific-representation",
   "metadata": {},
   "outputs": [
    {
     "data": {
      "text/plain": [
       "array([], dtype=object)"
      ]
     },
     "execution_count": 11,
     "metadata": {},
     "output_type": "execute_result"
    }
   ],
   "source": [
    "np.setdiff1d(adata.obs_names, meta1.index)"
   ]
  },
  {
   "cell_type": "code",
   "execution_count": 12,
   "id": "adopted-lawyer",
   "metadata": {},
   "outputs": [],
   "source": [
    "meta2 = meta1.loc[adata.obs_names,:].copy()"
   ]
  },
  {
   "cell_type": "code",
   "execution_count": 13,
   "id": "knowing-guitar",
   "metadata": {},
   "outputs": [
    {
     "data": {
      "text/html": [
       "<div>\n",
       "<style scoped>\n",
       "    .dataframe tbody tr th:only-of-type {\n",
       "        vertical-align: middle;\n",
       "    }\n",
       "\n",
       "    .dataframe tbody tr th {\n",
       "        vertical-align: top;\n",
       "    }\n",
       "\n",
       "    .dataframe thead th {\n",
       "        text-align: right;\n",
       "    }\n",
       "</style>\n",
       "<table border=\"1\" class=\"dataframe\">\n",
       "  <thead>\n",
       "    <tr style=\"text-align: right;\">\n",
       "      <th></th>\n",
       "      <th>Comment[ENA_SAMPLE]</th>\n",
       "      <th>Comment[BioSD_SAMPLE]</th>\n",
       "      <th>Characteristics[organism]</th>\n",
       "      <th>Characteristics[strain]</th>\n",
       "      <th>Characteristics[age]</th>\n",
       "      <th>Unit[time unit]</th>\n",
       "      <th>Characteristics[developmental stage]</th>\n",
       "      <th>Characteristics[sex]</th>\n",
       "      <th>Characteristics[organism part]</th>\n",
       "      <th>Characteristics[genotype]</th>\n",
       "      <th>...</th>\n",
       "      <th>Comment[SUBMITTED_FILE_NAME]</th>\n",
       "      <th>Comment[ENA_RUN]</th>\n",
       "      <th>Comment[FASTQ_URI]</th>\n",
       "      <th>Comment[SPOT_LENGTH]</th>\n",
       "      <th>Comment[READ_INDEX_1_BASE_COORD]</th>\n",
       "      <th>Protocol REF.4</th>\n",
       "      <th>Protocol REF.5</th>\n",
       "      <th>Derived Array Data File</th>\n",
       "      <th>Comment [Derived ArrayExpress FTP file]</th>\n",
       "      <th>Factor Value[single cell identifier]</th>\n",
       "    </tr>\n",
       "  </thead>\n",
       "  <tbody>\n",
       "    <tr>\n",
       "      <th>SP_replicate1_cell_064</th>\n",
       "      <td>ERS2877876</td>\n",
       "      <td>SAMEA5066673</td>\n",
       "      <td>Mus musculus</td>\n",
       "      <td>C57BL/6J</td>\n",
       "      <td>8</td>\n",
       "      <td>week</td>\n",
       "      <td>adult</td>\n",
       "      <td>male</td>\n",
       "      <td>cardiac ventricle</td>\n",
       "      <td>wild type genotype</td>\n",
       "      <td>...</td>\n",
       "      <td>SP_replicate1_Cell_064_Mouse_TAAGGCGA-GCGTAAGA...</td>\n",
       "      <td>ERR2868939</td>\n",
       "      <td>ftp://ftp.sra.ebi.ac.uk/vol1/fastq/ERR286/009/...</td>\n",
       "      <td>250</td>\n",
       "      <td>126</td>\n",
       "      <td>P-MTAB-80388</td>\n",
       "      <td>P-MTAB-80389</td>\n",
       "      <td>SP_replicate1_counts.txt</td>\n",
       "      <td>ftp://ftp.ebi.ac.uk/pub/databases/microarray/d...</td>\n",
       "      <td>SP_replicate1_cell_064</td>\n",
       "    </tr>\n",
       "    <tr>\n",
       "      <th>SP_replicate1_cell_083</th>\n",
       "      <td>ERS2877890</td>\n",
       "      <td>SAMEA5066687</td>\n",
       "      <td>Mus musculus</td>\n",
       "      <td>C57BL/6J</td>\n",
       "      <td>8</td>\n",
       "      <td>week</td>\n",
       "      <td>adult</td>\n",
       "      <td>male</td>\n",
       "      <td>cardiac ventricle</td>\n",
       "      <td>wild type genotype</td>\n",
       "      <td>...</td>\n",
       "      <td>SP_replicate1_Cell_083_Mouse_AGGCAGAA-AGAGTAGA...</td>\n",
       "      <td>ERR2868953</td>\n",
       "      <td>ftp://ftp.sra.ebi.ac.uk/vol1/fastq/ERR286/003/...</td>\n",
       "      <td>250</td>\n",
       "      <td>126</td>\n",
       "      <td>P-MTAB-80388</td>\n",
       "      <td>P-MTAB-80389</td>\n",
       "      <td>SP_replicate1_counts.txt</td>\n",
       "      <td>ftp://ftp.ebi.ac.uk/pub/databases/microarray/d...</td>\n",
       "      <td>SP_replicate1_cell_083</td>\n",
       "    </tr>\n",
       "  </tbody>\n",
       "</table>\n",
       "<p>2 rows × 48 columns</p>\n",
       "</div>"
      ],
      "text/plain": [
       "                       Comment[ENA_SAMPLE] Comment[BioSD_SAMPLE]  \\\n",
       "SP_replicate1_cell_064          ERS2877876          SAMEA5066673   \n",
       "SP_replicate1_cell_083          ERS2877890          SAMEA5066687   \n",
       "\n",
       "                       Characteristics[organism] Characteristics[strain]  \\\n",
       "SP_replicate1_cell_064              Mus musculus                C57BL/6J   \n",
       "SP_replicate1_cell_083              Mus musculus                C57BL/6J   \n",
       "\n",
       "                        Characteristics[age] Unit[time unit]  \\\n",
       "SP_replicate1_cell_064                     8            week   \n",
       "SP_replicate1_cell_083                     8            week   \n",
       "\n",
       "                       Characteristics[developmental stage]  \\\n",
       "SP_replicate1_cell_064                                adult   \n",
       "SP_replicate1_cell_083                                adult   \n",
       "\n",
       "                       Characteristics[sex] Characteristics[organism part]  \\\n",
       "SP_replicate1_cell_064                 male              cardiac ventricle   \n",
       "SP_replicate1_cell_083                 male              cardiac ventricle   \n",
       "\n",
       "                       Characteristics[genotype]  ...  \\\n",
       "SP_replicate1_cell_064        wild type genotype  ...   \n",
       "SP_replicate1_cell_083        wild type genotype  ...   \n",
       "\n",
       "                                             Comment[SUBMITTED_FILE_NAME]  \\\n",
       "SP_replicate1_cell_064  SP_replicate1_Cell_064_Mouse_TAAGGCGA-GCGTAAGA...   \n",
       "SP_replicate1_cell_083  SP_replicate1_Cell_083_Mouse_AGGCAGAA-AGAGTAGA...   \n",
       "\n",
       "                       Comment[ENA_RUN]  \\\n",
       "SP_replicate1_cell_064       ERR2868939   \n",
       "SP_replicate1_cell_083       ERR2868953   \n",
       "\n",
       "                                                       Comment[FASTQ_URI]  \\\n",
       "SP_replicate1_cell_064  ftp://ftp.sra.ebi.ac.uk/vol1/fastq/ERR286/009/...   \n",
       "SP_replicate1_cell_083  ftp://ftp.sra.ebi.ac.uk/vol1/fastq/ERR286/003/...   \n",
       "\n",
       "                       Comment[SPOT_LENGTH] Comment[READ_INDEX_1_BASE_COORD]  \\\n",
       "SP_replicate1_cell_064                  250                              126   \n",
       "SP_replicate1_cell_083                  250                              126   \n",
       "\n",
       "                       Protocol REF.4 Protocol REF.5  \\\n",
       "SP_replicate1_cell_064   P-MTAB-80388   P-MTAB-80389   \n",
       "SP_replicate1_cell_083   P-MTAB-80388   P-MTAB-80389   \n",
       "\n",
       "                         Derived Array Data File  \\\n",
       "SP_replicate1_cell_064  SP_replicate1_counts.txt   \n",
       "SP_replicate1_cell_083  SP_replicate1_counts.txt   \n",
       "\n",
       "                                  Comment [Derived ArrayExpress FTP file]  \\\n",
       "SP_replicate1_cell_064  ftp://ftp.ebi.ac.uk/pub/databases/microarray/d...   \n",
       "SP_replicate1_cell_083  ftp://ftp.ebi.ac.uk/pub/databases/microarray/d...   \n",
       "\n",
       "                       Factor Value[single cell identifier]  \n",
       "SP_replicate1_cell_064               SP_replicate1_cell_064  \n",
       "SP_replicate1_cell_083               SP_replicate1_cell_083  \n",
       "\n",
       "[2 rows x 48 columns]"
      ]
     },
     "metadata": {},
     "output_type": "display_data"
    }
   ],
   "source": [
    "display(meta2.head(2))"
   ]
  },
  {
   "cell_type": "code",
   "execution_count": 14,
   "id": "political-recording",
   "metadata": {},
   "outputs": [],
   "source": [
    "# add meta into adata\n",
    "adata.obs['StudyID'] = 'EMTAB7365'\n",
    "adata.obs['Genotype'] = 'Pdgfra+/Sca1+/Cd31-'\n",
    "adata.obs['CellType'] = 'Fibroblasts'\n",
    "adata.obs['Age'] = 8\n",
    "adata.obs['Development_stage'] = 'adult'\n",
    "adata.obs['Strain'] = 'C57BL/6J'\n",
    "adata.obs['Organism'] = 'Mus musculus'\n",
    "adata.obs['Gender'] = 'male'\n",
    "adata.obs['Tissue'] = 'Cardiac ventricle'\n",
    "adata.obs['Condition'] = 'Normal'\n",
    "adata.obs['Batch'] = ['EMTAB7365_B'+str(int(x)+1) for x in adata.obs['batch']]"
   ]
  },
  {
   "cell_type": "code",
   "execution_count": 15,
   "id": "controversial-favorite",
   "metadata": {},
   "outputs": [],
   "source": [
    "adata.obs['ERR'] = meta2['Comment[ENA_RUN]'].values\n",
    "adata.obs['QC'] = meta2['Characteristics[single cell quality]'].values"
   ]
  },
  {
   "cell_type": "code",
   "execution_count": 16,
   "id": "unsigned-prototype",
   "metadata": {},
   "outputs": [
    {
     "data": {
      "text/html": [
       "<div>\n",
       "<style scoped>\n",
       "    .dataframe tbody tr th:only-of-type {\n",
       "        vertical-align: middle;\n",
       "    }\n",
       "\n",
       "    .dataframe tbody tr th {\n",
       "        vertical-align: top;\n",
       "    }\n",
       "\n",
       "    .dataframe thead th {\n",
       "        text-align: right;\n",
       "    }\n",
       "</style>\n",
       "<table border=\"1\" class=\"dataframe\">\n",
       "  <thead>\n",
       "    <tr style=\"text-align: right;\">\n",
       "      <th></th>\n",
       "      <th>batch</th>\n",
       "      <th>StudyID</th>\n",
       "      <th>Genotype</th>\n",
       "      <th>CellType</th>\n",
       "      <th>Age</th>\n",
       "      <th>Development_stage</th>\n",
       "      <th>Stain</th>\n",
       "      <th>Organism</th>\n",
       "      <th>Gender</th>\n",
       "      <th>Tissue</th>\n",
       "      <th>Condition</th>\n",
       "      <th>Batch</th>\n",
       "      <th>ERR</th>\n",
       "      <th>QC</th>\n",
       "    </tr>\n",
       "  </thead>\n",
       "  <tbody>\n",
       "    <tr>\n",
       "      <th>SP_replicate1_cell_064</th>\n",
       "      <td>0</td>\n",
       "      <td>EMTAB7365</td>\n",
       "      <td>Pdgfra+/Sca1+/Cd31-</td>\n",
       "      <td>Fibroblasts</td>\n",
       "      <td>8</td>\n",
       "      <td>adult</td>\n",
       "      <td>C57BL/6J</td>\n",
       "      <td>Mus musculus</td>\n",
       "      <td>male</td>\n",
       "      <td>Cardiac ventricle</td>\n",
       "      <td>Normal</td>\n",
       "      <td>EMTAB7365_B1</td>\n",
       "      <td>ERR2868939</td>\n",
       "      <td>OK</td>\n",
       "    </tr>\n",
       "    <tr>\n",
       "      <th>SP_replicate1_cell_083</th>\n",
       "      <td>0</td>\n",
       "      <td>EMTAB7365</td>\n",
       "      <td>Pdgfra+/Sca1+/Cd31-</td>\n",
       "      <td>Fibroblasts</td>\n",
       "      <td>8</td>\n",
       "      <td>adult</td>\n",
       "      <td>C57BL/6J</td>\n",
       "      <td>Mus musculus</td>\n",
       "      <td>male</td>\n",
       "      <td>Cardiac ventricle</td>\n",
       "      <td>Normal</td>\n",
       "      <td>EMTAB7365_B1</td>\n",
       "      <td>ERR2868953</td>\n",
       "      <td>OK</td>\n",
       "    </tr>\n",
       "  </tbody>\n",
       "</table>\n",
       "</div>"
      ],
      "text/plain": [
       "                       batch    StudyID             Genotype     CellType  \\\n",
       "SP_replicate1_cell_064     0  EMTAB7365  Pdgfra+/Sca1+/Cd31-  Fibroblasts   \n",
       "SP_replicate1_cell_083     0  EMTAB7365  Pdgfra+/Sca1+/Cd31-  Fibroblasts   \n",
       "\n",
       "                        Age Development_stage     Stain      Organism Gender  \\\n",
       "SP_replicate1_cell_064    8             adult  C57BL/6J  Mus musculus   male   \n",
       "SP_replicate1_cell_083    8             adult  C57BL/6J  Mus musculus   male   \n",
       "\n",
       "                                   Tissue Condition         Batch         ERR  \\\n",
       "SP_replicate1_cell_064  Cardiac ventricle    Normal  EMTAB7365_B1  ERR2868939   \n",
       "SP_replicate1_cell_083  Cardiac ventricle    Normal  EMTAB7365_B1  ERR2868953   \n",
       "\n",
       "                        QC  \n",
       "SP_replicate1_cell_064  OK  \n",
       "SP_replicate1_cell_083  OK  "
      ]
     },
     "execution_count": 16,
     "metadata": {},
     "output_type": "execute_result"
    }
   ],
   "source": [
    "adata.obs.head(2)"
   ]
  },
  {
   "cell_type": "code",
   "execution_count": 17,
   "id": "advanced-doubt",
   "metadata": {},
   "outputs": [
    {
     "name": "stdout",
     "output_type": "stream",
     "text": [
      "(103, 48321)\n"
     ]
    }
   ],
   "source": [
    "adata = adata[adata.obs['QC'] == 'OK',:].copy()\n",
    "print(adata.shape)"
   ]
  },
  {
   "cell_type": "code",
   "execution_count": 18,
   "id": "beautiful-anxiety",
   "metadata": {},
   "outputs": [
    {
     "name": "stderr",
     "output_type": "stream",
     "text": [
      "... storing 'StudyID' as categorical\n",
      "... storing 'Genotype' as categorical\n",
      "... storing 'CellType' as categorical\n",
      "... storing 'Development_stage' as categorical\n",
      "... storing 'Stain' as categorical\n",
      "... storing 'Organism' as categorical\n",
      "... storing 'Gender' as categorical\n",
      "... storing 'Tissue' as categorical\n",
      "... storing 'Condition' as categorical\n",
      "... storing 'Batch' as categorical\n",
      "... storing 'QC' as categorical\n"
     ]
    }
   ],
   "source": [
    "adata.write('./write/EMTAB7365_raw.h5ad')"
   ]
  },
  {
   "cell_type": "markdown",
   "id": "graduate-conviction",
   "metadata": {},
   "source": [
    "# Further QC"
   ]
  },
  {
   "cell_type": "code",
   "execution_count": 19,
   "id": "compliant-establishment",
   "metadata": {},
   "outputs": [],
   "source": [
    "adata = sc.read('./write/EMTAB7365_raw.h5ad')"
   ]
  },
  {
   "cell_type": "code",
   "execution_count": 20,
   "id": "confident-kidney",
   "metadata": {},
   "outputs": [
    {
     "name": "stderr",
     "output_type": "stream",
     "text": [
      "normalizing counts per cell\n",
      "    finished (0:00:00)\n"
     ]
    },
    {
     "data": {
      "image/png": "[encoded data removed]",
      "text/plain": [
       "<Figure size 400x440 with 1 Axes>"
      ]
     },
     "metadata": {
      "needs_background": "light"
     },
     "output_type": "display_data"
    }
   ],
   "source": [
    "sc.pl.highest_expr_genes(adata, n_top=20)"
   ]
  },
  {
   "cell_type": "code",
   "execution_count": 21,
   "id": "dated-branch",
   "metadata": {},
   "outputs": [],
   "source": [
    "adata.var['MT'] = adata.var_names.str.startswith('mt+') "
   ]
  },
  {
   "cell_type": "code",
   "execution_count": 22,
   "id": "contrary-switch",
   "metadata": {},
   "outputs": [],
   "source": [
    "sc.pp.calculate_qc_metrics(adata, qc_vars=['MT'], inplace=True)"
   ]
  },
  {
   "cell_type": "code",
   "execution_count": 23,
   "id": "demographic-publicity",
   "metadata": {},
   "outputs": [
    {
     "data": {
      "text/html": [
       "<div>\n",
       "<style scoped>\n",
       "    .dataframe tbody tr th:only-of-type {\n",
       "        vertical-align: middle;\n",
       "    }\n",
       "\n",
       "    .dataframe tbody tr th {\n",
       "        vertical-align: top;\n",
       "    }\n",
       "\n",
       "    .dataframe thead th {\n",
       "        text-align: right;\n",
       "    }\n",
       "</style>\n",
       "<table border=\"1\" class=\"dataframe\">\n",
       "  <thead>\n",
       "    <tr style=\"text-align: right;\">\n",
       "      <th></th>\n",
       "      <th>batch</th>\n",
       "      <th>StudyID</th>\n",
       "      <th>Genotype</th>\n",
       "      <th>CellType</th>\n",
       "      <th>Age</th>\n",
       "      <th>Development_stage</th>\n",
       "      <th>Stain</th>\n",
       "      <th>Organism</th>\n",
       "      <th>Gender</th>\n",
       "      <th>Tissue</th>\n",
       "      <th>...</th>\n",
       "      <th>log1p_n_genes_by_counts</th>\n",
       "      <th>total_counts</th>\n",
       "      <th>log1p_total_counts</th>\n",
       "      <th>pct_counts_in_top_50_genes</th>\n",
       "      <th>pct_counts_in_top_100_genes</th>\n",
       "      <th>pct_counts_in_top_200_genes</th>\n",
       "      <th>pct_counts_in_top_500_genes</th>\n",
       "      <th>total_counts_MT</th>\n",
       "      <th>log1p_total_counts_MT</th>\n",
       "      <th>pct_counts_MT</th>\n",
       "    </tr>\n",
       "  </thead>\n",
       "  <tbody>\n",
       "    <tr>\n",
       "      <th>SP_replicate1_cell_064</th>\n",
       "      <td>0</td>\n",
       "      <td>EMTAB7365</td>\n",
       "      <td>Pdgfra+/Sca1+/Cd31-</td>\n",
       "      <td>Fibroblasts</td>\n",
       "      <td>8</td>\n",
       "      <td>adult</td>\n",
       "      <td>C57BL/6J</td>\n",
       "      <td>Mus musculus</td>\n",
       "      <td>male</td>\n",
       "      <td>Cardiac ventricle</td>\n",
       "      <td>...</td>\n",
       "      <td>8.986572</td>\n",
       "      <td>3433015.0</td>\n",
       "      <td>15.048950</td>\n",
       "      <td>28.462241</td>\n",
       "      <td>38.318184</td>\n",
       "      <td>51.639652</td>\n",
       "      <td>75.029908</td>\n",
       "      <td>36367.0</td>\n",
       "      <td>10.501445</td>\n",
       "      <td>1.059331</td>\n",
       "    </tr>\n",
       "    <tr>\n",
       "      <th>SP_replicate1_cell_083</th>\n",
       "      <td>0</td>\n",
       "      <td>EMTAB7365</td>\n",
       "      <td>Pdgfra+/Sca1+/Cd31-</td>\n",
       "      <td>Fibroblasts</td>\n",
       "      <td>8</td>\n",
       "      <td>adult</td>\n",
       "      <td>C57BL/6J</td>\n",
       "      <td>Mus musculus</td>\n",
       "      <td>male</td>\n",
       "      <td>Cardiac ventricle</td>\n",
       "      <td>...</td>\n",
       "      <td>9.075322</td>\n",
       "      <td>2611116.0</td>\n",
       "      <td>14.775289</td>\n",
       "      <td>28.384453</td>\n",
       "      <td>37.561832</td>\n",
       "      <td>50.764501</td>\n",
       "      <td>73.328301</td>\n",
       "      <td>36186.0</td>\n",
       "      <td>10.496455</td>\n",
       "      <td>1.385844</td>\n",
       "    </tr>\n",
       "    <tr>\n",
       "      <th>SP_replicate1_cell_098</th>\n",
       "      <td>0</td>\n",
       "      <td>EMTAB7365</td>\n",
       "      <td>Pdgfra+/Sca1+/Cd31-</td>\n",
       "      <td>Fibroblasts</td>\n",
       "      <td>8</td>\n",
       "      <td>adult</td>\n",
       "      <td>C57BL/6J</td>\n",
       "      <td>Mus musculus</td>\n",
       "      <td>male</td>\n",
       "      <td>Cardiac ventricle</td>\n",
       "      <td>...</td>\n",
       "      <td>8.992930</td>\n",
       "      <td>2620857.0</td>\n",
       "      <td>14.779013</td>\n",
       "      <td>29.177861</td>\n",
       "      <td>40.746176</td>\n",
       "      <td>54.510147</td>\n",
       "      <td>76.711473</td>\n",
       "      <td>24703.0</td>\n",
       "      <td>10.114720</td>\n",
       "      <td>0.942554</td>\n",
       "    </tr>\n",
       "  </tbody>\n",
       "</table>\n",
       "<p>3 rows × 25 columns</p>\n",
       "</div>"
      ],
      "text/plain": [
       "                       batch    StudyID             Genotype     CellType  \\\n",
       "SP_replicate1_cell_064     0  EMTAB7365  Pdgfra+/Sca1+/Cd31-  Fibroblasts   \n",
       "SP_replicate1_cell_083     0  EMTAB7365  Pdgfra+/Sca1+/Cd31-  Fibroblasts   \n",
       "SP_replicate1_cell_098     0  EMTAB7365  Pdgfra+/Sca1+/Cd31-  Fibroblasts   \n",
       "\n",
       "                        Age Development_stage     Stain      Organism Gender  \\\n",
       "SP_replicate1_cell_064    8             adult  C57BL/6J  Mus musculus   male   \n",
       "SP_replicate1_cell_083    8             adult  C57BL/6J  Mus musculus   male   \n",
       "SP_replicate1_cell_098    8             adult  C57BL/6J  Mus musculus   male   \n",
       "\n",
       "                                   Tissue  ... log1p_n_genes_by_counts  \\\n",
       "SP_replicate1_cell_064  Cardiac ventricle  ...                8.986572   \n",
       "SP_replicate1_cell_083  Cardiac ventricle  ...                9.075322   \n",
       "SP_replicate1_cell_098  Cardiac ventricle  ...                8.992930   \n",
       "\n",
       "                       total_counts log1p_total_counts  \\\n",
       "SP_replicate1_cell_064    3433015.0          15.048950   \n",
       "SP_replicate1_cell_083    2611116.0          14.775289   \n",
       "SP_replicate1_cell_098    2620857.0          14.779013   \n",
       "\n",
       "                       pct_counts_in_top_50_genes  \\\n",
       "SP_replicate1_cell_064                  28.462241   \n",
       "SP_replicate1_cell_083                  28.384453   \n",
       "SP_replicate1_cell_098                  29.177861   \n",
       "\n",
       "                        pct_counts_in_top_100_genes  \\\n",
       "SP_replicate1_cell_064                    38.318184   \n",
       "SP_replicate1_cell_083                    37.561832   \n",
       "SP_replicate1_cell_098                    40.746176   \n",
       "\n",
       "                        pct_counts_in_top_200_genes  \\\n",
       "SP_replicate1_cell_064                    51.639652   \n",
       "SP_replicate1_cell_083                    50.764501   \n",
       "SP_replicate1_cell_098                    54.510147   \n",
       "\n",
       "                        pct_counts_in_top_500_genes  total_counts_MT  \\\n",
       "SP_replicate1_cell_064                    75.029908          36367.0   \n",
       "SP_replicate1_cell_083                    73.328301          36186.0   \n",
       "SP_replicate1_cell_098                    76.711473          24703.0   \n",
       "\n",
       "                        log1p_total_counts_MT  pct_counts_MT  \n",
       "SP_replicate1_cell_064              10.501445       1.059331  \n",
       "SP_replicate1_cell_083              10.496455       1.385844  \n",
       "SP_replicate1_cell_098              10.114720       0.942554  \n",
       "\n",
       "[3 rows x 25 columns]"
      ]
     },
     "execution_count": 23,
     "metadata": {},
     "output_type": "execute_result"
    }
   ],
   "source": [
    "adata.obs.head(3)"
   ]
  },
  {
   "cell_type": "code",
   "execution_count": 24,
   "id": "contrary-flavor",
   "metadata": {},
   "outputs": [
    {
     "name": "stdout",
     "output_type": "stream",
     "text": [
      "5.860786223465865\n",
      "11.289794413577894\n",
      "10\n"
     ]
    },
    {
     "data": {
      "image/png": "[encoded data removed]",
      "text/plain": [
       "<Figure size 720x240 with 3 Axes>"
      ]
     },
     "metadata": {
      "needs_background": "light"
     },
     "output_type": "display_data"
    }
   ],
   "source": [
    "obs_terms = ['log1p_n_genes_by_counts', 'log1p_total_counts', 'pct_counts_MT']\n",
    "cutoffs = [np.log1p(350),np.log1p(80000),10]\n",
    "fig,ax = plt.subplots(1,3, figsize=(9,3))\n",
    "for i in range(len(obs_terms)):\n",
    "    sns.kdeplot(adata.obs[obs_terms[i]], ax=ax[i])\n",
    "    ax[i].grid(False)\n",
    "    ax[i].set_title(obs_terms[i])\n",
    "    print(cutoffs[i])\n",
    "    ax[i].axvline(cutoffs[i], c='orange', linestyle='--')\n",
    "plt.tight_layout()"
   ]
  },
  {
   "cell_type": "code",
   "execution_count": 25,
   "id": "matched-control",
   "metadata": {},
   "outputs": [
    {
     "name": "stderr",
     "output_type": "stream",
     "text": [
      "filtered out 20607 genes that are detected in less than 1 cells\n"
     ]
    }
   ],
   "source": [
    "# Cells look ok, filter out non-expressing genes\n",
    "sc.pp.filter_genes(adata, min_cells=1)"
   ]
  },
  {
   "cell_type": "code",
   "execution_count": 26,
   "id": "quality-price",
   "metadata": {},
   "outputs": [
    {
     "name": "stdout",
     "output_type": "stream",
     "text": [
      "(103, 27714)\n"
     ]
    }
   ],
   "source": [
    "print(adata.shape)"
   ]
  },
  {
   "cell_type": "code",
   "execution_count": 27,
   "id": "signal-clearance",
   "metadata": {},
   "outputs": [],
   "source": [
    "adata.write('./write/EMTAB7365_raw.h5ad')"
   ]
  },
  {
   "cell_type": "markdown",
   "id": "complicated-globe",
   "metadata": {},
   "source": [
    "# Normalisation"
   ]
  },
  {
   "cell_type": "code",
   "execution_count": 28,
   "id": "elect-samuel",
   "metadata": {},
   "outputs": [],
   "source": [
    "adata = sc.read('./write/EMTAB7365_raw.h5ad')"
   ]
  },
  {
   "cell_type": "code",
   "execution_count": 29,
   "id": "spanish-attention",
   "metadata": {},
   "outputs": [
    {
     "name": "stderr",
     "output_type": "stream",
     "text": [
      "normalizing by total count per cell\n",
      "    finished (0:00:00): normalized adata.X and added    'n_counts', counts per cell before normalization (adata.obs)\n"
     ]
    }
   ],
   "source": [
    "# normalisation\n",
    "sc.pp.normalize_per_cell(adata, counts_per_cell_after=1e4)"
   ]
  },
  {
   "cell_type": "code",
   "execution_count": 30,
   "id": "classical-conversion",
   "metadata": {},
   "outputs": [],
   "source": [
    "# log counts\n",
    "sc.pp.log1p(adata)"
   ]
  },
  {
   "cell_type": "code",
   "execution_count": 31,
   "id": "reserved-offset",
   "metadata": {},
   "outputs": [],
   "source": [
    "adata.raw = adata"
   ]
  },
  {
   "cell_type": "code",
   "execution_count": 32,
   "id": "thermal-pulse",
   "metadata": {},
   "outputs": [],
   "source": [
    "adata.write('./write/EMTAB7365_lognorm.h5ad')"
   ]
  },
  {
   "cell_type": "markdown",
   "id": "geological-constitution",
   "metadata": {},
   "source": [
    "# Cell Cycle Assignment"
   ]
  },
  {
   "cell_type": "code",
   "execution_count": 33,
   "id": "separate-virus",
   "metadata": {},
   "outputs": [],
   "source": [
    "adata = sc.read('./write/EMTAB7365_lognorm.h5ad')"
   ]
  },
  {
   "cell_type": "code",
   "execution_count": 34,
   "id": "theoretical-carbon",
   "metadata": {},
   "outputs": [],
   "source": [
    "# Scaling must be done before scoring\n",
    "sc.pp.scale(adata)"
   ]
  },
  {
   "cell_type": "code",
   "execution_count": 35,
   "id": "afraid-sweet",
   "metadata": {},
   "outputs": [
    {
     "name": "stdout",
     "output_type": "stream",
     "text": [
      "97\n"
     ]
    }
   ],
   "source": [
    "cell_cycle_genes = [x.strip()[0].upper()+x.strip()[1:].lower() for x in open('/nfs01data1/Groups/Wangxiaonan/Lab_members/Files/regev_lab_cell_cycle_genes.txt')]\n",
    "print(len(cell_cycle_genes))"
   ]
  },
  {
   "cell_type": "code",
   "execution_count": 36,
   "id": "vital-pitch",
   "metadata": {},
   "outputs": [
    {
     "data": {
      "text/plain": [
       "array(['Aurka', 'Bub1', 'Cdc20', 'Cenpe', 'Dscc1', 'Ect2', 'Fam64a',\n",
       "       'Fen1', 'Kif23', 'Mki67', 'Mlf1ip', 'Rad51', 'Ung'], dtype='<U8')"
      ]
     },
     "execution_count": 36,
     "metadata": {},
     "output_type": "execute_result"
    }
   ],
   "source": [
    "np.setdiff1d(cell_cycle_genes, adata.raw.var_names)"
   ]
  },
  {
   "cell_type": "code",
   "execution_count": 37,
   "id": "emotional-vector",
   "metadata": {},
   "outputs": [
    {
     "name": "stdout",
     "output_type": "stream",
     "text": [
      "Number of s_genes: 43\n",
      "Number of g2m_genes: 54\n",
      "Total number of cell cycle genes: 97\n"
     ]
    }
   ],
   "source": [
    "s_genes = cell_cycle_genes[:43]\n",
    "g2m_genes = cell_cycle_genes[43:]\n",
    "print('Number of s_genes: '+str(len(s_genes)))\n",
    "print('Number of g2m_genes: '+str(len(g2m_genes)))\n",
    "print('Total number of cell cycle genes: '+str(len(cell_cycle_genes)))"
   ]
  },
  {
   "cell_type": "code",
   "execution_count": 38,
   "id": "expanded-study",
   "metadata": {},
   "outputs": [
    {
     "name": "stderr",
     "output_type": "stream",
     "text": [
      "calculating cell cycle phase\n",
      "computing score 'S_score'\n",
      "WARNING: genes are not in var_names and ignored: ['Fen1', 'Ung', 'Mlf1ip', 'Rad51', 'Dscc1']\n",
      "    finished: added\n",
      "    'S_score', score of gene set (adata.obs).\n",
      "    816 total control genes are used. (0:00:00)\n",
      "computing score 'G2M_score'\n",
      "WARNING: genes are not in var_names and ignored: ['Mki67', 'Fam64a', 'Bub1', 'Cdc20', 'Ect2', 'Kif23', 'Aurka', 'Cenpe']\n",
      "    finished: added\n",
      "    'G2M_score', score of gene set (adata.obs).\n",
      "    944 total control genes are used. (0:00:00)\n",
      "-->     'phase', cell cycle phase (adata.obs)\n"
     ]
    }
   ],
   "source": [
    "sc.tl.score_genes_cell_cycle(adata, s_genes=s_genes, g2m_genes=g2m_genes, use_raw=False)"
   ]
  },
  {
   "cell_type": "code",
   "execution_count": 39,
   "id": "cardiac-gender",
   "metadata": {},
   "outputs": [
    {
     "data": {
      "text/plain": [
       "G1     35\n",
       "G2M    33\n",
       "S      35\n",
       "Name: phase, dtype: int64"
      ]
     },
     "execution_count": 39,
     "metadata": {},
     "output_type": "execute_result"
    }
   ],
   "source": [
    "adata.obs['phase'].value_counts().sort_index()"
   ]
  },
  {
   "cell_type": "code",
   "execution_count": 40,
   "id": "disciplinary-mississippi",
   "metadata": {},
   "outputs": [],
   "source": [
    "# save cell cycle assignments\n",
    "adata.obs[['phase', 'S_score', 'G2M_score']].to_csv('cell_cycle_results.txt')"
   ]
  },
  {
   "cell_type": "markdown",
   "id": "arabic-crest",
   "metadata": {},
   "source": [
    "# Select Highly Variable Genes"
   ]
  },
  {
   "cell_type": "code",
   "execution_count": 41,
   "id": "affecting-extraction",
   "metadata": {},
   "outputs": [],
   "source": [
    "adata = sc.read('./write/EMTAB7365_lognorm.h5ad')"
   ]
  },
  {
   "cell_type": "code",
   "execution_count": 42,
   "id": "minute-scope",
   "metadata": {},
   "outputs": [],
   "source": [
    "cell_cycle_results = pd.read_csv('cell_cycle_results.txt', index_col=0)\n",
    "adata.obs = pd.concat([adata.obs, cell_cycle_results], axis=1)"
   ]
  },
  {
   "cell_type": "code",
   "execution_count": 43,
   "id": "geological-reduction",
   "metadata": {},
   "outputs": [
    {
     "data": {
      "text/html": [
       "<div>\n",
       "<style scoped>\n",
       "    .dataframe tbody tr th:only-of-type {\n",
       "        vertical-align: middle;\n",
       "    }\n",
       "\n",
       "    .dataframe tbody tr th {\n",
       "        vertical-align: top;\n",
       "    }\n",
       "\n",
       "    .dataframe thead th {\n",
       "        text-align: right;\n",
       "    }\n",
       "</style>\n",
       "<table border=\"1\" class=\"dataframe\">\n",
       "  <thead>\n",
       "    <tr style=\"text-align: right;\">\n",
       "      <th></th>\n",
       "      <th>batch</th>\n",
       "      <th>StudyID</th>\n",
       "      <th>Genotype</th>\n",
       "      <th>CellType</th>\n",
       "      <th>Age</th>\n",
       "      <th>Development_stage</th>\n",
       "      <th>Stain</th>\n",
       "      <th>Organism</th>\n",
       "      <th>Gender</th>\n",
       "      <th>Tissue</th>\n",
       "      <th>...</th>\n",
       "      <th>pct_counts_in_top_100_genes</th>\n",
       "      <th>pct_counts_in_top_200_genes</th>\n",
       "      <th>pct_counts_in_top_500_genes</th>\n",
       "      <th>total_counts_MT</th>\n",
       "      <th>log1p_total_counts_MT</th>\n",
       "      <th>pct_counts_MT</th>\n",
       "      <th>n_counts</th>\n",
       "      <th>phase</th>\n",
       "      <th>S_score</th>\n",
       "      <th>G2M_score</th>\n",
       "    </tr>\n",
       "  </thead>\n",
       "  <tbody>\n",
       "    <tr>\n",
       "      <th>SP_replicate1_cell_064</th>\n",
       "      <td>0</td>\n",
       "      <td>EMTAB7365</td>\n",
       "      <td>Pdgfra+/Sca1+/Cd31-</td>\n",
       "      <td>Fibroblasts</td>\n",
       "      <td>8</td>\n",
       "      <td>adult</td>\n",
       "      <td>C57BL/6J</td>\n",
       "      <td>Mus musculus</td>\n",
       "      <td>male</td>\n",
       "      <td>Cardiac ventricle</td>\n",
       "      <td>...</td>\n",
       "      <td>38.318184</td>\n",
       "      <td>51.639652</td>\n",
       "      <td>75.029908</td>\n",
       "      <td>36367.0</td>\n",
       "      <td>10.501445</td>\n",
       "      <td>1.059331</td>\n",
       "      <td>3433015.0</td>\n",
       "      <td>S</td>\n",
       "      <td>0.109186</td>\n",
       "      <td>-0.053810</td>\n",
       "    </tr>\n",
       "    <tr>\n",
       "      <th>SP_replicate1_cell_083</th>\n",
       "      <td>0</td>\n",
       "      <td>EMTAB7365</td>\n",
       "      <td>Pdgfra+/Sca1+/Cd31-</td>\n",
       "      <td>Fibroblasts</td>\n",
       "      <td>8</td>\n",
       "      <td>adult</td>\n",
       "      <td>C57BL/6J</td>\n",
       "      <td>Mus musculus</td>\n",
       "      <td>male</td>\n",
       "      <td>Cardiac ventricle</td>\n",
       "      <td>...</td>\n",
       "      <td>37.561832</td>\n",
       "      <td>50.764501</td>\n",
       "      <td>73.328301</td>\n",
       "      <td>36186.0</td>\n",
       "      <td>10.496455</td>\n",
       "      <td>1.385844</td>\n",
       "      <td>2611116.0</td>\n",
       "      <td>S</td>\n",
       "      <td>0.034482</td>\n",
       "      <td>-0.012640</td>\n",
       "    </tr>\n",
       "    <tr>\n",
       "      <th>SP_replicate1_cell_098</th>\n",
       "      <td>0</td>\n",
       "      <td>EMTAB7365</td>\n",
       "      <td>Pdgfra+/Sca1+/Cd31-</td>\n",
       "      <td>Fibroblasts</td>\n",
       "      <td>8</td>\n",
       "      <td>adult</td>\n",
       "      <td>C57BL/6J</td>\n",
       "      <td>Mus musculus</td>\n",
       "      <td>male</td>\n",
       "      <td>Cardiac ventricle</td>\n",
       "      <td>...</td>\n",
       "      <td>40.746176</td>\n",
       "      <td>54.510147</td>\n",
       "      <td>76.711473</td>\n",
       "      <td>24703.0</td>\n",
       "      <td>10.114720</td>\n",
       "      <td>0.942554</td>\n",
       "      <td>2620857.0</td>\n",
       "      <td>G2M</td>\n",
       "      <td>-0.245621</td>\n",
       "      <td>0.136052</td>\n",
       "    </tr>\n",
       "  </tbody>\n",
       "</table>\n",
       "<p>3 rows × 29 columns</p>\n",
       "</div>"
      ],
      "text/plain": [
       "                       batch    StudyID             Genotype     CellType  \\\n",
       "SP_replicate1_cell_064     0  EMTAB7365  Pdgfra+/Sca1+/Cd31-  Fibroblasts   \n",
       "SP_replicate1_cell_083     0  EMTAB7365  Pdgfra+/Sca1+/Cd31-  Fibroblasts   \n",
       "SP_replicate1_cell_098     0  EMTAB7365  Pdgfra+/Sca1+/Cd31-  Fibroblasts   \n",
       "\n",
       "                        Age Development_stage     Stain      Organism Gender  \\\n",
       "SP_replicate1_cell_064    8             adult  C57BL/6J  Mus musculus   male   \n",
       "SP_replicate1_cell_083    8             adult  C57BL/6J  Mus musculus   male   \n",
       "SP_replicate1_cell_098    8             adult  C57BL/6J  Mus musculus   male   \n",
       "\n",
       "                                   Tissue  ... pct_counts_in_top_100_genes  \\\n",
       "SP_replicate1_cell_064  Cardiac ventricle  ...                   38.318184   \n",
       "SP_replicate1_cell_083  Cardiac ventricle  ...                   37.561832   \n",
       "SP_replicate1_cell_098  Cardiac ventricle  ...                   40.746176   \n",
       "\n",
       "                       pct_counts_in_top_200_genes  \\\n",
       "SP_replicate1_cell_064                   51.639652   \n",
       "SP_replicate1_cell_083                   50.764501   \n",
       "SP_replicate1_cell_098                   54.510147   \n",
       "\n",
       "                       pct_counts_in_top_500_genes total_counts_MT  \\\n",
       "SP_replicate1_cell_064                   75.029908         36367.0   \n",
       "SP_replicate1_cell_083                   73.328301         36186.0   \n",
       "SP_replicate1_cell_098                   76.711473         24703.0   \n",
       "\n",
       "                        log1p_total_counts_MT  pct_counts_MT   n_counts  \\\n",
       "SP_replicate1_cell_064              10.501445       1.059331  3433015.0   \n",
       "SP_replicate1_cell_083              10.496455       1.385844  2611116.0   \n",
       "SP_replicate1_cell_098              10.114720       0.942554  2620857.0   \n",
       "\n",
       "                        phase   S_score  G2M_score  \n",
       "SP_replicate1_cell_064      S  0.109186  -0.053810  \n",
       "SP_replicate1_cell_083      S  0.034482  -0.012640  \n",
       "SP_replicate1_cell_098    G2M -0.245621   0.136052  \n",
       "\n",
       "[3 rows x 29 columns]"
      ]
     },
     "execution_count": 43,
     "metadata": {},
     "output_type": "execute_result"
    }
   ],
   "source": [
    "adata.obs.head(3)"
   ]
  },
  {
   "cell_type": "code",
   "execution_count": 44,
   "id": "processed-truck",
   "metadata": {},
   "outputs": [
    {
     "name": "stderr",
     "output_type": "stream",
     "text": [
      "extracting highly variable genes\n",
      "... storing 'phase' as categorical\n",
      "    finished (0:00:00)\n",
      "--> added\n",
      "    'highly_variable', boolean vector (adata.var)\n",
      "    'means', float vector (adata.var)\n",
      "    'dispersions', float vector (adata.var)\n",
      "    'dispersions_norm', float vector (adata.var)\n"
     ]
    }
   ],
   "source": [
    "# find highly variable genes\n",
    "# parameters are mainly selected depends on user preference\n",
    "sc.pp.highly_variable_genes(\n",
    "    adata, min_mean=0.02, max_mean=3, min_disp=0.3, batch_key='batch', inplace=True)"
   ]
  },
  {
   "cell_type": "code",
   "execution_count": 45,
   "id": "passing-conviction",
   "metadata": {},
   "outputs": [
    {
     "data": {
      "image/png": "[encoded data removed]",
      "text/plain": [
       "<Figure size 640x320 with 2 Axes>"
      ]
     },
     "metadata": {
      "needs_background": "light"
     },
     "output_type": "display_data"
    }
   ],
   "source": [
    "sc.pl.highly_variable_genes(adata)"
   ]
  },
  {
   "cell_type": "code",
   "execution_count": 46,
   "id": "stunning-equation",
   "metadata": {},
   "outputs": [
    {
     "name": "stdout",
     "output_type": "stream",
     "text": [
      "8228\n"
     ]
    }
   ],
   "source": [
    "print(np.sum(adata.var.highly_variable))"
   ]
  },
  {
   "cell_type": "code",
   "execution_count": 47,
   "id": "promising-fortune",
   "metadata": {},
   "outputs": [],
   "source": [
    "adata = adata[:, adata.var.highly_variable].copy()"
   ]
  },
  {
   "cell_type": "code",
   "execution_count": 48,
   "id": "innocent-entrance",
   "metadata": {},
   "outputs": [
    {
     "data": {
      "text/plain": [
       "(103, 8228)"
      ]
     },
     "execution_count": 48,
     "metadata": {},
     "output_type": "execute_result"
    }
   ],
   "source": [
    "adata.shape"
   ]
  },
  {
   "cell_type": "code",
   "execution_count": 49,
   "id": "critical-whale",
   "metadata": {},
   "outputs": [],
   "source": [
    "adata.write('./write/EMTAB7365_lognorm_hvg.h5ad')"
   ]
  },
  {
   "cell_type": "markdown",
   "id": "loaded-incentive",
   "metadata": {},
   "source": [
    "# Preliminary Processing"
   ]
  },
  {
   "cell_type": "code",
   "execution_count": 50,
   "id": "challenging-divide",
   "metadata": {},
   "outputs": [],
   "source": [
    "adata = sc.read('./write/EMTAB7365_lognorm_hvg.h5ad')"
   ]
  },
  {
   "cell_type": "code",
   "execution_count": 51,
   "id": "indian-cooper",
   "metadata": {},
   "outputs": [
    {
     "name": "stdout",
     "output_type": "stream",
     "text": [
      "['batch', 'StudyID', 'Genotype', 'CellType', 'Age', 'Development_stage', 'Stain', 'Organism', 'Gender', 'Tissue', 'Condition', 'Batch', 'ERR', 'QC', 'n_genes_by_counts', 'log1p_n_genes_by_counts', 'total_counts', 'log1p_total_counts', 'pct_counts_in_top_50_genes', 'pct_counts_in_top_100_genes', 'pct_counts_in_top_200_genes', 'pct_counts_in_top_500_genes', 'total_counts_MT', 'log1p_total_counts_MT', 'pct_counts_MT', 'n_counts', 'phase', 'S_score', 'G2M_score']\n"
     ]
    }
   ],
   "source": [
    "print(adata.obs_keys())"
   ]
  },
  {
   "cell_type": "code",
   "execution_count": 52,
   "id": "acquired-court",
   "metadata": {},
   "outputs": [
    {
     "name": "stderr",
     "output_type": "stream",
     "text": [
      "regressing out ['total_counts', 'n_genes_by_counts', 'pct_counts_MT']\n",
      "    finished (0:00:13)\n"
     ]
    }
   ],
   "source": [
    "# normally regress out the top layers of unwanted effects\n",
    "sc.pp.regress_out(adata, ['total_counts','n_genes_by_counts', 'pct_counts_MT'])"
   ]
  },
  {
   "cell_type": "code",
   "execution_count": 53,
   "id": "subtle-radio",
   "metadata": {},
   "outputs": [
    {
     "name": "stderr",
     "output_type": "stream",
     "text": [
      "computing PCA\n",
      "    on highly variable genes\n",
      "    with n_comps=50\n",
      "    finished (0:00:00)\n"
     ]
    }
   ],
   "source": [
    "# scale for pca\n",
    "sc.pp.scale(adata)\n",
    "# pca\n",
    "sc.tl.pca(adata, svd_solver='arpack')"
   ]
  },
  {
   "cell_type": "code",
   "execution_count": 54,
   "id": "urban-union",
   "metadata": {},
   "outputs": [
    {
     "data": {
      "image/png": "[encoded data removed]",
      "text/plain": [
       "<Figure size 320x320 with 1 Axes>"
      ]
     },
     "metadata": {
      "needs_background": "light"
     },
     "output_type": "display_data"
    }
   ],
   "source": [
    "sc.pl.pca_variance_ratio(adata, log=True)"
   ]
  },
  {
   "cell_type": "code",
   "execution_count": 55,
   "id": "assumed-korean",
   "metadata": {},
   "outputs": [
    {
     "name": "stderr",
     "output_type": "stream",
     "text": [
      "computing neighbors\n",
      "    using 'X_pca' with n_pcs = 10\n",
      "    finished: added to `.uns['neighbors']`\n",
      "    `.obsp['distances']`, distances for each pair of neighbors\n",
      "    `.obsp['connectivities']`, weighted adjacency matrix (0:00:02)\n"
     ]
    }
   ],
   "source": [
    "sc.pp.neighbors(adata, n_neighbors=5, n_pcs=10)"
   ]
  },
  {
   "cell_type": "code",
   "execution_count": 56,
   "id": "effective-resident",
   "metadata": {},
   "outputs": [
    {
     "name": "stderr",
     "output_type": "stream",
     "text": [
      "computing UMAP\n",
      "    finished: added\n",
      "    'X_umap', UMAP coordinates (adata.obsm) (0:00:00)\n"
     ]
    }
   ],
   "source": [
    "sc.tl.umap(adata)"
   ]
  },
  {
   "cell_type": "code",
   "execution_count": 57,
   "id": "underlying-trouble",
   "metadata": {},
   "outputs": [
    {
     "data": {
      "image/png": "[encoded data removed]",
      "text/plain": [
       "<Figure size 772.8x320 with 2 Axes>"
      ]
     },
     "metadata": {},
     "output_type": "display_data"
    }
   ],
   "source": [
    "sc.pl.umap(adata, color= ['batch', 'phase'])"
   ]
  },
  {
   "cell_type": "code",
   "execution_count": 89,
   "id": "sharing-stranger",
   "metadata": {},
   "outputs": [
    {
     "data": {
      "text/plain": [
       "AnnData object with n_obs × n_vars = 103 × 8228\n",
       "    obs: 'batch', 'StudyID', 'Genotype', 'CellType', 'Age', 'Development_stage', 'Organism', 'Gender', 'Tissue', 'Condition', 'Batch', 'ERR', 'QC', 'n_genes_by_counts', 'log1p_n_genes_by_counts', 'total_counts', 'log1p_total_counts', 'pct_counts_in_top_50_genes', 'pct_counts_in_top_100_genes', 'pct_counts_in_top_200_genes', 'pct_counts_in_top_500_genes', 'total_counts_MT', 'log1p_total_counts_MT', 'pct_counts_MT', 'n_counts', 'phase', 'S_score', 'G2M_score', 'Strain', 'Day', 'Index'\n",
       "    var: 'MT', 'n_cells_by_counts', 'mean_counts', 'log1p_mean_counts', 'pct_dropout_by_counts', 'total_counts', 'log1p_total_counts', 'n_cells', 'highly_variable', 'means', 'dispersions', 'dispersions_norm', 'highly_variable_nbatches', 'highly_variable_intersection', 'mean', 'std'\n",
       "    uns: 'batch_colors', 'hvg', 'neighbors', 'pca', 'phase_colors', 'umap'\n",
       "    obsm: 'X_pca', 'X_umap'\n",
       "    varm: 'PCs'\n",
       "    obsp: 'connectivities', 'distances'"
      ]
     },
     "execution_count": 89,
     "metadata": {},
     "output_type": "execute_result"
    }
   ],
   "source": [
    "adata"
   ]
  },
  {
   "cell_type": "code",
   "execution_count": 62,
   "id": "incomplete-bathroom",
   "metadata": {},
   "outputs": [],
   "source": [
    "adata.write('./write/EMTAB7365_processed.h5ad')"
   ]
  },
  {
   "cell_type": "markdown",
   "id": "superb-compromise",
   "metadata": {},
   "source": [
    "# Further modify"
   ]
  },
  {
   "cell_type": "code",
   "execution_count": 63,
   "id": "numerical-heritage",
   "metadata": {},
   "outputs": [],
   "source": [
    "adata = sc.read('./write/EMTAB7365_processed.h5ad')"
   ]
  },
  {
   "cell_type": "code",
   "execution_count": 65,
   "id": "breathing-barrier",
   "metadata": {},
   "outputs": [],
   "source": [
    "adata.obs['Day'] = 0"
   ]
  },
  {
   "cell_type": "code",
   "execution_count": 67,
   "id": "controlling-trial",
   "metadata": {},
   "outputs": [],
   "source": [
    "adata.obs['Age'] = adata.obs['Age'].astype(int)"
   ]
  },
  {
   "cell_type": "code",
   "execution_count": 69,
   "id": "hourly-citizenship",
   "metadata": {},
   "outputs": [
    {
     "data": {
      "text/plain": [
       "adult    103\n",
       "Name: Development_stage, dtype: int64"
      ]
     },
     "execution_count": 69,
     "metadata": {},
     "output_type": "execute_result"
    }
   ],
   "source": [
    "adata.obs['Development_stage'].value_counts()"
   ]
  },
  {
   "cell_type": "code",
   "execution_count": 70,
   "id": "concrete-ivory",
   "metadata": {},
   "outputs": [
    {
     "data": {
      "text/plain": [
       "Pdgfra+/Sca1+/Cd31-    103\n",
       "Name: Genotype, dtype: int64"
      ]
     },
     "execution_count": 70,
     "metadata": {},
     "output_type": "execute_result"
    }
   ],
   "source": [
    "adata.obs['Genotype'].value_counts()"
   ]
  },
  {
   "cell_type": "code",
   "execution_count": 71,
   "id": "removable-spelling",
   "metadata": {},
   "outputs": [
    {
     "data": {
      "text/plain": [
       "Fibroblasts    103\n",
       "Name: CellType, dtype: int64"
      ]
     },
     "execution_count": 71,
     "metadata": {},
     "output_type": "execute_result"
    }
   ],
   "source": [
    "adata.obs['CellType'].value_counts()"
   ]
  },
  {
   "cell_type": "code",
   "execution_count": 72,
   "id": "killing-persian",
   "metadata": {},
   "outputs": [
    {
     "data": {
      "text/plain": [
       "EMTAB7365    103\n",
       "Name: StudyID, dtype: int64"
      ]
     },
     "execution_count": 72,
     "metadata": {},
     "output_type": "execute_result"
    }
   ],
   "source": [
    "adata.obs['StudyID'].value_counts()"
   ]
  },
  {
   "cell_type": "code",
   "execution_count": 73,
   "id": "single-mouse",
   "metadata": {},
   "outputs": [
    {
     "data": {
      "text/plain": [
       "ERR2868971    1\n",
       "ERR2868954    1\n",
       "ERR2868997    1\n",
       "ERR2869033    1\n",
       "ERR2868964    1\n",
       "             ..\n",
       "ERR2869036    1\n",
       "ERR2868983    1\n",
       "ERR2868949    1\n",
       "ERR2868961    1\n",
       "ERR2868972    1\n",
       "Name: ERR, Length: 103, dtype: int64"
      ]
     },
     "execution_count": 73,
     "metadata": {},
     "output_type": "execute_result"
    }
   ],
   "source": [
    "adata.obs['ERR'].value_counts()"
   ]
  },
  {
   "cell_type": "code",
   "execution_count": 75,
   "id": "convertible-computer",
   "metadata": {},
   "outputs": [],
   "source": [
    "adata.obs['Index'] = adata.obs['Batch']"
   ]
  },
  {
   "cell_type": "code",
   "execution_count": 76,
   "id": "consolidated-restoration",
   "metadata": {},
   "outputs": [
    {
     "data": {
      "text/plain": [
       "EMTAB7365_B1    52\n",
       "EMTAB7365_B2    51\n",
       "Name: Index, dtype: int64"
      ]
     },
     "execution_count": 76,
     "metadata": {},
     "output_type": "execute_result"
    }
   ],
   "source": [
    "adata.obs['Index'].value_counts()"
   ]
  },
  {
   "cell_type": "code",
   "execution_count": 77,
   "id": "attempted-panel",
   "metadata": {},
   "outputs": [
    {
     "data": {
      "text/plain": [
       "Cardiac ventricle    103\n",
       "Name: Tissue, dtype: int64"
      ]
     },
     "execution_count": 77,
     "metadata": {},
     "output_type": "execute_result"
    }
   ],
   "source": [
    "adata.obs['Tissue'].value_counts()"
   ]
  },
  {
   "cell_type": "code",
   "execution_count": 79,
   "id": "bizarre-slovakia",
   "metadata": {},
   "outputs": [],
   "source": [
    "adata.obs['Tissue'] = 'ventricle'"
   ]
  },
  {
   "cell_type": "code",
   "execution_count": 80,
   "id": "entitled-polls",
   "metadata": {},
   "outputs": [
    {
     "data": {
      "text/plain": [
       "ventricle    103\n",
       "Name: Tissue, dtype: int64"
      ]
     },
     "execution_count": 80,
     "metadata": {},
     "output_type": "execute_result"
    }
   ],
   "source": [
    "adata.obs['Tissue'].value_counts()"
   ]
  },
  {
   "cell_type": "code",
   "execution_count": 78,
   "id": "infrared-biography",
   "metadata": {},
   "outputs": [
    {
     "data": {
      "text/plain": [
       "Normal    103\n",
       "Name: Condition, dtype: int64"
      ]
     },
     "execution_count": 78,
     "metadata": {},
     "output_type": "execute_result"
    }
   ],
   "source": [
    "adata.obs['Condition'].value_counts()"
   ]
  },
  {
   "cell_type": "code",
   "execution_count": 81,
   "id": "downtown-pakistan",
   "metadata": {},
   "outputs": [
    {
     "name": "stderr",
     "output_type": "stream",
     "text": [
      "... storing 'Tissue' as categorical\n"
     ]
    }
   ],
   "source": [
    "adata.write('./write/EMTAB7365_processed.h5ad')"
   ]
  },
  {
   "cell_type": "code",
   "execution_count": null,
   "id": "suburban-refund",
   "metadata": {},
   "outputs": [],
   "source": []
  },
  {
   "cell_type": "code",
   "execution_count": null,
   "id": "martial-postcard",
   "metadata": {},
   "outputs": [],
   "source": []
  },
  {
   "cell_type": "code",
   "execution_count": null,
   "id": "exclusive-venue",
   "metadata": {},
   "outputs": [],
   "source": []
  }
 ],
 "metadata": {
  "kernelspec": {
   "display_name": "Python 3",
   "language": "python",
   "name": "python3"
  },
  "language_info": {
   "codemirror_mode": {
    "name": "ipython",
    "version": 3
   },
   "file_extension": ".py",
   "mimetype": "text/x-python",
   "name": "python",
   "nbconvert_exporter": "python",
   "pygments_lexer": "ipython3",
   "version": "3.6.8"
  }
 },
 "nbformat": 4,
 "nbformat_minor": 5
}
